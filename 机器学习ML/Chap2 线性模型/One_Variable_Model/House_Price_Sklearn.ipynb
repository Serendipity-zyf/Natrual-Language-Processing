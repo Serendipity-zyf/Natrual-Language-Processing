{
 "cells": [
  {
   "cell_type": "code",
   "execution_count": 10,
   "metadata": {},
   "outputs": [],
   "source": [
    "import pandas as pd\n",
    "import numpy  as np\n",
    "from sklearn import linear_model, metrics\n",
    "from Linear_Regression import Linear_Regression_One_Variable"
   ]
  },
  {
   "cell_type": "code",
   "execution_count": 3,
   "metadata": {},
   "outputs": [],
   "source": [
    "# 加载数据\n",
    "data = Linear_Regression_One_Variable()\n",
    "data.dataloader(\"../../dataset/House_price_data.csv\")"
   ]
  },
  {
   "cell_type": "code",
   "execution_count": 9,
   "metadata": {},
   "outputs": [
    {
     "data": {
      "text/plain": [
       "LinearRegression()"
      ]
     },
     "execution_count": 9,
     "metadata": {},
     "output_type": "execute_result"
    }
   ],
   "source": [
    "# 建立线性模型\n",
    "regr = linear_model.LinearRegression()\n",
    "# 由于 X 参数只接受二维数组，要进行变化\n",
    "data.train_X = data.train_X.reshape(data.train_X.shape[0], 1)\n",
    "# 数据拟合\n",
    "regr.fit(data.train_X, data.train_Y)"
   ]
  },
  {
   "cell_type": "code",
   "execution_count": 12,
   "metadata": {},
   "outputs": [],
   "source": [
    "# 为了求解R2值，计算预测值\n",
    "Y_pred = regr.predict(data.train_X)\n",
    "R2_score = metrics.r2_score(data.train_Y, Y_pred)"
   ]
  },
  {
   "cell_type": "code",
   "execution_count": 20,
   "metadata": {},
   "outputs": [
    {
     "name": "stdout",
     "output_type": "stream",
     "text": [
      "回归系数w = 28.78，偏置项 b = 1772\n",
      "R方：0.9447\n"
     ]
    }
   ],
   "source": [
    "print(\"回归系数w = {:.2f}，偏置项 b = {:.0f}\".format(regr.coef_[0], regr.intercept_))\n",
    "print(\"R方：{:.4f}\".format(R2_score))"
   ]
  }
 ],
 "metadata": {
  "interpreter": {
   "hash": "a43ba2c6c99d8dff562482c94ecd765de62e11c6497bbdbebc81a1ee2d1f4836"
  },
  "kernelspec": {
   "display_name": "Python 3.9.7 64-bit ('base': conda)",
   "language": "python",
   "name": "python3"
  },
  "language_info": {
   "codemirror_mode": {
    "name": "ipython",
    "version": 3
   },
   "file_extension": ".py",
   "mimetype": "text/x-python",
   "name": "python",
   "nbconvert_exporter": "python",
   "pygments_lexer": "ipython3",
   "version": "3.9.7"
  },
  "orig_nbformat": 4
 },
 "nbformat": 4,
 "nbformat_minor": 2
}
