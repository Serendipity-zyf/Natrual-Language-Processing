{
 "cells": [
  {
   "cell_type": "code",
   "execution_count": 1,
   "metadata": {},
   "outputs": [],
   "source": [
    "from Linear_Regression import Linear_Regression_One_Variable"
   ]
  },
  {
   "cell_type": "code",
   "execution_count": 2,
   "metadata": {},
   "outputs": [],
   "source": [
    "csv_file_name = '../../dataset/House_price_data.csv'\n",
    "linear_regression = Linear_Regression_One_Variable()\n",
    "linear_regression.dataloader(csv_file_name)"
   ]
  },
  {
   "cell_type": "code",
   "execution_count": 3,
   "metadata": {},
   "outputs": [
    {
     "data": {
      "text/plain": [
       "134285.71428571426"
      ]
     },
     "execution_count": 3,
     "metadata": {},
     "output_type": "execute_result"
    }
   ],
   "source": [
    "linear_regression.statistical_magnitude()\n",
    "linear_regression.Sxx"
   ]
  },
  {
   "cell_type": "code",
   "execution_count": 4,
   "metadata": {},
   "outputs": [],
   "source": [
    "(w, b) = linear_regression.regression_coefs()"
   ]
  },
  {
   "cell_type": "code",
   "execution_count": 5,
   "metadata": {},
   "outputs": [
    {
     "name": "stdout",
     "output_type": "stream",
     "text": [
      "回归系数 w = 28.78， 偏置项 b = 1772\n",
      "R方值：0.9447\n"
     ]
    }
   ],
   "source": [
    "print(\"回归系数 w = {:.2f}， 偏置项 b = {:.0f}\".format(w, b))\n",
    "print(\"R方值：{:.4f}\".format(linear_regression.r2_Score))"
   ]
  }
 ],
 "metadata": {
  "interpreter": {
   "hash": "a43ba2c6c99d8dff562482c94ecd765de62e11c6497bbdbebc81a1ee2d1f4836"
  },
  "kernelspec": {
   "display_name": "Python 3.9.7 64-bit ('base': conda)",
   "language": "python",
   "name": "python3"
  },
  "language_info": {
   "codemirror_mode": {
    "name": "ipython",
    "version": 3
   },
   "file_extension": ".py",
   "mimetype": "text/x-python",
   "name": "python",
   "nbconvert_exporter": "python",
   "pygments_lexer": "ipython3",
   "version": "3.9.7"
  },
  "orig_nbformat": 4
 },
 "nbformat": 4,
 "nbformat_minor": 2
}
