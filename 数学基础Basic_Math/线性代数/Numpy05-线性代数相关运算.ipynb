{
 "cells": [
  {
   "cell_type": "markdown",
   "id": "efebb094",
   "metadata": {},
   "source": [
    "# 线性代数 Linear  Algebra"
   ]
  },
  {
   "cell_type": "code",
   "execution_count": 21,
   "id": "323d1ce7",
   "metadata": {
    "ExecuteTime": {
     "end_time": "2021-11-15T04:00:12.922807Z",
     "start_time": "2021-11-15T04:00:12.918138Z"
    }
   },
   "outputs": [],
   "source": [
    "import numpy as np"
   ]
  },
  {
   "cell_type": "markdown",
   "id": "1185b778",
   "metadata": {},
   "source": [
    "## 矩阵Matrix的创建\n",
    "* 矩阵和数组虽然在形式上很像，但矩阵是数学上的概念，而数组只是一一种数据存储方式，二者还是有本质区别的。例如，矩阵只能包含数字，而数组可以包含任意类型的数据;矩阵必须是二维的，数组可以是任意维的;乘法、幂运算等很多运算的规则在矩阵与数组中也不一样。numpy中提供了matrix()函数可以用来把列表、元组、range等对象转换为矩阵。"
   ]
  },
  {
   "cell_type": "code",
   "execution_count": 22,
   "id": "caafcba9",
   "metadata": {
    "ExecuteTime": {
     "end_time": "2021-11-14T14:24:22.824245Z",
     "start_time": "2021-11-14T14:24:22.818506Z"
    }
   },
   "outputs": [],
   "source": [
    "X = np.matrix([[1, 2, 3],\n",
    "               [4, 5, 6]])\n",
    "Y = np.matrix([[1, 2, 3, 4, 5, 6]])"
   ]
  },
  {
   "cell_type": "code",
   "execution_count": 23,
   "id": "5968cd6f",
   "metadata": {
    "ExecuteTime": {
     "end_time": "2021-11-14T14:24:23.087495Z",
     "start_time": "2021-11-14T14:24:23.083823Z"
    }
   },
   "outputs": [
    {
     "data": {
      "text/plain": [
       "5"
      ]
     },
     "execution_count": 23,
     "metadata": {},
     "output_type": "execute_result"
    }
   ],
   "source": [
    "# 矩阵元素的访问：实际上是第二行第二列\n",
    "X[1, 1]"
   ]
  },
  {
   "cell_type": "markdown",
   "id": "390f22b7",
   "metadata": {
    "ExecuteTime": {
     "end_time": "2021-11-14T14:01:32.053233Z",
     "start_time": "2021-11-14T14:01:32.049250Z"
    }
   },
   "source": [
    "## 矩阵的转置"
   ]
  },
  {
   "cell_type": "code",
   "execution_count": 24,
   "id": "623a8786",
   "metadata": {
    "ExecuteTime": {
     "end_time": "2021-11-14T14:24:23.673942Z",
     "start_time": "2021-11-14T14:24:23.668177Z"
    }
   },
   "outputs": [
    {
     "data": {
      "text/plain": [
       "matrix([[1, 4],\n",
       "        [2, 5],\n",
       "        [3, 6]])"
      ]
     },
     "execution_count": 24,
     "metadata": {},
     "output_type": "execute_result"
    }
   ],
   "source": [
    "X.T"
   ]
  },
  {
   "cell_type": "code",
   "execution_count": 25,
   "id": "87824dbb",
   "metadata": {
    "ExecuteTime": {
     "end_time": "2021-11-14T14:24:24.060049Z",
     "start_time": "2021-11-14T14:24:24.055522Z"
    }
   },
   "outputs": [
    {
     "data": {
      "text/plain": [
       "matrix([[1],\n",
       "        [2],\n",
       "        [3],\n",
       "        [4],\n",
       "        [5],\n",
       "        [6]])"
      ]
     },
     "execution_count": 25,
     "metadata": {},
     "output_type": "execute_result"
    }
   ],
   "source": [
    "Y.T"
   ]
  },
  {
   "cell_type": "markdown",
   "id": "70fb26d7",
   "metadata": {},
   "source": [
    "## 矩阵的相关特征\n",
    "* 这里的矩阵特征主要指矩阵的最大值、最小值、元素求和、平均值等，扩展库numpy中的矩阵提供了相应的max()、min()、mean()、sum()等方法。在大部分的矩阵方法中，都支持用参数axis来指定计算方向，axis=1 表示横向计算，axis=0表示纵向计算。若不指定axis的值，默认将矩阵铺平后，对所有元素进行相应的函数操作。"
   ]
  },
  {
   "cell_type": "code",
   "execution_count": 27,
   "id": "01581e05",
   "metadata": {
    "ExecuteTime": {
     "end_time": "2021-11-14T14:24:45.514483Z",
     "start_time": "2021-11-14T14:24:45.507421Z"
    }
   },
   "outputs": [
    {
     "name": "stdout",
     "output_type": "stream",
     "text": [
      "矩阵x所有元素的平均数： 3.5\n",
      "矩阵x各行的元素的平均数： [[2.5 3.5 4.5]]\n",
      "矩阵x各列的元素的平均数：\n",
      "[[2.]\n",
      " [5.]]\n",
      "矩阵x所有元素的和： 21\n",
      "矩阵x各列的元素最大值的下标：\n",
      "[[2]\n",
      " [2]]\n",
      "矩阵x各行的元素的最小值： [[1 2 3]]\n",
      "矩阵x对角线元素： [[1 5]]\n",
      "矩阵x非零元素下标： (array([0, 0, 0, 1, 1, 1]), array([0, 1, 2, 0, 1, 2]))\n"
     ]
    }
   ],
   "source": [
    "print(\"矩阵x所有元素的平均数：\", X.mean())\n",
    "print(\"矩阵x各行的元素的平均数：\", X.mean(axis=0))\n",
    "print(\"矩阵x各列的元素的平均数：\", X.mean(axis=1), sep='\\n')\n",
    "print(\"矩阵x所有元素的和：\", X.sum())\n",
    "print(\"矩阵x各列的元素最大值的下标：\", X.argmax(axis=1), sep='\\n')\n",
    "print(\"矩阵x各行的元素的最小值：\", X.min(axis=0))\n",
    "print(\"矩阵x对角线元素：\", X.diagonal())\n",
    "print(\"矩阵x非零元素下标：\", X.nonzero())"
   ]
  },
  {
   "cell_type": "markdown",
   "id": "61b61ee0",
   "metadata": {},
   "source": [
    "## 矩阵乘法\n",
    "* 对于一个$m \\times p$的矩阵$X=(x_{ij})_{i,j=1}^{m, p}$，和一个$p \\times n$的矩阵$Y=(y_{ij})_{i,j=1}^{p, n}$，它们的乘积是一个$m \\times n$的矩阵$Z=(z_{ij})_{i,j=1}^{m, n}$，计算公式：\n",
    "$$\n",
    "z_{ij}=\\sum_{k=1}^p x_{ik}y{kj}\n",
    "$$\n",
    "\n",
    "* Python中matrix属性的变量X， Y可以直接使用*进行矩阵乘法的运算"
   ]
  },
  {
   "cell_type": "code",
   "execution_count": 28,
   "id": "b48b532b",
   "metadata": {
    "ExecuteTime": {
     "end_time": "2021-11-14T14:24:53.921014Z",
     "start_time": "2021-11-14T14:24:53.915426Z"
    }
   },
   "outputs": [
    {
     "name": "stdout",
     "output_type": "stream",
     "text": [
      "X= [[1 2 3]\n",
      " [4 5 6]]\n",
      "Y= [[1 2]\n",
      " [2 1]\n",
      " [1 1]]\n"
     ]
    },
    {
     "data": {
      "text/plain": [
       "matrix([[ 8,  7],\n",
       "        [20, 19]])"
      ]
     },
     "execution_count": 28,
     "metadata": {},
     "output_type": "execute_result"
    }
   ],
   "source": [
    "Y = np.matrix([[1, 2], [2, 1], [1, 1]])\n",
    "print(\"X=\", X)\n",
    "print(\"Y=\", Y)\n",
    "X * Y"
   ]
  },
  {
   "cell_type": "markdown",
   "id": "6527354c",
   "metadata": {},
   "source": [
    "## 计算特征值与特征向量\n",
    "* 对于$n \\times n$的方阵A，如果存在标量$\\lambda$和$n$维非零向量$\\vec x$，使得$A\\vec x =\\lambda \\vec x$，成立，那么称$\\lambda$是方阵$A$的一个特征值，$\\vec x$为对应于$\\lambda$的特征向量。\n",
    "\n",
    "* 从几何意义上来看，矩阵乘以一个向量，是对这个向量进行了一个变换，从一个坐标系换到另一个坐标系。 在变换过程中，向量主要进行旋转和缩放这两种变化。如果矩阵乘以一个向量之后，向量只发生了缩放变化而没有进行旋转，那么这个向量本身就是该矩阵的一个特征向量，缩放的比例就是特征值。或者说，特征向量是对向量进行旋转之后理想的坐标轴之一，而特征值则是原向量在该坐标轴上的投影或者该坐标轴对原向量的贡献。特征值越大，表示这个坐标轴对原向量的表达越重要，原向量在这个坐标轴上的投影越大。一个矩阵的所有特征向量组成了该矩阵的一组基，也就是新坐标系中的轴。有了特征值和特征向量之后， 向量就可以在另一个坐标系中进行表示。\n",
    "\n",
    "* 扩展库numpy的线性代数子模块linalg中提供了用来计算特征值与特征向量的eig()函数，参数可以是Python列表、扩展库numpy中的数组或扩展库numpy中的矩阵。"
   ]
  },
  {
   "cell_type": "code",
   "execution_count": 12,
   "id": "baeb003e",
   "metadata": {
    "ExecuteTime": {
     "end_time": "2021-11-15T01:38:39.468128Z",
     "start_time": "2021-11-15T01:38:39.462503Z"
    }
   },
   "outputs": [
    {
     "data": {
      "text/plain": [
       "array([ 4., -2., -2.])"
      ]
     },
     "execution_count": 12,
     "metadata": {},
     "output_type": "execute_result"
    }
   ],
   "source": [
    "A = np.array([[1, -3, 3],\n",
    "              [3, -5, 3],\n",
    "              [6, -6, 4]])\n",
    "eigenvalues, eigenvectors = np.linalg.eig(A)\n",
    "# 特征值\n",
    "eigenvalues"
   ]
  },
  {
   "cell_type": "code",
   "execution_count": 13,
   "id": "9934ac99",
   "metadata": {
    "ExecuteTime": {
     "end_time": "2021-11-15T01:38:39.745345Z",
     "start_time": "2021-11-15T01:38:39.739497Z"
    }
   },
   "outputs": [
    {
     "data": {
      "text/plain": [
       "array([[-0.40824829, -0.40824829, -0.1846118 ],\n",
       "       [-0.40824829,  0.40824829, -0.78110113],\n",
       "       [-0.81649658,  0.81649658, -0.59648932]])"
      ]
     },
     "execution_count": 13,
     "metadata": {},
     "output_type": "execute_result"
    }
   ],
   "source": [
    "# 特征向量\n",
    "eigenvectors"
   ]
  },
  {
   "cell_type": "code",
   "execution_count": 14,
   "id": "8623ef23",
   "metadata": {
    "ExecuteTime": {
     "end_time": "2021-11-15T01:38:40.178727Z",
     "start_time": "2021-11-15T01:38:40.172984Z"
    }
   },
   "outputs": [
    {
     "data": {
      "text/plain": [
       "array([[-1.63299316,  0.81649658,  0.36922361],\n",
       "       [-1.63299316, -0.81649658,  1.56220225],\n",
       "       [-3.26598632, -1.63299316,  1.19297865]])"
      ]
     },
     "execution_count": 14,
     "metadata": {},
     "output_type": "execute_result"
    }
   ],
   "source": [
    "# 验证一下\n",
    "np.dot(A, eigenvectors)"
   ]
  },
  {
   "cell_type": "code",
   "execution_count": 15,
   "id": "aef42adf",
   "metadata": {
    "ExecuteTime": {
     "end_time": "2021-11-15T01:38:44.237704Z",
     "start_time": "2021-11-15T01:38:44.232848Z"
    }
   },
   "outputs": [
    {
     "data": {
      "text/plain": [
       "array([[-1.63299316,  0.81649658,  0.36922361],\n",
       "       [-1.63299316, -0.81649658,  1.56220225],\n",
       "       [-3.26598632, -1.63299316,  1.19297865]])"
      ]
     },
     "execution_count": 15,
     "metadata": {},
     "output_type": "execute_result"
    }
   ],
   "source": [
    "# 每一列对应相乘\n",
    "eigenvalues * eigenvectors"
   ]
  },
  {
   "cell_type": "markdown",
   "id": "72b42c44",
   "metadata": {},
   "source": [
    "## 逆矩阵的计算\n",
    "* 对于一个$n \\times n$的方阵\n",
    "$$A=(a_{ij})_{i,j=1}^{n, n}$$\n",
    "如果存在另一个$n \\times n$的方阵\n",
    "$$B=(b_{ij})_{i,j=1}^{n, n}$$<br />\n",
    "使得二者的乘积为单位矩阵，即：$A \\cdot B = B \\cdot A = I$。那么责称方阵$A$是可逆矩阵或者非奇异矩阵，称方阵$B$是方阵$A$的逆矩阵，记为：$B = A^{-1}$。可逆矩阵的行列式不为0。\n",
    "\n",
    "\n",
    "* 扩展库numpy的线性代数子模块linalg中提供了用来计算方阵的逆inv()函数，参数可以是Python列表、扩展库numpy中的数组或扩展库numpy中的矩阵。"
   ]
  },
  {
   "cell_type": "code",
   "execution_count": 11,
   "id": "6f9af026",
   "metadata": {
    "ExecuteTime": {
     "end_time": "2021-11-15T01:38:11.636725Z",
     "start_time": "2021-11-15T01:38:11.630015Z"
    }
   },
   "outputs": [
    {
     "data": {
      "text/plain": [
       "matrix([[-1.77777778,  0.88888889, -0.11111111],\n",
       "        [ 1.55555556, -0.77777778,  0.22222222],\n",
       "        [-0.11111111,  0.22222222, -0.11111111]])"
      ]
     },
     "execution_count": 11,
     "metadata": {},
     "output_type": "execute_result"
    }
   ],
   "source": [
    "C = np.matrix([[1, 2, 3],\n",
    "               [4, 5, 6],\n",
    "               [7, 8, 0]])\n",
    "C_inv = np.linalg.inv(C)\n",
    "C_inv"
   ]
  },
  {
   "cell_type": "code",
   "execution_count": 16,
   "id": "d1ffd434",
   "metadata": {
    "ExecuteTime": {
     "end_time": "2021-11-15T01:38:57.805589Z",
     "start_time": "2021-11-15T01:38:57.800933Z"
    }
   },
   "outputs": [
    {
     "data": {
      "text/plain": [
       "matrix([[ 1.00000000e+00, -1.11022302e-16,  0.00000000e+00],\n",
       "        [ 8.32667268e-17,  1.00000000e+00,  2.22044605e-16],\n",
       "        [ 6.93889390e-17,  0.00000000e+00,  1.00000000e+00]])"
      ]
     },
     "execution_count": 16,
     "metadata": {},
     "output_type": "execute_result"
    }
   ],
   "source": [
    "C_inv * C"
   ]
  },
  {
   "cell_type": "code",
   "execution_count": 17,
   "id": "d3c59b2f",
   "metadata": {
    "ExecuteTime": {
     "end_time": "2021-11-15T01:39:04.673542Z",
     "start_time": "2021-11-15T01:39:04.668783Z"
    }
   },
   "outputs": [
    {
     "data": {
      "text/plain": [
       "matrix([[ 1.00000000e+00,  5.55111512e-17,  1.38777878e-17],\n",
       "        [ 5.55111512e-17,  1.00000000e+00,  2.77555756e-17],\n",
       "        [ 1.77635684e-15, -8.88178420e-16,  1.00000000e+00]])"
      ]
     },
     "execution_count": 17,
     "metadata": {},
     "output_type": "execute_result"
    }
   ],
   "source": [
    "C * C_inv"
   ]
  },
  {
   "cell_type": "code",
   "execution_count": 20,
   "id": "c045558d",
   "metadata": {
    "ExecuteTime": {
     "end_time": "2021-11-15T01:40:33.449286Z",
     "start_time": "2021-11-15T01:40:33.444231Z"
    }
   },
   "outputs": [
    {
     "data": {
      "text/plain": [
       "array([[1, 0, 0],\n",
       "       [0, 1, 0],\n",
       "       [0, 0, 1]])"
      ]
     },
     "execution_count": 20,
     "metadata": {},
     "output_type": "execute_result"
    }
   ],
   "source": [
    "np.where(np.abs(C * C_inv) < 1e-10, 0, 1)"
   ]
  },
  {
   "cell_type": "markdown",
   "id": "8fceef87",
   "metadata": {
    "ExecuteTime": {
     "end_time": "2021-11-15T01:40:14.247352Z",
     "start_time": "2021-11-15T01:40:14.244726Z"
    }
   },
   "source": [
    "## 求解线性方程组\n",
    "* 线性方程组\n",
    "$$\n",
    "\\begin{cases}\n",
    "a_{11}x_1 + a_{12}x_2+\\cdots + a_{1n}x_n = b_1\\\\\n",
    "a_{21}x_1 + a_{22}x_2+\\cdots + a_{2n}x_n = b_2\\\\\n",
    "\\quad\\quad\\quad\\quad\\quad\\quad\\vdots\\\\\n",
    "a_{n1}x_1 + a_{n2}x_2+\\cdots + a_{nn}x_n = b_n\\\\\n",
    "\\end{cases}\n",
    "$$<br />\n",
    "可以写作矩阵相乘的形式：$Ax=b$，$A$是$n \\times n$的矩阵，$x$和$b$是$n \\times 1$的列向量。<br />\n",
    "那么，若$A$可逆，则方程的解可以表示为：$\\vec x=A^{-1}b$\n",
    "\n",
    "\n",
    "* 在线性方程的求解或是数据曲线拟合中，利用**最小二乘法**求得的解则被称为**最小二乘解**。**最小二乘法**（又称最小平方法）是一种数学优化技术，它通过最小化误差的平方和寻找数据的最佳函数匹配。其他一些优化问题也可通过最小化能量或最大化熵用最小二乘法来表达。\n",
    "\n",
    "\n",
    "* 一般$A$的**行数大于列数**，方程组**无解**的时候可以使用最小二乘法进行求解，简单来说就是，找到一组最优解$\\vec x_{ls} = \\{x_1, x_2, \\cdots, x_n\\}$，使得优化问题 $min ||Ax-b||_2^2$成立。\n",
    "\n",
    "\n",
    "* 一般$A$的**列数大于行数**，方程组有**无穷多解**的时候可以添加正则化（惩罚）项（用于描述模型的复杂度）进行求解，简单来说就是，找到一组最优解$\\vec x_{rg} = \\{x_1, x_2, \\cdots, x_n\\}$，使得优化问题 $min ||Ax-b||_2^2 + \\frac{\\lambda}{2}||x||_2^2$成立，其中$\\lambda \\in [0, +\\infty]$称为惩罚系数，可以自己适当调整惩罚系数$\\lambda$。\n",
    "\n",
    "\n",
    "* 若$A$可逆，则方程$Ax=b$的最小二乘解和直接用逆矩阵求解得到的解相等。\n",
    "\n",
    "\n",
    "* 扩展库numpy的线性代数子模块linalg中提供了用来计算线性方程组的solve()函数和求解线性方程组最小二乘解的lstsq()函数，参数可以是Python列表、扩展库numpy中的数组或扩展库numpy中的矩阵。"
   ]
  },
  {
   "cell_type": "code",
   "execution_count": 44,
   "id": "2c73bcfd",
   "metadata": {
    "ExecuteTime": {
     "end_time": "2021-11-15T04:16:17.336407Z",
     "start_time": "2021-11-15T04:16:17.331938Z"
    }
   },
   "outputs": [],
   "source": [
    "A = np.array([[3, 1],\n",
    "             [1, 2]])\n",
    "b = np.array([[9], [8]])\n",
    "x = np.linalg.solve(A, b)"
   ]
  },
  {
   "cell_type": "code",
   "execution_count": 45,
   "id": "211d6ce9",
   "metadata": {
    "ExecuteTime": {
     "end_time": "2021-11-15T04:16:19.209536Z",
     "start_time": "2021-11-15T04:16:19.205045Z"
    }
   },
   "outputs": [
    {
     "data": {
      "text/plain": [
       "array([[2.],\n",
       "       [3.]])"
      ]
     },
     "execution_count": 45,
     "metadata": {},
     "output_type": "execute_result"
    }
   ],
   "source": [
    "x"
   ]
  },
  {
   "cell_type": "code",
   "execution_count": 55,
   "id": "317382a0",
   "metadata": {
    "ExecuteTime": {
     "end_time": "2021-11-15T04:21:53.790977Z",
     "start_time": "2021-11-15T04:21:53.787944Z"
    }
   },
   "outputs": [],
   "source": [
    "x_ls = np.linalg.lstsq(A, b, rcond=None) # rcond与处理奇异矩阵相关的，默认参数None"
   ]
  },
  {
   "cell_type": "code",
   "execution_count": 60,
   "id": "c4090e74",
   "metadata": {
    "ExecuteTime": {
     "end_time": "2021-11-15T04:24:55.283090Z",
     "start_time": "2021-11-15T04:24:55.276513Z"
    }
   },
   "outputs": [
    {
     "name": "stdout",
     "output_type": "stream",
     "text": [
      "最小二乘解： [2. 3.]\n",
      "余项： []\n",
      "A的秩： 2\n",
      "A的奇异值： [3.61803399 1.38196601]\n"
     ]
    },
    {
     "data": {
      "text/plain": [
       "(array([2., 3.]), array([], dtype=float64), 2, array([3.61803399, 1.38196601]))"
      ]
     },
     "execution_count": 60,
     "metadata": {},
     "output_type": "execute_result"
    }
   ],
   "source": [
    "# 返回的参数依次是：最小二乘解、余项、A的秩、A的奇异值\n",
    "print('最小二乘解：', x_ls[0])\n",
    "print('余项：', x_ls[1])\n",
    "print('A的秩：', x_ls[2])\n",
    "print('A的奇异值：', x_ls[3])\n",
    "x_ls"
   ]
  },
  {
   "cell_type": "markdown",
   "id": "e0112112",
   "metadata": {},
   "source": [
    "## 向量范数 & 矩阵范数\n",
    "### 向量范数\n",
    "* **范数**：在赋范线性空间中，并满足一定的条件，即①**非负性**②**齐次性**③**三角不等式**。\n",
    "* 它常常被用来度量某个向量空间（或矩阵）中的每个向量的长度或大小。\n",
    "* 向量$\\vec x=(x_1, x_2, \\cdots, x_n)$的$p$范数的计算公式：$$||\\vec x||_p = (\\sum_{i=1}^{n}|x_i|^p)^{\\frac{1}{p}}$$<br />\n",
    "* 常用的向量范数：1-范数， 2-范数， $\\infty$-范数计算公式依次如下：\n",
    "$$\n",
    "||\\vec x||_1=\\sum_{i=1}^n |x_i|，||\\vec x||_2=\\sqrt {\\sum_{i=1}^n |x_i|^2}，||x||_{\\infty}=\\max_i |x_i|\n",
    "$$\n",
    "\n",
    "*注：*向量的2-范数经常用于衡量向量的大小，但在优化问题中我们往往采用它的平凡形式$||\\vec x||_2^2$，因为这样在求导等计算时更加方便。因为它在原点附近时曾长过于缓慢，此时我们往往采用1-范数进行替代。\n",
    "\n",
    "### 矩阵范数\n",
    "* 一般来讲矩阵范数除了正定性，齐次性和三角不等式之外，还规定其必须满足相容性：$||AB||\\leq||A||\\cdot||B||$。所以矩阵范数通常也称为相容范数。\n",
    "* $A_{i,j}^{m,n}$常用的向矩阵范数：2-范数，$\\infty$-范数，Frobenius-范数计算公式依次如下：\n",
    "$$\n",
    "||A||_2=\\sqrt {\\lambda_{A^H A}}，||A||_{\\infty}=\\max_{1\\leq i \\leq m} \\sum_{j=1}^n A_{ij}，||A||_F=\\sqrt {\\sum_{i,j}A^2_{i,j}}\n",
    "$$其中$A^{H}$表示$A$的共轭转置。\n",
    "\n",
    "\n",
    "* 扩展库numpy的线性代数子模块linalg中提供了用来计算范数的norm()函数：<br />\n",
    "<center>\n",
    "    norm(x, ord=None, axis=None, keepdims=False)\n",
    "</center>\n",
    "第一个参数x可以是Python列表、扩展库numpy中的数组或扩展库numpy中的矩阵，第二个参数用来指定范数的类型，向量默认是2-范数，矩阵默认是F-范数。"
   ]
  },
  {
   "cell_type": "code",
   "execution_count": 65,
   "id": "586bca84",
   "metadata": {
    "ExecuteTime": {
     "end_time": "2021-11-15T08:22:02.279381Z",
     "start_time": "2021-11-15T08:22:02.272580Z"
    }
   },
   "outputs": [
    {
     "name": "stdout",
     "output_type": "stream",
     "text": [
      "x的2范数： 5.116672736016927\n",
      "x的∞范数： 7.0\n",
      "x的F范数： 5.477225575051661\n"
     ]
    }
   ],
   "source": [
    "x = np.matrix([[1, 2],\n",
    "               [3, -4]])\n",
    "print(\"x的2范数：\", np.linalg.norm(x, 2))\n",
    "print(\"x的∞范数：\", np.linalg.norm(x, np.inf))\n",
    "print(\"x的F范数：\", np.linalg.norm(x, 'fro'))"
   ]
  },
  {
   "cell_type": "code",
   "execution_count": 66,
   "id": "60d45027",
   "metadata": {
    "ExecuteTime": {
     "end_time": "2021-11-15T08:23:33.557175Z",
     "start_time": "2021-11-15T08:23:33.551249Z"
    }
   },
   "outputs": [
    {
     "name": "stdout",
     "output_type": "stream",
     "text": [
      "v的2-范数： 21.447610589527216\n",
      "v的1-范数： 19.000000006069616\n",
      "x的∞-范数： 19.0\n"
     ]
    }
   ],
   "source": [
    "v = np.array([1, 2, -3, -6, 7, -19])\n",
    "print(\"v的2-范数：\", np.linalg.norm(v))\n",
    "print(\"v的1-范数：\", np.linalg.norm(v, 19))\n",
    "print(\"x的∞-范数：\", np.linalg.norm(v, np.inf))"
   ]
  },
  {
   "cell_type": "markdown",
   "id": "b39b7a39",
   "metadata": {},
   "source": [
    "## 奇异值分解\n",
    "前半部分的内容中我们探讨了如何将矩阵分解成特征向量和特征值。还有另一种分解矩阵的方法，称为**奇异值分解(singular valuevector)**，简称**SVD**。SVD能将矩阵分解成奇异矩阵(singular matrix)和奇异值(singular value)。通过SVD，我们会得到一些与特征分解相同类型的信息。然而，奇异值分解有更广泛的应用。每个实数矩阵都有一个奇异值分解，但不一定都有特征分解。例如，非方阵的矩阵没有特征分解，这时我们只能使用奇异值分解。\n",
    "\n",
    "* 设$A$是一个$m \\times n$的矩阵，通过SVD可以将其分解为：\n",
    "$$\n",
    "A=UDV^T=U\n",
    "\\left[\n",
    "\\begin{matrix}\n",
    "\\Sigma&0\\\\\n",
    "0     &0\\\\\n",
    "\\end{matrix}\n",
    "\\right]V^T\n",
    "$$<br />\n",
    "其中，$U$是一个$m \\times m$的**正交矩阵**，$D$是一个$m \\times n$的矩阵（其中$\\Sigma_{max(m,n)}$对角线元素为$A$的奇异值），$V$是一个$n \\times n$的**正交矩阵**。\n",
    "\n",
    "* 矩阵$U$的列向量称为**左奇异向量**，矩阵$V$的列向量称为**右奇异向量**。$A$的左奇异向量是$AA^T$的特征向量，$A$的右奇异向量是$A^TA$的特征向量。$A$的非零奇异值是$A^TA$或者$AA^T$特征值的平方根。\n",
    "\n",
    "\n",
    "* 扩展库numpy的线性代数子模块linalg中提供了用来计算矩阵SVD的svd()函数，参数可以是Python列表、扩展库numpy中的数组或扩展库numpy中的矩阵。其返回值为$U$、$D$中的$\\Sigma$对角线上的元素（即：$A$的奇异值）、$V^T$"
   ]
  },
  {
   "cell_type": "code",
   "execution_count": 111,
   "id": "78b8d876",
   "metadata": {
    "ExecuteTime": {
     "end_time": "2021-11-15T13:35:04.286181Z",
     "start_time": "2021-11-15T13:35:04.282714Z"
    }
   },
   "outputs": [],
   "source": [
    "A = np.matrix([[1, 2, 3],\n",
    "               [4, 5, 6],\n",
    "               [7, 8, 9]])\n",
    "U, S, V_T = np.linalg.svd(A)"
   ]
  },
  {
   "cell_type": "code",
   "execution_count": 112,
   "id": "07e7f023",
   "metadata": {
    "ExecuteTime": {
     "end_time": "2021-11-15T13:35:05.129221Z",
     "start_time": "2021-11-15T13:35:05.124550Z"
    }
   },
   "outputs": [
    {
     "data": {
      "text/plain": [
       "matrix([[-0.21483724,  0.88723069,  0.40824829],\n",
       "        [-0.52058739,  0.24964395, -0.81649658],\n",
       "        [-0.82633754, -0.38794278,  0.40824829]])"
      ]
     },
     "execution_count": 112,
     "metadata": {},
     "output_type": "execute_result"
    }
   ],
   "source": [
    "# 左奇异矩阵\n",
    "U"
   ]
  },
  {
   "cell_type": "code",
   "execution_count": 113,
   "id": "49898a67",
   "metadata": {
    "ExecuteTime": {
     "end_time": "2021-11-15T13:35:05.601123Z",
     "start_time": "2021-11-15T13:35:05.595990Z"
    }
   },
   "outputs": [
    {
     "data": {
      "text/plain": [
       "matrix([[-0.47967118, -0.57236779, -0.66506441],\n",
       "        [-0.77669099, -0.07568647,  0.62531805],\n",
       "        [-0.40824829,  0.81649658, -0.40824829]])"
      ]
     },
     "execution_count": 113,
     "metadata": {},
     "output_type": "execute_result"
    }
   ],
   "source": [
    "# 右奇异矩阵\n",
    "V_T"
   ]
  },
  {
   "cell_type": "code",
   "execution_count": 114,
   "id": "bca33936",
   "metadata": {
    "ExecuteTime": {
     "end_time": "2021-11-15T13:35:06.886836Z",
     "start_time": "2021-11-15T13:35:06.882761Z"
    }
   },
   "outputs": [
    {
     "data": {
      "text/plain": [
       "array([1.68481034e+01, 1.06836951e+00, 3.33475287e-16])"
      ]
     },
     "execution_count": 114,
     "metadata": {},
     "output_type": "execute_result"
    }
   ],
   "source": [
    "# 奇异值\n",
    "S"
   ]
  },
  {
   "cell_type": "code",
   "execution_count": 117,
   "id": "c8696e6d",
   "metadata": {
    "ExecuteTime": {
     "end_time": "2021-11-15T13:35:19.147521Z",
     "start_time": "2021-11-15T13:35:19.142619Z"
    }
   },
   "outputs": [
    {
     "data": {
      "text/plain": [
       "matrix([[ 1.19367596,  2.73956824,  2.25164463],\n",
       "        [ 4.05449545,  6.7921004 ,  3.7984785 ],\n",
       "        [ 6.91531493, 10.84463255,  5.34531236]])"
      ]
     },
     "execution_count": 117,
     "metadata": {},
     "output_type": "execute_result"
    }
   ],
   "source": [
    "# 验证分解\n",
    "U * np.diag(S) * V_T"
   ]
  },
  {
   "cell_type": "markdown",
   "id": "a3eafadd",
   "metadata": {},
   "source": [
    "## Moore-Penrose伪逆\n",
    "对于非方矩阵$A_{m \\times n}$，其逆矩阵没有定义，因此为了求解非方矩阵的线性方程组$Ax=b$，我们引入了**Moore-Penrose伪逆**，其定义如下：\n",
    "\n",
    "$$\n",
    "A^{+}=\\lim_{\\alpha \\to 0} (A^TA+\\alpha I)^{-1}A^T\n",
    "$$<br />\n",
    "上述定义多用于理论证明中，实际计算过程之中，我们一般不采用定义的方法进行计算 ，而是使用下面的公式：\n",
    "\n",
    "$$\n",
    "A^{+}=VD^{+}U^T\n",
    "$$<br />其中，$U$、$D$、$V$是矩阵$A$经过奇异值分解得到的三个矩阵：$A_{m \\times n}=U_{m \\times m}D_{m \\times n}V_{n\\times n}$，且$D^{+}$是$D$的伪逆，即$D$非零元素取倒数之后再转置得到的。\n",
    "\n",
    "\n",
    "* 一般$A$的**行数大于列数**，方程组**无解**的时候可以使用伪逆$x=A^{+}b$得到其最小二乘解。\n",
    "\n",
    "\n",
    "* 一般$A$的**列数大于行数**，方程组有**无穷多解**的时候使用伪逆$x=A^{+}b$得到其所有可行解中2-范数$||x||_2$最小的一个。\n",
    "\n",
    "\n",
    "* 扩展库numpy的线性代数子模块linalg中提供了用来计算矩阵伪逆的pinv()函数，参数可以是Python列表、扩展库numpy中的数组或扩展库numpy中的矩阵。"
   ]
  },
  {
   "cell_type": "code",
   "execution_count": 118,
   "id": "80d1efb2",
   "metadata": {
    "ExecuteTime": {
     "end_time": "2021-11-15T13:36:43.367542Z",
     "start_time": "2021-11-15T13:36:43.361552Z"
    }
   },
   "outputs": [
    {
     "data": {
      "text/plain": [
       "matrix([[-1. ,  0.6,  0.2],\n",
       "        [ 1. , -0.3, -0.1]])"
      ]
     },
     "execution_count": 118,
     "metadata": {},
     "output_type": "execute_result"
    }
   ],
   "source": [
    "A = np.matrix([[1, 2],\n",
    "               [3, 3],\n",
    "               [1, 1]])\n",
    "# 计算伪逆\n",
    "np.linalg.pinv(A)"
   ]
  },
  {
   "cell_type": "code",
   "execution_count": 119,
   "id": "81f82b1c",
   "metadata": {
    "ExecuteTime": {
     "end_time": "2021-11-15T13:36:44.388718Z",
     "start_time": "2021-11-15T13:36:44.385475Z"
    }
   },
   "outputs": [],
   "source": [
    "# 验证伪逆\n",
    "# 对A进行奇异值分解\n",
    "U, S, V_T = np.linalg.svd(A)\n",
    "# 为了验证公式(10)，需要将D计算出来，由于U，V都是正交矩阵，因此可以用转置和A相乘得到D\n",
    "D = U.T * A * V_T.T"
   ]
  },
  {
   "cell_type": "code",
   "execution_count": 151,
   "id": "dfee2a8f",
   "metadata": {
    "ExecuteTime": {
     "end_time": "2021-11-15T14:22:09.293083Z",
     "start_time": "2021-11-15T14:22:09.289095Z"
    }
   },
   "outputs": [],
   "source": [
    "# np.piecewise是分段函数，第二个参数是判断条件，第三个参数是满足对应判断条件时，元素取值的改变，但只能对ndarray类型使用。\n",
    "D = np.array(D)\n",
    "D_pinv = np.matrix(np.piecewise(D, [np.abs(D) < 1e-5, np.abs(D) >= 1e-5], [0, lambda x: 1 / x])).T\n",
    "# 上一条语句是对所有非零元素去倒数，并且转置，等价于取伪逆D，相当于：\n",
    "# D_pinv = np.linalg.pinv(D)"
   ]
  },
  {
   "cell_type": "code",
   "execution_count": 153,
   "id": "8ef01379",
   "metadata": {
    "ExecuteTime": {
     "end_time": "2021-11-15T14:22:37.598937Z",
     "start_time": "2021-11-15T14:22:37.593975Z"
    }
   },
   "outputs": [
    {
     "data": {
      "text/plain": [
       "matrix([[-1. ,  0.6,  0.2],\n",
       "        [ 1. , -0.3, -0.1]])"
      ]
     },
     "execution_count": 153,
     "metadata": {},
     "output_type": "execute_result"
    }
   ],
   "source": [
    "A_pinv = V_T.T * D_pinv * U.T\n",
    "A_pinv\n",
    "# 验证成功"
   ]
  },
  {
   "cell_type": "markdown",
   "id": "05827779",
   "metadata": {},
   "source": [
    "## 迹运算\n",
    "**迹运算**返回的是矩阵对角线元素的和：\n",
    "$$\n",
    "Tr(A)=\\sum_i A_{i,i}\n",
    "$$\n",
    "\n",
    "### 迹运算的性质\n",
    "* $Tr(A)=Tr(A^T)$\n",
    "\n",
    "\n",
    "* 多个矩阵相乘的迹，和将这些矩阵中的最后一个调到第一个之后相乘的迹是相同的:<br />\n",
    "\n",
    "$$\n",
    "Tr(ABC)=Tr(CAB)=Tr(BCA)\n",
    "$$\n",
    "\n",
    "* 更一般地，\n",
    "$$\n",
    "Tr(\\prod_{i=1}^n F^{(i)})=Tr(F^{(n)} \\prod_{i=1}^{n-1} F^{(i)}))\n",
    "$$\n",
    "\n",
    "\n",
    "* 设$A \\in \\mathbb R^{m \\times n}$，$B \\in \\mathbb R^{n \\times m}$，则：\n",
    "$$\n",
    "Tr(AB)=Tr(BA)\n",
    "$$\n",
    "\n",
    "\n",
    "* 迹运算提供了另一种描述矩阵Frobenius范数的方式：\n",
    "$$\n",
    "||A||_F=\\sqrt {Tr(AA^T)}\n",
    "$$\n",
    "\n",
    "\n",
    "* 标量$a$的迹还是$a$，即$$Tr(a)=a$$\n",
    "\n",
    "* 扩展库numpy中提供了用来计算矩阵迹的trace()函数，参数可以是Python列表、扩展库numpy中的数组或扩展库numpy中的矩阵。"
   ]
  },
  {
   "cell_type": "code",
   "execution_count": 162,
   "id": "42fc572f",
   "metadata": {
    "ExecuteTime": {
     "end_time": "2021-11-15T16:18:33.640409Z",
     "start_time": "2021-11-15T16:18:33.635600Z"
    }
   },
   "outputs": [
    {
     "data": {
      "text/plain": [
       "3"
      ]
     },
     "execution_count": 162,
     "metadata": {},
     "output_type": "execute_result"
    }
   ],
   "source": [
    "A = np.matrix([[1, 2, 3],\n",
    "               [4, 1, 7],\n",
    "               [5, 8, 1]])\n",
    "np.trace(A)"
   ]
  },
  {
   "cell_type": "code",
   "execution_count": 163,
   "id": "2e3704fa",
   "metadata": {
    "ExecuteTime": {
     "end_time": "2021-11-15T16:18:34.838584Z",
     "start_time": "2021-11-15T16:18:34.833888Z"
    }
   },
   "outputs": [
    {
     "data": {
      "text/plain": [
       "4"
      ]
     },
     "execution_count": 163,
     "metadata": {},
     "output_type": "execute_result"
    }
   ],
   "source": [
    "# 非方阵也能计算迹\n",
    "B = np.matrix([[1, 2],\n",
    "               [3, 3],\n",
    "               [3, 1]])\n",
    "np.trace(B)"
   ]
  },
  {
   "cell_type": "code",
   "execution_count": 164,
   "id": "8c27e81b",
   "metadata": {
    "ExecuteTime": {
     "end_time": "2021-11-15T16:18:35.330371Z",
     "start_time": "2021-11-15T16:18:35.325481Z"
    }
   },
   "outputs": [
    {
     "data": {
      "text/plain": [
       "13.038404810405298"
      ]
     },
     "execution_count": 164,
     "metadata": {},
     "output_type": "execute_result"
    }
   ],
   "source": [
    "# 验证公式(15)\n",
    "np.linalg.norm(A, ord='fro')"
   ]
  },
  {
   "cell_type": "code",
   "execution_count": 165,
   "id": "682944cb",
   "metadata": {
    "ExecuteTime": {
     "end_time": "2021-11-15T16:18:35.776611Z",
     "start_time": "2021-11-15T16:18:35.769258Z"
    }
   },
   "outputs": [
    {
     "data": {
      "text/plain": [
       "13.038404810405298"
      ]
     },
     "execution_count": 165,
     "metadata": {},
     "output_type": "execute_result"
    }
   ],
   "source": [
    "np.sqrt(np.trace(A * A.T))"
   ]
  },
  {
   "cell_type": "markdown",
   "id": "e283e308",
   "metadata": {},
   "source": [
    "## 行列式\n",
    "* **行列式**，记作det($A$)，是一个将方阵$A$映射到实数的函数。行列式等于矩阵所有特征值的乘积。\n",
    "\n",
    "\n",
    "* **几何意义**：行列式的绝对值可以用来衡量矩阵参与矩阵乘法后空间扩大或者缩小了多少。如果行列式为0，那么空间至少沿着某一维度完全收缩了，使其失去了所有体积。"
   ]
  },
  {
   "cell_type": "code",
   "execution_count": 166,
   "id": "d6ccd766",
   "metadata": {
    "ExecuteTime": {
     "end_time": "2021-11-15T16:18:38.145462Z",
     "start_time": "2021-11-15T16:18:38.141290Z"
    }
   },
   "outputs": [
    {
     "data": {
      "text/plain": [
       "88.00000000000003"
      ]
     },
     "execution_count": 166,
     "metadata": {},
     "output_type": "execute_result"
    }
   ],
   "source": [
    "np.linalg.det(A)"
   ]
  },
  {
   "cell_type": "code",
   "execution_count": 167,
   "id": "6d96b2df",
   "metadata": {
    "ExecuteTime": {
     "end_time": "2021-11-15T16:18:39.923702Z",
     "start_time": "2021-11-15T16:18:39.918797Z"
    }
   },
   "outputs": [
    {
     "data": {
      "text/plain": [
       "array([10.79525314, -1.24437161, -6.55088153])"
      ]
     },
     "execution_count": 167,
     "metadata": {},
     "output_type": "execute_result"
    }
   ],
   "source": [
    "e, v = np.linalg.eig(A)\n",
    "e"
   ]
  },
  {
   "cell_type": "code",
   "execution_count": 169,
   "id": "bf6a527d",
   "metadata": {
    "ExecuteTime": {
     "end_time": "2021-11-15T16:19:18.223747Z",
     "start_time": "2021-11-15T16:19:18.219543Z"
    }
   },
   "outputs": [
    {
     "data": {
      "text/plain": [
       "88.0"
      ]
     },
     "execution_count": 169,
     "metadata": {},
     "output_type": "execute_result"
    }
   ],
   "source": [
    "# 验证行列式等于矩阵所有特征值的乘积。\n",
    "e[0] * e[1] * e[2]"
   ]
  },
  {
   "cell_type": "code",
   "execution_count": null,
   "id": "f5995d84",
   "metadata": {},
   "outputs": [],
   "source": []
  }
 ],
 "metadata": {
  "kernelspec": {
   "display_name": "Python 3 (ipykernel)",
   "language": "python",
   "name": "python3"
  },
  "language_info": {
   "codemirror_mode": {
    "name": "ipython",
    "version": 3
   },
   "file_extension": ".py",
   "mimetype": "text/x-python",
   "name": "python",
   "nbconvert_exporter": "python",
   "pygments_lexer": "ipython3",
   "version": "3.9.7"
  },
  "latex_envs": {
   "LaTeX_envs_menu_present": true,
   "autoclose": true,
   "autocomplete": false,
   "bibliofile": "biblio.bib",
   "cite_by": "apalike",
   "current_citInitial": 1,
   "eqLabelWithNumbers": true,
   "eqNumInitial": 1,
   "hotkeys": {
    "equation": "Ctrl-E",
    "itemize": "Ctrl-I"
   },
   "labels_anchors": false,
   "latex_user_defs": false,
   "report_style_numbering": false,
   "user_envs_cfg": false
  },
  "toc": {
   "base_numbering": 1,
   "nav_menu": {},
   "number_sections": true,
   "sideBar": true,
   "skip_h1_title": false,
   "title_cell": "Table of Contents",
   "title_sidebar": "Contents",
   "toc_cell": false,
   "toc_position": {},
   "toc_section_display": true,
   "toc_window_display": true
  }
 },
 "nbformat": 4,
 "nbformat_minor": 5
}
