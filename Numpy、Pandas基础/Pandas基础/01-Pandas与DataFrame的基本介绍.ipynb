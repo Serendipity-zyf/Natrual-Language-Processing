{
 "cells": [
  {
   "cell_type": "markdown",
   "id": "8b076c29",
   "metadata": {},
   "source": [
    "# Pandas中DataFrame的介绍与基本操作\n",
    "* Pandas是开源的数据挖掘库\n",
    "\n",
    "* Pandas是基于Numpy和Matplotlib开发\n",
    "\n",
    "* DataFrame是Pandas中一种数据结构，它是带标签且大小可变的二维数据表格"
   ]
  },
  {
   "cell_type": "code",
   "execution_count": 2,
   "id": "fdd44017",
   "metadata": {
    "ExecuteTime": {
     "end_time": "2021-11-16T09:00:01.093136Z",
     "start_time": "2021-11-16T09:00:00.886806Z"
    }
   },
   "outputs": [],
   "source": [
    "# 导入pandas包\n",
    "import pandas as pd\n",
    "import numpy as np"
   ]
  },
  {
   "cell_type": "code",
   "execution_count": 3,
   "id": "355557ca",
   "metadata": {
    "ExecuteTime": {
     "end_time": "2021-11-16T09:00:01.810248Z",
     "start_time": "2021-11-16T09:00:01.797155Z"
    }
   },
   "outputs": [
    {
     "data": {
      "text/plain": [
       "array([[-0.31704255, -1.15932952, -1.16826258, -2.57790439, -0.19786761],\n",
       "       [ 0.7387701 ,  0.47090612, -0.06418984, -0.26979601, -2.01103445],\n",
       "       [-1.30043779, -0.19111437,  1.23576029,  0.03277106, -1.32453329],\n",
       "       [ 0.14574098,  1.02510756, -0.11192138, -0.64987771, -0.15524685],\n",
       "       [ 0.89060777, -0.01753602, -1.13971543,  2.44601046,  1.64775541],\n",
       "       [ 0.06734635, -0.30785511,  1.15923699,  0.16755081,  0.32608525],\n",
       "       [ 0.40363543, -0.61311466,  1.27577844, -0.65187168,  0.28155264],\n",
       "       [-0.41908279,  0.65215782,  0.69739269,  0.88647404,  1.18860653],\n",
       "       [ 1.06257958, -0.26638774,  0.74607132, -0.12967171, -1.27022959],\n",
       "       [-0.06295048,  0.47178126,  0.15648106,  1.14574984, -0.14065407]])"
      ]
     },
     "execution_count": 3,
     "metadata": {},
     "output_type": "execute_result"
    }
   ],
   "source": [
    "# 产生数据10行5列的数据\n",
    "stock_change = np.random.normal(0, 1, (10, 5))\n",
    "stock_change"
   ]
  },
  {
   "cell_type": "code",
   "execution_count": 4,
   "id": "44d65506",
   "metadata": {
    "ExecuteTime": {
     "end_time": "2021-11-16T09:00:02.054210Z",
     "start_time": "2021-11-16T09:00:02.039487Z"
    }
   },
   "outputs": [
    {
     "data": {
      "text/html": [
       "<div>\n",
       "<style scoped>\n",
       "    .dataframe tbody tr th:only-of-type {\n",
       "        vertical-align: middle;\n",
       "    }\n",
       "\n",
       "    .dataframe tbody tr th {\n",
       "        vertical-align: top;\n",
       "    }\n",
       "\n",
       "    .dataframe thead th {\n",
       "        text-align: right;\n",
       "    }\n",
       "</style>\n",
       "<table border=\"1\" class=\"dataframe\">\n",
       "  <thead>\n",
       "    <tr style=\"text-align: right;\">\n",
       "      <th></th>\n",
       "      <th>0</th>\n",
       "      <th>1</th>\n",
       "      <th>2</th>\n",
       "      <th>3</th>\n",
       "      <th>4</th>\n",
       "    </tr>\n",
       "  </thead>\n",
       "  <tbody>\n",
       "    <tr>\n",
       "      <th>0</th>\n",
       "      <td>-0.317043</td>\n",
       "      <td>-1.159330</td>\n",
       "      <td>-1.168263</td>\n",
       "      <td>-2.577904</td>\n",
       "      <td>-0.197868</td>\n",
       "    </tr>\n",
       "    <tr>\n",
       "      <th>1</th>\n",
       "      <td>0.738770</td>\n",
       "      <td>0.470906</td>\n",
       "      <td>-0.064190</td>\n",
       "      <td>-0.269796</td>\n",
       "      <td>-2.011034</td>\n",
       "    </tr>\n",
       "    <tr>\n",
       "      <th>2</th>\n",
       "      <td>-1.300438</td>\n",
       "      <td>-0.191114</td>\n",
       "      <td>1.235760</td>\n",
       "      <td>0.032771</td>\n",
       "      <td>-1.324533</td>\n",
       "    </tr>\n",
       "    <tr>\n",
       "      <th>3</th>\n",
       "      <td>0.145741</td>\n",
       "      <td>1.025108</td>\n",
       "      <td>-0.111921</td>\n",
       "      <td>-0.649878</td>\n",
       "      <td>-0.155247</td>\n",
       "    </tr>\n",
       "    <tr>\n",
       "      <th>4</th>\n",
       "      <td>0.890608</td>\n",
       "      <td>-0.017536</td>\n",
       "      <td>-1.139715</td>\n",
       "      <td>2.446010</td>\n",
       "      <td>1.647755</td>\n",
       "    </tr>\n",
       "    <tr>\n",
       "      <th>5</th>\n",
       "      <td>0.067346</td>\n",
       "      <td>-0.307855</td>\n",
       "      <td>1.159237</td>\n",
       "      <td>0.167551</td>\n",
       "      <td>0.326085</td>\n",
       "    </tr>\n",
       "    <tr>\n",
       "      <th>6</th>\n",
       "      <td>0.403635</td>\n",
       "      <td>-0.613115</td>\n",
       "      <td>1.275778</td>\n",
       "      <td>-0.651872</td>\n",
       "      <td>0.281553</td>\n",
       "    </tr>\n",
       "    <tr>\n",
       "      <th>7</th>\n",
       "      <td>-0.419083</td>\n",
       "      <td>0.652158</td>\n",
       "      <td>0.697393</td>\n",
       "      <td>0.886474</td>\n",
       "      <td>1.188607</td>\n",
       "    </tr>\n",
       "    <tr>\n",
       "      <th>8</th>\n",
       "      <td>1.062580</td>\n",
       "      <td>-0.266388</td>\n",
       "      <td>0.746071</td>\n",
       "      <td>-0.129672</td>\n",
       "      <td>-1.270230</td>\n",
       "    </tr>\n",
       "    <tr>\n",
       "      <th>9</th>\n",
       "      <td>-0.062950</td>\n",
       "      <td>0.471781</td>\n",
       "      <td>0.156481</td>\n",
       "      <td>1.145750</td>\n",
       "      <td>-0.140654</td>\n",
       "    </tr>\n",
       "  </tbody>\n",
       "</table>\n",
       "</div>"
      ],
      "text/plain": [
       "          0         1         2         3         4\n",
       "0 -0.317043 -1.159330 -1.168263 -2.577904 -0.197868\n",
       "1  0.738770  0.470906 -0.064190 -0.269796 -2.011034\n",
       "2 -1.300438 -0.191114  1.235760  0.032771 -1.324533\n",
       "3  0.145741  1.025108 -0.111921 -0.649878 -0.155247\n",
       "4  0.890608 -0.017536 -1.139715  2.446010  1.647755\n",
       "5  0.067346 -0.307855  1.159237  0.167551  0.326085\n",
       "6  0.403635 -0.613115  1.275778 -0.651872  0.281553\n",
       "7 -0.419083  0.652158  0.697393  0.886474  1.188607\n",
       "8  1.062580 -0.266388  0.746071 -0.129672 -1.270230\n",
       "9 -0.062950  0.471781  0.156481  1.145750 -0.140654"
      ]
     },
     "execution_count": 4,
     "metadata": {},
     "output_type": "execute_result"
    }
   ],
   "source": [
    "# 创建dataframe类型的数据，传入参数只能是ndarray类型，如果是dataframe，数据就会变成NAN\n",
    "stock_rise = pd.DataFrame(stock_change)\n",
    "stock_rise"
   ]
  },
  {
   "cell_type": "code",
   "execution_count": 5,
   "id": "f74f3724",
   "metadata": {
    "ExecuteTime": {
     "end_time": "2021-11-16T09:00:02.235193Z",
     "start_time": "2021-11-16T09:00:02.230928Z"
    }
   },
   "outputs": [
    {
     "data": {
      "text/plain": [
       "(10, 5)"
      ]
     },
     "execution_count": 5,
     "metadata": {},
     "output_type": "execute_result"
    }
   ],
   "source": [
    "# 查看stock_rise的形状\n",
    "stock_rise.shape"
   ]
  },
  {
   "cell_type": "markdown",
   "id": "48ec059a",
   "metadata": {},
   "source": [
    "## 为DataFrame数据添加行索引和列索引"
   ]
  },
  {
   "cell_type": "code",
   "execution_count": 6,
   "id": "d9d3aa88",
   "metadata": {
    "ExecuteTime": {
     "end_time": "2021-11-16T09:00:02.814495Z",
     "start_time": "2021-11-16T09:00:02.809464Z"
    }
   },
   "outputs": [
    {
     "data": {
      "text/plain": [
       "['股票1', '股票2', '股票3', '股票4', '股票5', '股票6', '股票7', '股票8', '股票9', '股票10']"
      ]
     },
     "execution_count": 6,
     "metadata": {},
     "output_type": "execute_result"
    }
   ],
   "source": [
    "# 行索引名称的创建\n",
    "stock_code = [\"股票{}\".format(i+1) for i in range(stock_rise.shape[0])]\n",
    "stock_code"
   ]
  },
  {
   "cell_type": "code",
   "execution_count": 7,
   "id": "233aceaa",
   "metadata": {
    "ExecuteTime": {
     "end_time": "2021-11-16T09:00:03.235655Z",
     "start_time": "2021-11-16T09:00:03.221040Z"
    }
   },
   "outputs": [
    {
     "data": {
      "text/html": [
       "<div>\n",
       "<style scoped>\n",
       "    .dataframe tbody tr th:only-of-type {\n",
       "        vertical-align: middle;\n",
       "    }\n",
       "\n",
       "    .dataframe tbody tr th {\n",
       "        vertical-align: top;\n",
       "    }\n",
       "\n",
       "    .dataframe thead th {\n",
       "        text-align: right;\n",
       "    }\n",
       "</style>\n",
       "<table border=\"1\" class=\"dataframe\">\n",
       "  <thead>\n",
       "    <tr style=\"text-align: right;\">\n",
       "      <th></th>\n",
       "      <th>0</th>\n",
       "      <th>1</th>\n",
       "      <th>2</th>\n",
       "      <th>3</th>\n",
       "      <th>4</th>\n",
       "    </tr>\n",
       "  </thead>\n",
       "  <tbody>\n",
       "    <tr>\n",
       "      <th>股票1</th>\n",
       "      <td>-0.317043</td>\n",
       "      <td>-1.159330</td>\n",
       "      <td>-1.168263</td>\n",
       "      <td>-2.577904</td>\n",
       "      <td>-0.197868</td>\n",
       "    </tr>\n",
       "    <tr>\n",
       "      <th>股票2</th>\n",
       "      <td>0.738770</td>\n",
       "      <td>0.470906</td>\n",
       "      <td>-0.064190</td>\n",
       "      <td>-0.269796</td>\n",
       "      <td>-2.011034</td>\n",
       "    </tr>\n",
       "    <tr>\n",
       "      <th>股票3</th>\n",
       "      <td>-1.300438</td>\n",
       "      <td>-0.191114</td>\n",
       "      <td>1.235760</td>\n",
       "      <td>0.032771</td>\n",
       "      <td>-1.324533</td>\n",
       "    </tr>\n",
       "    <tr>\n",
       "      <th>股票4</th>\n",
       "      <td>0.145741</td>\n",
       "      <td>1.025108</td>\n",
       "      <td>-0.111921</td>\n",
       "      <td>-0.649878</td>\n",
       "      <td>-0.155247</td>\n",
       "    </tr>\n",
       "    <tr>\n",
       "      <th>股票5</th>\n",
       "      <td>0.890608</td>\n",
       "      <td>-0.017536</td>\n",
       "      <td>-1.139715</td>\n",
       "      <td>2.446010</td>\n",
       "      <td>1.647755</td>\n",
       "    </tr>\n",
       "    <tr>\n",
       "      <th>股票6</th>\n",
       "      <td>0.067346</td>\n",
       "      <td>-0.307855</td>\n",
       "      <td>1.159237</td>\n",
       "      <td>0.167551</td>\n",
       "      <td>0.326085</td>\n",
       "    </tr>\n",
       "    <tr>\n",
       "      <th>股票7</th>\n",
       "      <td>0.403635</td>\n",
       "      <td>-0.613115</td>\n",
       "      <td>1.275778</td>\n",
       "      <td>-0.651872</td>\n",
       "      <td>0.281553</td>\n",
       "    </tr>\n",
       "    <tr>\n",
       "      <th>股票8</th>\n",
       "      <td>-0.419083</td>\n",
       "      <td>0.652158</td>\n",
       "      <td>0.697393</td>\n",
       "      <td>0.886474</td>\n",
       "      <td>1.188607</td>\n",
       "    </tr>\n",
       "    <tr>\n",
       "      <th>股票9</th>\n",
       "      <td>1.062580</td>\n",
       "      <td>-0.266388</td>\n",
       "      <td>0.746071</td>\n",
       "      <td>-0.129672</td>\n",
       "      <td>-1.270230</td>\n",
       "    </tr>\n",
       "    <tr>\n",
       "      <th>股票10</th>\n",
       "      <td>-0.062950</td>\n",
       "      <td>0.471781</td>\n",
       "      <td>0.156481</td>\n",
       "      <td>1.145750</td>\n",
       "      <td>-0.140654</td>\n",
       "    </tr>\n",
       "  </tbody>\n",
       "</table>\n",
       "</div>"
      ],
      "text/plain": [
       "             0         1         2         3         4\n",
       "股票1  -0.317043 -1.159330 -1.168263 -2.577904 -0.197868\n",
       "股票2   0.738770  0.470906 -0.064190 -0.269796 -2.011034\n",
       "股票3  -1.300438 -0.191114  1.235760  0.032771 -1.324533\n",
       "股票4   0.145741  1.025108 -0.111921 -0.649878 -0.155247\n",
       "股票5   0.890608 -0.017536 -1.139715  2.446010  1.647755\n",
       "股票6   0.067346 -0.307855  1.159237  0.167551  0.326085\n",
       "股票7   0.403635 -0.613115  1.275778 -0.651872  0.281553\n",
       "股票8  -0.419083  0.652158  0.697393  0.886474  1.188607\n",
       "股票9   1.062580 -0.266388  0.746071 -0.129672 -1.270230\n",
       "股票10 -0.062950  0.471781  0.156481  1.145750 -0.140654"
      ]
     },
     "execution_count": 7,
     "metadata": {},
     "output_type": "execute_result"
    }
   ],
   "source": [
    "# 修改行索引，注意参数得是ndarray类型\n",
    "pd.DataFrame(stock_change, index=stock_code)"
   ]
  },
  {
   "cell_type": "code",
   "execution_count": 8,
   "id": "2e0c1bd4",
   "metadata": {
    "ExecuteTime": {
     "end_time": "2021-11-16T09:00:03.755175Z",
     "start_time": "2021-11-16T09:00:03.749441Z"
    }
   },
   "outputs": [
    {
     "data": {
      "text/plain": [
       "DatetimeIndex(['2021-10-21', '2021-10-22', '2021-10-25', '2021-10-26',\n",
       "               '2021-10-27'],\n",
       "              dtype='datetime64[ns]', freq='B')"
      ]
     },
     "execution_count": 8,
     "metadata": {},
     "output_type": "execute_result"
    }
   ],
   "source": [
    "# 列索引（时间）的创建，可以利用pd中的date_range\n",
    "# periods是持续日期，freq='B'是工作日\n",
    "date = pd.date_range(start='20211021', periods=stock_rise.shape[1], freq='B')\n",
    "date"
   ]
  },
  {
   "cell_type": "code",
   "execution_count": 9,
   "id": "f75af423",
   "metadata": {
    "ExecuteTime": {
     "end_time": "2021-11-16T09:00:04.394760Z",
     "start_time": "2021-11-16T09:00:04.380954Z"
    }
   },
   "outputs": [
    {
     "data": {
      "text/html": [
       "<div>\n",
       "<style scoped>\n",
       "    .dataframe tbody tr th:only-of-type {\n",
       "        vertical-align: middle;\n",
       "    }\n",
       "\n",
       "    .dataframe tbody tr th {\n",
       "        vertical-align: top;\n",
       "    }\n",
       "\n",
       "    .dataframe thead th {\n",
       "        text-align: right;\n",
       "    }\n",
       "</style>\n",
       "<table border=\"1\" class=\"dataframe\">\n",
       "  <thead>\n",
       "    <tr style=\"text-align: right;\">\n",
       "      <th></th>\n",
       "      <th>2021-10-21</th>\n",
       "      <th>2021-10-22</th>\n",
       "      <th>2021-10-25</th>\n",
       "      <th>2021-10-26</th>\n",
       "      <th>2021-10-27</th>\n",
       "    </tr>\n",
       "  </thead>\n",
       "  <tbody>\n",
       "    <tr>\n",
       "      <th>股票1</th>\n",
       "      <td>-0.317043</td>\n",
       "      <td>-1.159330</td>\n",
       "      <td>-1.168263</td>\n",
       "      <td>-2.577904</td>\n",
       "      <td>-0.197868</td>\n",
       "    </tr>\n",
       "    <tr>\n",
       "      <th>股票2</th>\n",
       "      <td>0.738770</td>\n",
       "      <td>0.470906</td>\n",
       "      <td>-0.064190</td>\n",
       "      <td>-0.269796</td>\n",
       "      <td>-2.011034</td>\n",
       "    </tr>\n",
       "    <tr>\n",
       "      <th>股票3</th>\n",
       "      <td>-1.300438</td>\n",
       "      <td>-0.191114</td>\n",
       "      <td>1.235760</td>\n",
       "      <td>0.032771</td>\n",
       "      <td>-1.324533</td>\n",
       "    </tr>\n",
       "    <tr>\n",
       "      <th>股票4</th>\n",
       "      <td>0.145741</td>\n",
       "      <td>1.025108</td>\n",
       "      <td>-0.111921</td>\n",
       "      <td>-0.649878</td>\n",
       "      <td>-0.155247</td>\n",
       "    </tr>\n",
       "    <tr>\n",
       "      <th>股票5</th>\n",
       "      <td>0.890608</td>\n",
       "      <td>-0.017536</td>\n",
       "      <td>-1.139715</td>\n",
       "      <td>2.446010</td>\n",
       "      <td>1.647755</td>\n",
       "    </tr>\n",
       "    <tr>\n",
       "      <th>股票6</th>\n",
       "      <td>0.067346</td>\n",
       "      <td>-0.307855</td>\n",
       "      <td>1.159237</td>\n",
       "      <td>0.167551</td>\n",
       "      <td>0.326085</td>\n",
       "    </tr>\n",
       "    <tr>\n",
       "      <th>股票7</th>\n",
       "      <td>0.403635</td>\n",
       "      <td>-0.613115</td>\n",
       "      <td>1.275778</td>\n",
       "      <td>-0.651872</td>\n",
       "      <td>0.281553</td>\n",
       "    </tr>\n",
       "    <tr>\n",
       "      <th>股票8</th>\n",
       "      <td>-0.419083</td>\n",
       "      <td>0.652158</td>\n",
       "      <td>0.697393</td>\n",
       "      <td>0.886474</td>\n",
       "      <td>1.188607</td>\n",
       "    </tr>\n",
       "    <tr>\n",
       "      <th>股票9</th>\n",
       "      <td>1.062580</td>\n",
       "      <td>-0.266388</td>\n",
       "      <td>0.746071</td>\n",
       "      <td>-0.129672</td>\n",
       "      <td>-1.270230</td>\n",
       "    </tr>\n",
       "    <tr>\n",
       "      <th>股票10</th>\n",
       "      <td>-0.062950</td>\n",
       "      <td>0.471781</td>\n",
       "      <td>0.156481</td>\n",
       "      <td>1.145750</td>\n",
       "      <td>-0.140654</td>\n",
       "    </tr>\n",
       "  </tbody>\n",
       "</table>\n",
       "</div>"
      ],
      "text/plain": [
       "      2021-10-21  2021-10-22  2021-10-25  2021-10-26  2021-10-27\n",
       "股票1    -0.317043   -1.159330   -1.168263   -2.577904   -0.197868\n",
       "股票2     0.738770    0.470906   -0.064190   -0.269796   -2.011034\n",
       "股票3    -1.300438   -0.191114    1.235760    0.032771   -1.324533\n",
       "股票4     0.145741    1.025108   -0.111921   -0.649878   -0.155247\n",
       "股票5     0.890608   -0.017536   -1.139715    2.446010    1.647755\n",
       "股票6     0.067346   -0.307855    1.159237    0.167551    0.326085\n",
       "股票7     0.403635   -0.613115    1.275778   -0.651872    0.281553\n",
       "股票8    -0.419083    0.652158    0.697393    0.886474    1.188607\n",
       "股票9     1.062580   -0.266388    0.746071   -0.129672   -1.270230\n",
       "股票10   -0.062950    0.471781    0.156481    1.145750   -0.140654"
      ]
     },
     "execution_count": 9,
     "metadata": {},
     "output_type": "execute_result"
    }
   ],
   "source": [
    "# 修改列索引，注意参数得是ndarray类型\n",
    "data = pd.DataFrame(stock_change, index=stock_code, columns=date)\n",
    "data"
   ]
  },
  {
   "cell_type": "markdown",
   "id": "6034bf9c",
   "metadata": {},
   "source": [
    "## DataFrame的属性"
   ]
  },
  {
   "cell_type": "code",
   "execution_count": 10,
   "id": "0f9e5a21",
   "metadata": {
    "ExecuteTime": {
     "end_time": "2021-11-16T09:00:05.692241Z",
     "start_time": "2021-11-16T09:00:05.688539Z"
    }
   },
   "outputs": [
    {
     "data": {
      "text/plain": [
       "(10, 5)"
      ]
     },
     "execution_count": 10,
     "metadata": {},
     "output_type": "execute_result"
    }
   ],
   "source": [
    "# 形状\n",
    "data.shape"
   ]
  },
  {
   "cell_type": "code",
   "execution_count": 11,
   "id": "85b1ec7a",
   "metadata": {
    "ExecuteTime": {
     "end_time": "2021-11-16T09:00:28.064132Z",
     "start_time": "2021-11-16T09:00:28.059908Z"
    }
   },
   "outputs": [
    {
     "data": {
      "text/plain": [
       "Index(['股票1', '股票2', '股票3', '股票4', '股票5', '股票6', '股票7', '股票8', '股票9', '股票10'], dtype='object')"
      ]
     },
     "execution_count": 11,
     "metadata": {},
     "output_type": "execute_result"
    }
   ],
   "source": [
    "# 行索引和列索引\n",
    "data.index"
   ]
  },
  {
   "cell_type": "code",
   "execution_count": 12,
   "id": "5013edf4",
   "metadata": {
    "ExecuteTime": {
     "end_time": "2021-11-16T09:00:35.525312Z",
     "start_time": "2021-11-16T09:00:35.520535Z"
    }
   },
   "outputs": [
    {
     "data": {
      "text/plain": [
       "DatetimeIndex(['2021-10-21', '2021-10-22', '2021-10-25', '2021-10-26',\n",
       "               '2021-10-27'],\n",
       "              dtype='datetime64[ns]', freq='B')"
      ]
     },
     "execution_count": 12,
     "metadata": {},
     "output_type": "execute_result"
    }
   ],
   "source": [
    "data.columns"
   ]
  },
  {
   "cell_type": "code",
   "execution_count": 13,
   "id": "fa1573d4",
   "metadata": {
    "ExecuteTime": {
     "end_time": "2021-11-16T09:01:03.561250Z",
     "start_time": "2021-11-16T09:01:03.556599Z"
    }
   },
   "outputs": [
    {
     "data": {
      "text/plain": [
       "array([[-0.31704255, -1.15932952, -1.16826258, -2.57790439, -0.19786761],\n",
       "       [ 0.7387701 ,  0.47090612, -0.06418984, -0.26979601, -2.01103445],\n",
       "       [-1.30043779, -0.19111437,  1.23576029,  0.03277106, -1.32453329],\n",
       "       [ 0.14574098,  1.02510756, -0.11192138, -0.64987771, -0.15524685],\n",
       "       [ 0.89060777, -0.01753602, -1.13971543,  2.44601046,  1.64775541],\n",
       "       [ 0.06734635, -0.30785511,  1.15923699,  0.16755081,  0.32608525],\n",
       "       [ 0.40363543, -0.61311466,  1.27577844, -0.65187168,  0.28155264],\n",
       "       [-0.41908279,  0.65215782,  0.69739269,  0.88647404,  1.18860653],\n",
       "       [ 1.06257958, -0.26638774,  0.74607132, -0.12967171, -1.27022959],\n",
       "       [-0.06295048,  0.47178126,  0.15648106,  1.14574984, -0.14065407]])"
      ]
     },
     "execution_count": 13,
     "metadata": {},
     "output_type": "execute_result"
    }
   ],
   "source": [
    "# 数据表中的值\n",
    "data.values"
   ]
  },
  {
   "cell_type": "code",
   "execution_count": 14,
   "id": "8136f244",
   "metadata": {
    "ExecuteTime": {
     "end_time": "2021-11-16T09:01:16.394782Z",
     "start_time": "2021-11-16T09:01:16.380026Z"
    }
   },
   "outputs": [
    {
     "data": {
      "text/html": [
       "<div>\n",
       "<style scoped>\n",
       "    .dataframe tbody tr th:only-of-type {\n",
       "        vertical-align: middle;\n",
       "    }\n",
       "\n",
       "    .dataframe tbody tr th {\n",
       "        vertical-align: top;\n",
       "    }\n",
       "\n",
       "    .dataframe thead th {\n",
       "        text-align: right;\n",
       "    }\n",
       "</style>\n",
       "<table border=\"1\" class=\"dataframe\">\n",
       "  <thead>\n",
       "    <tr style=\"text-align: right;\">\n",
       "      <th></th>\n",
       "      <th>股票1</th>\n",
       "      <th>股票2</th>\n",
       "      <th>股票3</th>\n",
       "      <th>股票4</th>\n",
       "      <th>股票5</th>\n",
       "      <th>股票6</th>\n",
       "      <th>股票7</th>\n",
       "      <th>股票8</th>\n",
       "      <th>股票9</th>\n",
       "      <th>股票10</th>\n",
       "    </tr>\n",
       "  </thead>\n",
       "  <tbody>\n",
       "    <tr>\n",
       "      <th>2021-10-21</th>\n",
       "      <td>-0.317043</td>\n",
       "      <td>0.738770</td>\n",
       "      <td>-1.300438</td>\n",
       "      <td>0.145741</td>\n",
       "      <td>0.890608</td>\n",
       "      <td>0.067346</td>\n",
       "      <td>0.403635</td>\n",
       "      <td>-0.419083</td>\n",
       "      <td>1.062580</td>\n",
       "      <td>-0.062950</td>\n",
       "    </tr>\n",
       "    <tr>\n",
       "      <th>2021-10-22</th>\n",
       "      <td>-1.159330</td>\n",
       "      <td>0.470906</td>\n",
       "      <td>-0.191114</td>\n",
       "      <td>1.025108</td>\n",
       "      <td>-0.017536</td>\n",
       "      <td>-0.307855</td>\n",
       "      <td>-0.613115</td>\n",
       "      <td>0.652158</td>\n",
       "      <td>-0.266388</td>\n",
       "      <td>0.471781</td>\n",
       "    </tr>\n",
       "    <tr>\n",
       "      <th>2021-10-25</th>\n",
       "      <td>-1.168263</td>\n",
       "      <td>-0.064190</td>\n",
       "      <td>1.235760</td>\n",
       "      <td>-0.111921</td>\n",
       "      <td>-1.139715</td>\n",
       "      <td>1.159237</td>\n",
       "      <td>1.275778</td>\n",
       "      <td>0.697393</td>\n",
       "      <td>0.746071</td>\n",
       "      <td>0.156481</td>\n",
       "    </tr>\n",
       "    <tr>\n",
       "      <th>2021-10-26</th>\n",
       "      <td>-2.577904</td>\n",
       "      <td>-0.269796</td>\n",
       "      <td>0.032771</td>\n",
       "      <td>-0.649878</td>\n",
       "      <td>2.446010</td>\n",
       "      <td>0.167551</td>\n",
       "      <td>-0.651872</td>\n",
       "      <td>0.886474</td>\n",
       "      <td>-0.129672</td>\n",
       "      <td>1.145750</td>\n",
       "    </tr>\n",
       "    <tr>\n",
       "      <th>2021-10-27</th>\n",
       "      <td>-0.197868</td>\n",
       "      <td>-2.011034</td>\n",
       "      <td>-1.324533</td>\n",
       "      <td>-0.155247</td>\n",
       "      <td>1.647755</td>\n",
       "      <td>0.326085</td>\n",
       "      <td>0.281553</td>\n",
       "      <td>1.188607</td>\n",
       "      <td>-1.270230</td>\n",
       "      <td>-0.140654</td>\n",
       "    </tr>\n",
       "  </tbody>\n",
       "</table>\n",
       "</div>"
      ],
      "text/plain": [
       "                 股票1       股票2       股票3       股票4       股票5       股票6  \\\n",
       "2021-10-21 -0.317043  0.738770 -1.300438  0.145741  0.890608  0.067346   \n",
       "2021-10-22 -1.159330  0.470906 -0.191114  1.025108 -0.017536 -0.307855   \n",
       "2021-10-25 -1.168263 -0.064190  1.235760 -0.111921 -1.139715  1.159237   \n",
       "2021-10-26 -2.577904 -0.269796  0.032771 -0.649878  2.446010  0.167551   \n",
       "2021-10-27 -0.197868 -2.011034 -1.324533 -0.155247  1.647755  0.326085   \n",
       "\n",
       "                 股票7       股票8       股票9      股票10  \n",
       "2021-10-21  0.403635 -0.419083  1.062580 -0.062950  \n",
       "2021-10-22 -0.613115  0.652158 -0.266388  0.471781  \n",
       "2021-10-25  1.275778  0.697393  0.746071  0.156481  \n",
       "2021-10-26 -0.651872  0.886474 -0.129672  1.145750  \n",
       "2021-10-27  0.281553  1.188607 -1.270230 -0.140654  "
      ]
     },
     "execution_count": 14,
     "metadata": {},
     "output_type": "execute_result"
    }
   ],
   "source": [
    "# 转置\n",
    "data.T"
   ]
  },
  {
   "cell_type": "code",
   "execution_count": 15,
   "id": "614a399e",
   "metadata": {
    "ExecuteTime": {
     "end_time": "2021-11-16T09:01:53.747681Z",
     "start_time": "2021-11-16T09:01:53.732714Z"
    }
   },
   "outputs": [
    {
     "data": {
      "text/html": [
       "<div>\n",
       "<style scoped>\n",
       "    .dataframe tbody tr th:only-of-type {\n",
       "        vertical-align: middle;\n",
       "    }\n",
       "\n",
       "    .dataframe tbody tr th {\n",
       "        vertical-align: top;\n",
       "    }\n",
       "\n",
       "    .dataframe thead th {\n",
       "        text-align: right;\n",
       "    }\n",
       "</style>\n",
       "<table border=\"1\" class=\"dataframe\">\n",
       "  <thead>\n",
       "    <tr style=\"text-align: right;\">\n",
       "      <th></th>\n",
       "      <th>2021-10-21</th>\n",
       "      <th>2021-10-22</th>\n",
       "      <th>2021-10-25</th>\n",
       "      <th>2021-10-26</th>\n",
       "      <th>2021-10-27</th>\n",
       "    </tr>\n",
       "  </thead>\n",
       "  <tbody>\n",
       "    <tr>\n",
       "      <th>股票1</th>\n",
       "      <td>-0.317043</td>\n",
       "      <td>-1.159330</td>\n",
       "      <td>-1.168263</td>\n",
       "      <td>-2.577904</td>\n",
       "      <td>-0.197868</td>\n",
       "    </tr>\n",
       "    <tr>\n",
       "      <th>股票2</th>\n",
       "      <td>0.738770</td>\n",
       "      <td>0.470906</td>\n",
       "      <td>-0.064190</td>\n",
       "      <td>-0.269796</td>\n",
       "      <td>-2.011034</td>\n",
       "    </tr>\n",
       "    <tr>\n",
       "      <th>股票3</th>\n",
       "      <td>-1.300438</td>\n",
       "      <td>-0.191114</td>\n",
       "      <td>1.235760</td>\n",
       "      <td>0.032771</td>\n",
       "      <td>-1.324533</td>\n",
       "    </tr>\n",
       "    <tr>\n",
       "      <th>股票4</th>\n",
       "      <td>0.145741</td>\n",
       "      <td>1.025108</td>\n",
       "      <td>-0.111921</td>\n",
       "      <td>-0.649878</td>\n",
       "      <td>-0.155247</td>\n",
       "    </tr>\n",
       "    <tr>\n",
       "      <th>股票5</th>\n",
       "      <td>0.890608</td>\n",
       "      <td>-0.017536</td>\n",
       "      <td>-1.139715</td>\n",
       "      <td>2.446010</td>\n",
       "      <td>1.647755</td>\n",
       "    </tr>\n",
       "  </tbody>\n",
       "</table>\n",
       "</div>"
      ],
      "text/plain": [
       "     2021-10-21  2021-10-22  2021-10-25  2021-10-26  2021-10-27\n",
       "股票1   -0.317043   -1.159330   -1.168263   -2.577904   -0.197868\n",
       "股票2    0.738770    0.470906   -0.064190   -0.269796   -2.011034\n",
       "股票3   -1.300438   -0.191114    1.235760    0.032771   -1.324533\n",
       "股票4    0.145741    1.025108   -0.111921   -0.649878   -0.155247\n",
       "股票5    0.890608   -0.017536   -1.139715    2.446010    1.647755"
      ]
     },
     "execution_count": 15,
     "metadata": {},
     "output_type": "execute_result"
    }
   ],
   "source": [
    "# 只显示前5行\n",
    "data.head()"
   ]
  },
  {
   "cell_type": "code",
   "execution_count": 16,
   "id": "71ebf252",
   "metadata": {
    "ExecuteTime": {
     "end_time": "2021-11-16T09:02:15.303354Z",
     "start_time": "2021-11-16T09:02:15.286768Z"
    }
   },
   "outputs": [
    {
     "data": {
      "text/html": [
       "<div>\n",
       "<style scoped>\n",
       "    .dataframe tbody tr th:only-of-type {\n",
       "        vertical-align: middle;\n",
       "    }\n",
       "\n",
       "    .dataframe tbody tr th {\n",
       "        vertical-align: top;\n",
       "    }\n",
       "\n",
       "    .dataframe thead th {\n",
       "        text-align: right;\n",
       "    }\n",
       "</style>\n",
       "<table border=\"1\" class=\"dataframe\">\n",
       "  <thead>\n",
       "    <tr style=\"text-align: right;\">\n",
       "      <th></th>\n",
       "      <th>2021-10-21</th>\n",
       "      <th>2021-10-22</th>\n",
       "      <th>2021-10-25</th>\n",
       "      <th>2021-10-26</th>\n",
       "      <th>2021-10-27</th>\n",
       "    </tr>\n",
       "  </thead>\n",
       "  <tbody>\n",
       "    <tr>\n",
       "      <th>股票6</th>\n",
       "      <td>0.067346</td>\n",
       "      <td>-0.307855</td>\n",
       "      <td>1.159237</td>\n",
       "      <td>0.167551</td>\n",
       "      <td>0.326085</td>\n",
       "    </tr>\n",
       "    <tr>\n",
       "      <th>股票7</th>\n",
       "      <td>0.403635</td>\n",
       "      <td>-0.613115</td>\n",
       "      <td>1.275778</td>\n",
       "      <td>-0.651872</td>\n",
       "      <td>0.281553</td>\n",
       "    </tr>\n",
       "    <tr>\n",
       "      <th>股票8</th>\n",
       "      <td>-0.419083</td>\n",
       "      <td>0.652158</td>\n",
       "      <td>0.697393</td>\n",
       "      <td>0.886474</td>\n",
       "      <td>1.188607</td>\n",
       "    </tr>\n",
       "    <tr>\n",
       "      <th>股票9</th>\n",
       "      <td>1.062580</td>\n",
       "      <td>-0.266388</td>\n",
       "      <td>0.746071</td>\n",
       "      <td>-0.129672</td>\n",
       "      <td>-1.270230</td>\n",
       "    </tr>\n",
       "    <tr>\n",
       "      <th>股票10</th>\n",
       "      <td>-0.062950</td>\n",
       "      <td>0.471781</td>\n",
       "      <td>0.156481</td>\n",
       "      <td>1.145750</td>\n",
       "      <td>-0.140654</td>\n",
       "    </tr>\n",
       "  </tbody>\n",
       "</table>\n",
       "</div>"
      ],
      "text/plain": [
       "      2021-10-21  2021-10-22  2021-10-25  2021-10-26  2021-10-27\n",
       "股票6     0.067346   -0.307855    1.159237    0.167551    0.326085\n",
       "股票7     0.403635   -0.613115    1.275778   -0.651872    0.281553\n",
       "股票8    -0.419083    0.652158    0.697393    0.886474    1.188607\n",
       "股票9     1.062580   -0.266388    0.746071   -0.129672   -1.270230\n",
       "股票10   -0.062950    0.471781    0.156481    1.145750   -0.140654"
      ]
     },
     "execution_count": 16,
     "metadata": {},
     "output_type": "execute_result"
    }
   ],
   "source": [
    "# 只显示后五行\n",
    "data.tail()"
   ]
  },
  {
   "cell_type": "markdown",
   "id": "503f3282",
   "metadata": {},
   "source": [
    "## 设置与重新设置索引\n",
    "* 设置时，使用.index与.columns属性，同前面\n",
    "\n",
    "* 设置新索引时，还可以使用set_index(keys, drop=True)\n",
    "\n",
    "* 重新设置时，使用reset_index()"
   ]
  },
  {
   "cell_type": "markdown",
   "id": "d20e911f",
   "metadata": {},
   "source": [
    "### 重新设置索引"
   ]
  },
  {
   "cell_type": "code",
   "execution_count": 22,
   "id": "01d226a5",
   "metadata": {
    "ExecuteTime": {
     "end_time": "2021-11-16T09:13:00.134558Z",
     "start_time": "2021-11-16T09:13:00.119743Z"
    }
   },
   "outputs": [
    {
     "data": {
      "text/html": [
       "<div>\n",
       "<style scoped>\n",
       "    .dataframe tbody tr th:only-of-type {\n",
       "        vertical-align: middle;\n",
       "    }\n",
       "\n",
       "    .dataframe tbody tr th {\n",
       "        vertical-align: top;\n",
       "    }\n",
       "\n",
       "    .dataframe thead th {\n",
       "        text-align: right;\n",
       "    }\n",
       "</style>\n",
       "<table border=\"1\" class=\"dataframe\">\n",
       "  <thead>\n",
       "    <tr style=\"text-align: right;\">\n",
       "      <th></th>\n",
       "      <th>index</th>\n",
       "      <th>2021-10-21 00:00:00</th>\n",
       "      <th>2021-10-22 00:00:00</th>\n",
       "      <th>2021-10-25 00:00:00</th>\n",
       "      <th>2021-10-26 00:00:00</th>\n",
       "      <th>2021-10-27 00:00:00</th>\n",
       "    </tr>\n",
       "  </thead>\n",
       "  <tbody>\n",
       "    <tr>\n",
       "      <th>0</th>\n",
       "      <td>股票1</td>\n",
       "      <td>-0.317043</td>\n",
       "      <td>-1.159330</td>\n",
       "      <td>-1.168263</td>\n",
       "      <td>-2.577904</td>\n",
       "      <td>-0.197868</td>\n",
       "    </tr>\n",
       "    <tr>\n",
       "      <th>1</th>\n",
       "      <td>股票2</td>\n",
       "      <td>0.738770</td>\n",
       "      <td>0.470906</td>\n",
       "      <td>-0.064190</td>\n",
       "      <td>-0.269796</td>\n",
       "      <td>-2.011034</td>\n",
       "    </tr>\n",
       "    <tr>\n",
       "      <th>2</th>\n",
       "      <td>股票3</td>\n",
       "      <td>-1.300438</td>\n",
       "      <td>-0.191114</td>\n",
       "      <td>1.235760</td>\n",
       "      <td>0.032771</td>\n",
       "      <td>-1.324533</td>\n",
       "    </tr>\n",
       "    <tr>\n",
       "      <th>3</th>\n",
       "      <td>股票4</td>\n",
       "      <td>0.145741</td>\n",
       "      <td>1.025108</td>\n",
       "      <td>-0.111921</td>\n",
       "      <td>-0.649878</td>\n",
       "      <td>-0.155247</td>\n",
       "    </tr>\n",
       "    <tr>\n",
       "      <th>4</th>\n",
       "      <td>股票5</td>\n",
       "      <td>0.890608</td>\n",
       "      <td>-0.017536</td>\n",
       "      <td>-1.139715</td>\n",
       "      <td>2.446010</td>\n",
       "      <td>1.647755</td>\n",
       "    </tr>\n",
       "    <tr>\n",
       "      <th>5</th>\n",
       "      <td>股票6</td>\n",
       "      <td>0.067346</td>\n",
       "      <td>-0.307855</td>\n",
       "      <td>1.159237</td>\n",
       "      <td>0.167551</td>\n",
       "      <td>0.326085</td>\n",
       "    </tr>\n",
       "    <tr>\n",
       "      <th>6</th>\n",
       "      <td>股票7</td>\n",
       "      <td>0.403635</td>\n",
       "      <td>-0.613115</td>\n",
       "      <td>1.275778</td>\n",
       "      <td>-0.651872</td>\n",
       "      <td>0.281553</td>\n",
       "    </tr>\n",
       "    <tr>\n",
       "      <th>7</th>\n",
       "      <td>股票8</td>\n",
       "      <td>-0.419083</td>\n",
       "      <td>0.652158</td>\n",
       "      <td>0.697393</td>\n",
       "      <td>0.886474</td>\n",
       "      <td>1.188607</td>\n",
       "    </tr>\n",
       "    <tr>\n",
       "      <th>8</th>\n",
       "      <td>股票9</td>\n",
       "      <td>1.062580</td>\n",
       "      <td>-0.266388</td>\n",
       "      <td>0.746071</td>\n",
       "      <td>-0.129672</td>\n",
       "      <td>-1.270230</td>\n",
       "    </tr>\n",
       "    <tr>\n",
       "      <th>9</th>\n",
       "      <td>股票10</td>\n",
       "      <td>-0.062950</td>\n",
       "      <td>0.471781</td>\n",
       "      <td>0.156481</td>\n",
       "      <td>1.145750</td>\n",
       "      <td>-0.140654</td>\n",
       "    </tr>\n",
       "  </tbody>\n",
       "</table>\n",
       "</div>"
      ],
      "text/plain": [
       "  index  2021-10-21 00:00:00  2021-10-22 00:00:00  2021-10-25 00:00:00  \\\n",
       "0   股票1            -0.317043            -1.159330            -1.168263   \n",
       "1   股票2             0.738770             0.470906            -0.064190   \n",
       "2   股票3            -1.300438            -0.191114             1.235760   \n",
       "3   股票4             0.145741             1.025108            -0.111921   \n",
       "4   股票5             0.890608            -0.017536            -1.139715   \n",
       "5   股票6             0.067346            -0.307855             1.159237   \n",
       "6   股票7             0.403635            -0.613115             1.275778   \n",
       "7   股票8            -0.419083             0.652158             0.697393   \n",
       "8   股票9             1.062580            -0.266388             0.746071   \n",
       "9  股票10            -0.062950             0.471781             0.156481   \n",
       "\n",
       "   2021-10-26 00:00:00  2021-10-27 00:00:00  \n",
       "0            -2.577904            -0.197868  \n",
       "1            -0.269796            -2.011034  \n",
       "2             0.032771            -1.324533  \n",
       "3            -0.649878            -0.155247  \n",
       "4             2.446010             1.647755  \n",
       "5             0.167551             0.326085  \n",
       "6            -0.651872             0.281553  \n",
       "7             0.886474             1.188607  \n",
       "8            -0.129672            -1.270230  \n",
       "9             1.145750            -0.140654  "
      ]
     },
     "execution_count": 22,
     "metadata": {},
     "output_type": "execute_result"
    }
   ],
   "source": [
    "data.reset_index()"
   ]
  },
  {
   "cell_type": "code",
   "execution_count": 21,
   "id": "8c03ed8f",
   "metadata": {
    "ExecuteTime": {
     "end_time": "2021-11-16T09:11:24.669651Z",
     "start_time": "2021-11-16T09:11:24.652983Z"
    }
   },
   "outputs": [
    {
     "data": {
      "text/html": [
       "<div>\n",
       "<style scoped>\n",
       "    .dataframe tbody tr th:only-of-type {\n",
       "        vertical-align: middle;\n",
       "    }\n",
       "\n",
       "    .dataframe tbody tr th {\n",
       "        vertical-align: top;\n",
       "    }\n",
       "\n",
       "    .dataframe thead th {\n",
       "        text-align: right;\n",
       "    }\n",
       "</style>\n",
       "<table border=\"1\" class=\"dataframe\">\n",
       "  <thead>\n",
       "    <tr style=\"text-align: right;\">\n",
       "      <th></th>\n",
       "      <th>2021-10-21</th>\n",
       "      <th>2021-10-22</th>\n",
       "      <th>2021-10-25</th>\n",
       "      <th>2021-10-26</th>\n",
       "      <th>2021-10-27</th>\n",
       "    </tr>\n",
       "  </thead>\n",
       "  <tbody>\n",
       "    <tr>\n",
       "      <th>0</th>\n",
       "      <td>-0.317043</td>\n",
       "      <td>-1.159330</td>\n",
       "      <td>-1.168263</td>\n",
       "      <td>-2.577904</td>\n",
       "      <td>-0.197868</td>\n",
       "    </tr>\n",
       "    <tr>\n",
       "      <th>1</th>\n",
       "      <td>0.738770</td>\n",
       "      <td>0.470906</td>\n",
       "      <td>-0.064190</td>\n",
       "      <td>-0.269796</td>\n",
       "      <td>-2.011034</td>\n",
       "    </tr>\n",
       "    <tr>\n",
       "      <th>2</th>\n",
       "      <td>-1.300438</td>\n",
       "      <td>-0.191114</td>\n",
       "      <td>1.235760</td>\n",
       "      <td>0.032771</td>\n",
       "      <td>-1.324533</td>\n",
       "    </tr>\n",
       "    <tr>\n",
       "      <th>3</th>\n",
       "      <td>0.145741</td>\n",
       "      <td>1.025108</td>\n",
       "      <td>-0.111921</td>\n",
       "      <td>-0.649878</td>\n",
       "      <td>-0.155247</td>\n",
       "    </tr>\n",
       "    <tr>\n",
       "      <th>4</th>\n",
       "      <td>0.890608</td>\n",
       "      <td>-0.017536</td>\n",
       "      <td>-1.139715</td>\n",
       "      <td>2.446010</td>\n",
       "      <td>1.647755</td>\n",
       "    </tr>\n",
       "    <tr>\n",
       "      <th>5</th>\n",
       "      <td>0.067346</td>\n",
       "      <td>-0.307855</td>\n",
       "      <td>1.159237</td>\n",
       "      <td>0.167551</td>\n",
       "      <td>0.326085</td>\n",
       "    </tr>\n",
       "    <tr>\n",
       "      <th>6</th>\n",
       "      <td>0.403635</td>\n",
       "      <td>-0.613115</td>\n",
       "      <td>1.275778</td>\n",
       "      <td>-0.651872</td>\n",
       "      <td>0.281553</td>\n",
       "    </tr>\n",
       "    <tr>\n",
       "      <th>7</th>\n",
       "      <td>-0.419083</td>\n",
       "      <td>0.652158</td>\n",
       "      <td>0.697393</td>\n",
       "      <td>0.886474</td>\n",
       "      <td>1.188607</td>\n",
       "    </tr>\n",
       "    <tr>\n",
       "      <th>8</th>\n",
       "      <td>1.062580</td>\n",
       "      <td>-0.266388</td>\n",
       "      <td>0.746071</td>\n",
       "      <td>-0.129672</td>\n",
       "      <td>-1.270230</td>\n",
       "    </tr>\n",
       "    <tr>\n",
       "      <th>9</th>\n",
       "      <td>-0.062950</td>\n",
       "      <td>0.471781</td>\n",
       "      <td>0.156481</td>\n",
       "      <td>1.145750</td>\n",
       "      <td>-0.140654</td>\n",
       "    </tr>\n",
       "  </tbody>\n",
       "</table>\n",
       "</div>"
      ],
      "text/plain": [
       "   2021-10-21  2021-10-22  2021-10-25  2021-10-26  2021-10-27\n",
       "0   -0.317043   -1.159330   -1.168263   -2.577904   -0.197868\n",
       "1    0.738770    0.470906   -0.064190   -0.269796   -2.011034\n",
       "2   -1.300438   -0.191114    1.235760    0.032771   -1.324533\n",
       "3    0.145741    1.025108   -0.111921   -0.649878   -0.155247\n",
       "4    0.890608   -0.017536   -1.139715    2.446010    1.647755\n",
       "5    0.067346   -0.307855    1.159237    0.167551    0.326085\n",
       "6    0.403635   -0.613115    1.275778   -0.651872    0.281553\n",
       "7   -0.419083    0.652158    0.697393    0.886474    1.188607\n",
       "8    1.062580   -0.266388    0.746071   -0.129672   -1.270230\n",
       "9   -0.062950    0.471781    0.156481    1.145750   -0.140654"
      ]
     },
     "execution_count": 21,
     "metadata": {},
     "output_type": "execute_result"
    }
   ],
   "source": [
    "# 丢弃原标签\n",
    "data.reset_index(drop=True)"
   ]
  },
  {
   "cell_type": "markdown",
   "id": "5865433e",
   "metadata": {},
   "source": [
    "### 以某列设置新索引"
   ]
  },
  {
   "cell_type": "code",
   "execution_count": 26,
   "id": "3c1a64f8",
   "metadata": {
    "ExecuteTime": {
     "end_time": "2021-11-16T09:16:15.577454Z",
     "start_time": "2021-11-16T09:16:15.565758Z"
    }
   },
   "outputs": [
    {
     "data": {
      "text/html": [
       "<div>\n",
       "<style scoped>\n",
       "    .dataframe tbody tr th:only-of-type {\n",
       "        vertical-align: middle;\n",
       "    }\n",
       "\n",
       "    .dataframe tbody tr th {\n",
       "        vertical-align: top;\n",
       "    }\n",
       "\n",
       "    .dataframe thead th {\n",
       "        text-align: right;\n",
       "    }\n",
       "</style>\n",
       "<table border=\"1\" class=\"dataframe\">\n",
       "  <thead>\n",
       "    <tr style=\"text-align: right;\">\n",
       "      <th></th>\n",
       "      <th>month</th>\n",
       "      <th>year</th>\n",
       "      <th>sale</th>\n",
       "    </tr>\n",
       "  </thead>\n",
       "  <tbody>\n",
       "    <tr>\n",
       "      <th>0</th>\n",
       "      <td>1</td>\n",
       "      <td>2012</td>\n",
       "      <td>55</td>\n",
       "    </tr>\n",
       "    <tr>\n",
       "      <th>1</th>\n",
       "      <td>4</td>\n",
       "      <td>2014</td>\n",
       "      <td>40</td>\n",
       "    </tr>\n",
       "    <tr>\n",
       "      <th>2</th>\n",
       "      <td>7</td>\n",
       "      <td>2016</td>\n",
       "      <td>84</td>\n",
       "    </tr>\n",
       "    <tr>\n",
       "      <th>3</th>\n",
       "      <td>10</td>\n",
       "      <td>2018</td>\n",
       "      <td>31</td>\n",
       "    </tr>\n",
       "  </tbody>\n",
       "</table>\n",
       "</div>"
      ],
      "text/plain": [
       "   month  year  sale\n",
       "0      1  2012    55\n",
       "1      4  2014    40\n",
       "2      7  2016    84\n",
       "3     10  2018    31"
      ]
     },
     "execution_count": 26,
     "metadata": {},
     "output_type": "execute_result"
    }
   ],
   "source": [
    "# 先创建一个新的DataFrame\n",
    "df = pd.DataFrame({'month': [1, 4, 7, 10],\n",
    "                   'year' : [2012, 2014, 2016, 2018],\n",
    "                   'sale' : [55, 40, 84, 31]})\n",
    "df"
   ]
  },
  {
   "cell_type": "code",
   "execution_count": 27,
   "id": "432ebf63",
   "metadata": {
    "ExecuteTime": {
     "end_time": "2021-11-16T09:19:08.208232Z",
     "start_time": "2021-11-16T09:19:08.200979Z"
    }
   },
   "outputs": [
    {
     "data": {
      "text/html": [
       "<div>\n",
       "<style scoped>\n",
       "    .dataframe tbody tr th:only-of-type {\n",
       "        vertical-align: middle;\n",
       "    }\n",
       "\n",
       "    .dataframe tbody tr th {\n",
       "        vertical-align: top;\n",
       "    }\n",
       "\n",
       "    .dataframe thead th {\n",
       "        text-align: right;\n",
       "    }\n",
       "</style>\n",
       "<table border=\"1\" class=\"dataframe\">\n",
       "  <thead>\n",
       "    <tr style=\"text-align: right;\">\n",
       "      <th></th>\n",
       "      <th>month</th>\n",
       "      <th>sale</th>\n",
       "    </tr>\n",
       "    <tr>\n",
       "      <th>year</th>\n",
       "      <th></th>\n",
       "      <th></th>\n",
       "    </tr>\n",
       "  </thead>\n",
       "  <tbody>\n",
       "    <tr>\n",
       "      <th>2012</th>\n",
       "      <td>1</td>\n",
       "      <td>55</td>\n",
       "    </tr>\n",
       "    <tr>\n",
       "      <th>2014</th>\n",
       "      <td>4</td>\n",
       "      <td>40</td>\n",
       "    </tr>\n",
       "    <tr>\n",
       "      <th>2016</th>\n",
       "      <td>7</td>\n",
       "      <td>84</td>\n",
       "    </tr>\n",
       "    <tr>\n",
       "      <th>2018</th>\n",
       "      <td>10</td>\n",
       "      <td>31</td>\n",
       "    </tr>\n",
       "  </tbody>\n",
       "</table>\n",
       "</div>"
      ],
      "text/plain": [
       "      month  sale\n",
       "year             \n",
       "2012      1    55\n",
       "2014      4    40\n",
       "2016      7    84\n",
       "2018     10    31"
      ]
     },
     "execution_count": 27,
     "metadata": {},
     "output_type": "execute_result"
    }
   ],
   "source": [
    "# 将year这一列作为索引\n",
    "df.set_index(keys=['year'])"
   ]
  },
  {
   "cell_type": "code",
   "execution_count": 28,
   "id": "c2fd49fa",
   "metadata": {
    "ExecuteTime": {
     "end_time": "2021-11-16T09:20:34.514638Z",
     "start_time": "2021-11-16T09:20:34.502653Z"
    }
   },
   "outputs": [
    {
     "data": {
      "text/html": [
       "<div>\n",
       "<style scoped>\n",
       "    .dataframe tbody tr th:only-of-type {\n",
       "        vertical-align: middle;\n",
       "    }\n",
       "\n",
       "    .dataframe tbody tr th {\n",
       "        vertical-align: top;\n",
       "    }\n",
       "\n",
       "    .dataframe thead th {\n",
       "        text-align: right;\n",
       "    }\n",
       "</style>\n",
       "<table border=\"1\" class=\"dataframe\">\n",
       "  <thead>\n",
       "    <tr style=\"text-align: right;\">\n",
       "      <th></th>\n",
       "      <th></th>\n",
       "      <th>sale</th>\n",
       "    </tr>\n",
       "    <tr>\n",
       "      <th>year</th>\n",
       "      <th>month</th>\n",
       "      <th></th>\n",
       "    </tr>\n",
       "  </thead>\n",
       "  <tbody>\n",
       "    <tr>\n",
       "      <th>2012</th>\n",
       "      <th>1</th>\n",
       "      <td>55</td>\n",
       "    </tr>\n",
       "    <tr>\n",
       "      <th>2014</th>\n",
       "      <th>4</th>\n",
       "      <td>40</td>\n",
       "    </tr>\n",
       "    <tr>\n",
       "      <th>2016</th>\n",
       "      <th>7</th>\n",
       "      <td>84</td>\n",
       "    </tr>\n",
       "    <tr>\n",
       "      <th>2018</th>\n",
       "      <th>10</th>\n",
       "      <td>31</td>\n",
       "    </tr>\n",
       "  </tbody>\n",
       "</table>\n",
       "</div>"
      ],
      "text/plain": [
       "            sale\n",
       "year month      \n",
       "2012 1        55\n",
       "2014 4        40\n",
       "2016 7        84\n",
       "2018 10       31"
      ]
     },
     "execution_count": 28,
     "metadata": {},
     "output_type": "execute_result"
    }
   ],
   "source": [
    "# 设置多个索引\n",
    "# 这时候变成了三位数组，每个年份里面有多个月份，每个月份有多个sale\n",
    "df.set_index(keys=['year', 'month'])"
   ]
  },
  {
   "cell_type": "code",
   "execution_count": null,
   "id": "f53c01ba",
   "metadata": {},
   "outputs": [],
   "source": []
  }
 ],
 "metadata": {
  "kernelspec": {
   "display_name": "Python 3 (ipykernel)",
   "language": "python",
   "name": "python3"
  },
  "language_info": {
   "codemirror_mode": {
    "name": "ipython",
    "version": 3
   },
   "file_extension": ".py",
   "mimetype": "text/x-python",
   "name": "python",
   "nbconvert_exporter": "python",
   "pygments_lexer": "ipython3",
   "version": "3.9.7"
  },
  "latex_envs": {
   "LaTeX_envs_menu_present": true,
   "autoclose": true,
   "autocomplete": true,
   "bibliofile": "biblio.bib",
   "cite_by": "apalike",
   "current_citInitial": 1,
   "eqLabelWithNumbers": true,
   "eqNumInitial": 1,
   "hotkeys": {
    "equation": "Ctrl-E",
    "itemize": "Ctrl-I"
   },
   "labels_anchors": false,
   "latex_user_defs": false,
   "report_style_numbering": false,
   "user_envs_cfg": false
  },
  "toc": {
   "base_numbering": 1,
   "nav_menu": {},
   "number_sections": true,
   "sideBar": true,
   "skip_h1_title": false,
   "title_cell": "Table of Contents",
   "title_sidebar": "Contents",
   "toc_cell": false,
   "toc_position": {
    "height": "calc(100% - 180px)",
    "left": "10px",
    "top": "150px",
    "width": "300.797px"
   },
   "toc_section_display": true,
   "toc_window_display": true
  }
 },
 "nbformat": 4,
 "nbformat_minor": 5
}
