{
 "cells": [
  {
   "cell_type": "markdown",
   "id": "2d6d0111",
   "metadata": {},
   "source": [
    "# 导入Numpy库"
   ]
  },
  {
   "cell_type": "code",
   "execution_count": 33,
   "id": "9970c456",
   "metadata": {
    "ExecuteTime": {
     "end_time": "2021-11-10T07:36:58.909008Z",
     "start_time": "2021-11-10T07:36:58.906493Z"
    }
   },
   "outputs": [],
   "source": [
    "import numpy as np\n",
    "import matplotlib.pyplot as plt"
   ]
  },
  {
   "cell_type": "markdown",
   "id": "f81f60fb",
   "metadata": {},
   "source": [
    "## 创建一维或者二维数组"
   ]
  },
  {
   "cell_type": "code",
   "execution_count": 3,
   "id": "9c14290b",
   "metadata": {
    "ExecuteTime": {
     "end_time": "2021-11-10T03:06:34.469075Z",
     "start_time": "2021-11-10T03:06:34.465555Z"
    }
   },
   "outputs": [],
   "source": [
    "x = np.array([1, 2, 3, 4, 5])\n",
    "y = np.array(range(5))\n",
    "z = np.array([[1, 2, 3],\n",
    "             [4, 5, 6]])"
   ]
  },
  {
   "cell_type": "code",
   "execution_count": 4,
   "id": "54fe5ce0",
   "metadata": {
    "ExecuteTime": {
     "end_time": "2021-11-10T03:06:35.525787Z",
     "start_time": "2021-11-10T03:06:35.513462Z"
    }
   },
   "outputs": [
    {
     "data": {
      "text/plain": [
       "array([[1, 2, 3],\n",
       "       [4, 5, 6]])"
      ]
     },
     "execution_count": 4,
     "metadata": {},
     "output_type": "execute_result"
    }
   ],
   "source": [
    "z"
   ]
  },
  {
   "cell_type": "markdown",
   "id": "30804716",
   "metadata": {},
   "source": [
    "### 特殊的数组创建linspace & logspace"
   ]
  },
  {
   "cell_type": "code",
   "execution_count": 5,
   "id": "a0941c58",
   "metadata": {
    "ExecuteTime": {
     "end_time": "2021-11-10T03:06:41.607443Z",
     "start_time": "2021-11-10T03:06:41.603071Z"
    }
   },
   "outputs": [],
   "source": [
    "# 含11个数的等差数组（包括开头和结尾）\n",
    "d1 = np.linspace(0, 10, 11)\n",
    "# 含11个数的等差数组（包括开头但不包括结尾）\n",
    "d2 = np.linspace(0, 10, 11, endpoint=False)\n",
    "#%%\n",
    "# 创建指数增长数组（底数是2）相当于2 ** np.linespace(1, 6, 5)\n",
    "s1 = np.logspace(1, 6, 5, base=2)\n",
    "s2 = np.logspace(1, 5, 5, base=2)"
   ]
  },
  {
   "cell_type": "markdown",
   "id": "28ea0b04",
   "metadata": {},
   "source": [
    "### 特殊矩阵的创建（零矩阵 & 单位矩阵 & 空矩阵）"
   ]
  },
  {
   "cell_type": "code",
   "execution_count": 6,
   "id": "ea67f6da",
   "metadata": {
    "ExecuteTime": {
     "end_time": "2021-11-10T03:06:45.293878Z",
     "start_time": "2021-11-10T03:06:45.289070Z"
    }
   },
   "outputs": [],
   "source": [
    "# 创建0矩阵和单位矩阵\n",
    "# 0矩阵\n",
    "zeroMatrix = np.zeros((3, 3))\n",
    "zeroVector = np.zeros(3)\n",
    "# 单位矩阵\n",
    "identityMatrix = np.ones((3, 3))\n",
    "identityVector = np.ones(3)\n",
    "# 空矩阵\n",
    "empty = np.empty((3, 3))"
   ]
  },
  {
   "cell_type": "markdown",
   "id": "522eb632",
   "metadata": {},
   "source": [
    "### 随机矩阵的创建"
   ]
  },
  {
   "cell_type": "code",
   "execution_count": 7,
   "id": "9fe30299",
   "metadata": {
    "ExecuteTime": {
     "end_time": "2021-11-10T03:06:48.184149Z",
     "start_time": "2021-11-10T03:06:48.177517Z"
    },
    "code_folding": []
   },
   "outputs": [],
   "source": [
    "# 随机数组（整数）\n",
    "randomVector = np.random.randint(0, 50, 5)\n",
    "randomMatrix = np.random.randint(0, 50, (3, 3))\n",
    "\n",
    "# 随机数组（实数）0-1\n",
    "randomRealNumberMatrix = np.random.rand(3, 2)\n"
   ]
  },
  {
   "cell_type": "markdown",
   "id": "47bd6e11",
   "metadata": {},
   "source": [
    "### 均匀分布 & 正态分布随机数\n",
    "* 正态分布画图验证\n",
    "* 均匀分布画图验证"
   ]
  },
  {
   "cell_type": "code",
   "execution_count": 36,
   "id": "06e3ffe4",
   "metadata": {
    "ExecuteTime": {
     "end_time": "2021-11-10T07:47:46.800589Z",
     "start_time": "2021-11-10T07:47:46.792530Z"
    }
   },
   "outputs": [
    {
     "data": {
      "text/plain": [
       "array([[3.54478829, 0.39647013, 2.41721529],\n",
       "       [3.0788124 , 0.56081254, 1.74558461],\n",
       "       [2.34550908, 1.02168465, 1.51499469]])"
      ]
     },
     "execution_count": 36,
     "metadata": {},
     "output_type": "execute_result"
    }
   ],
   "source": [
    "# 标准正态分布随机数组或者矩阵\n",
    "stNormalDistributionArray = np.random.standard_normal(5)\n",
    "stNormalDistributionMatrix = np.random.standard_normal(size=(3, 3))\n",
    "# 正态分布一般形式创建\n",
    "# loc：均值；scale：标准差\n",
    "normalDistributionArray = np.random.normal(loc=1.75, scale=1.0, size=5)\n",
    "normalDistributionMatrix = np.random.normal(loc=1.5, scale=1.0, size=(3, 3))\n",
    "\n",
    "# 标准0-1均匀分布随机数组或者矩阵\n",
    "stUniformDistributionArray = np.random.rand(5)\n",
    "# 均匀分布一般形式创建\n",
    "abNormalDistributionMatrix = np.random.uniform(1, 3, size=(3, 3)) # [1, 3)之间的均匀分布\n",
    "abNormalDistributionMatrix\n",
    "normalDistributionMatrix"
   ]
  },
  {
   "cell_type": "code",
   "execution_count": 32,
   "id": "2d146602",
   "metadata": {
    "ExecuteTime": {
     "end_time": "2021-11-10T07:28:40.566258Z",
     "start_time": "2021-11-10T07:28:39.922719Z"
    }
   },
   "outputs": [
    {
     "data": {
      "image/png": "[encoded data removed]",
      "text/plain": [
       "<Figure size 800x600 with 1 Axes>"
      ]
     },
     "metadata": {
      "needs_background": "light"
     },
     "output_type": "display_data"
    }
   ],
   "source": [
    "# 均匀分布画图展示验证\n",
    "x1 = np.random.uniform(-1, 1, 1000000)\n",
    "plt.figure(figsize=(8, 6), dpi=100)\n",
    "plt.hist(x=x1, bins=1000) # bins为要划分的区间数目\n",
    "plt.show()"
   ]
  },
  {
   "cell_type": "code",
   "execution_count": 40,
   "id": "2272db99",
   "metadata": {
    "ExecuteTime": {
     "end_time": "2021-11-10T07:50:27.966681Z",
     "start_time": "2021-11-10T07:50:27.067250Z"
    }
   },
   "outputs": [
    {
     "data": {
      "image/png": "[encoded data removed]",
      "text/plain": [
       "<Figure size 800x600 with 1 Axes>"
      ]
     },
     "metadata": {
      "needs_background": "light"
     },
     "output_type": "display_data"
    }
   ],
   "source": [
    "# 标准正态分布画图展示\n",
    "y = np.random.normal(loc=0, scale=1, size=10000000)\n",
    "plt.figure(figsize=(8, 6), dpi=100)\n",
    "plt.hist(x=y, bins=1000)\n",
    "plt.show()"
   ]
  },
  {
   "cell_type": "markdown",
   "id": "a0854d60",
   "metadata": {},
   "source": [
    "### 对角矩阵"
   ]
  },
  {
   "cell_type": "code",
   "execution_count": 8,
   "id": "14062f4e",
   "metadata": {
    "ExecuteTime": {
     "end_time": "2021-11-10T03:06:50.360887Z",
     "start_time": "2021-11-10T03:06:50.358211Z"
    }
   },
   "outputs": [],
   "source": [
    "# 对角矩阵\n",
    "diagMatrix = np.diag(range(4))"
   ]
  },
  {
   "cell_type": "code",
   "execution_count": 9,
   "id": "1bd1c9ca",
   "metadata": {
    "ExecuteTime": {
     "end_time": "2021-11-10T03:06:50.887382Z",
     "start_time": "2021-11-10T03:06:50.882684Z"
    }
   },
   "outputs": [
    {
     "data": {
      "text/plain": [
       "array([[0, 0, 0, 0],\n",
       "       [0, 1, 0, 0],\n",
       "       [0, 0, 2, 0],\n",
       "       [0, 0, 0, 3]])"
      ]
     },
     "execution_count": 9,
     "metadata": {},
     "output_type": "execute_result"
    }
   ],
   "source": [
    "diagMatrix"
   ]
  }
 ],
 "metadata": {
  "kernelspec": {
   "display_name": "Python 3 (ipykernel)",
   "language": "python",
   "name": "python3"
  },
  "language_info": {
   "codemirror_mode": {
    "name": "ipython",
    "version": 3
   },
   "file_extension": ".py",
   "mimetype": "text/x-python",
   "name": "python",
   "nbconvert_exporter": "python",
   "pygments_lexer": "ipython3",
   "version": "3.9.7"
  },
  "latex_envs": {
   "LaTeX_envs_menu_present": true,
   "autoclose": true,
   "autocomplete": true,
   "bibliofile": "biblio.bib",
   "cite_by": "apalike",
   "current_citInitial": 1,
   "eqLabelWithNumbers": true,
   "eqNumInitial": 1,
   "hotkeys": {
    "equation": "Ctrl-E",
    "itemize": "Ctrl-I"
   },
   "labels_anchors": false,
   "latex_user_defs": false,
   "report_style_numbering": false,
   "user_envs_cfg": false
  },
  "notify_time": "0",
  "toc": {
   "base_numbering": 1,
   "nav_menu": {
    "height": "71px",
    "width": "307px"
   },
   "number_sections": true,
   "sideBar": true,
   "skip_h1_title": false,
   "title_cell": "Table of Contents",
   "title_sidebar": "Contents",
   "toc_cell": false,
   "toc_position": {
    "height": "calc(100% - 180px)",
    "left": "10px",
    "top": "150px",
    "width": "314.594px"
   },
   "toc_section_display": true,
   "toc_window_display": true
  }
 },
 "nbformat": 4,
 "nbformat_minor": 5
}
