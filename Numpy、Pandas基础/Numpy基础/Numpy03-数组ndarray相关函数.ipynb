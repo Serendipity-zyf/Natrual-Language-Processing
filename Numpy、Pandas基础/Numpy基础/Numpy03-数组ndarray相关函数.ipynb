{
 "cells": [
  {
   "cell_type": "markdown",
   "id": "d6b67743",
   "metadata": {},
   "source": [
    "## Example1:随机生成8支股票在10个工作日的涨幅\n",
    "* 假设涨幅是服从标准正态分布的随机数\n",
    "* 使用Numpy创建"
   ]
  },
  {
   "cell_type": "code",
   "execution_count": 2,
   "id": "acfdc020",
   "metadata": {
    "ExecuteTime": {
     "end_time": "2021-11-15T12:29:06.332493Z",
     "start_time": "2021-11-15T12:29:06.228514Z"
    }
   },
   "outputs": [],
   "source": [
    "import numpy as np"
   ]
  },
  {
   "cell_type": "code",
   "execution_count": 2,
   "id": "6fa31af2",
   "metadata": {
    "ExecuteTime": {
     "end_time": "2021-11-10T09:35:32.819170Z",
     "start_time": "2021-11-10T09:35:32.811418Z"
    }
   },
   "outputs": [
    {
     "data": {
      "text/plain": [
       "array([[-1.11621094, -0.21354023,  0.5581646 , -1.54092561, -1.13284461],\n",
       "       [ 1.059868  ,  1.10259765,  0.76896185, -0.77727606, -0.90900192],\n",
       "       [-0.97338003,  0.68558485, -1.38874641,  0.78860752, -1.86835345],\n",
       "       [ 0.69868705, -0.50903825, -0.27836606,  0.48225089,  0.00665251]])"
      ]
     },
     "execution_count": 2,
     "metadata": {},
     "output_type": "execute_result"
    }
   ],
   "source": [
    "stock_change = np.random.normal(0, 1, size=(4, 5))\n",
    "stock_change"
   ]
  },
  {
   "cell_type": "markdown",
   "id": "144176d4",
   "metadata": {},
   "source": [
    "## 数组的索引 & 切片"
   ]
  },
  {
   "cell_type": "code",
   "execution_count": 16,
   "id": "fe32d74c",
   "metadata": {
    "ExecuteTime": {
     "end_time": "2021-11-10T08:13:47.449770Z",
     "start_time": "2021-11-10T08:13:47.445230Z"
    }
   },
   "outputs": [
    {
     "name": "stdout",
     "output_type": "stream",
     "text": [
      "[[-0.34870071  1.18882118  0.85403344]\n",
      " [ 0.92003491  0.63527317 -0.86840077]]\n",
      "\n",
      "[-0.34870071  1.18882118  0.85403344]\n"
     ]
    }
   ],
   "source": [
    "# 显示前两行 前三列\n",
    "print(stock_change[0:2, 0:3])\n",
    "print('')\n",
    "print(stock_change[0, 0:3])"
   ]
  },
  {
   "cell_type": "markdown",
   "id": "5e817713",
   "metadata": {},
   "source": [
    "### 多维数组的索引 & 切片"
   ]
  },
  {
   "cell_type": "code",
   "execution_count": 17,
   "id": "030e60bb",
   "metadata": {
    "ExecuteTime": {
     "end_time": "2021-11-10T08:13:50.346402Z",
     "start_time": "2021-11-10T08:13:50.341090Z"
    }
   },
   "outputs": [
    {
     "data": {
      "text/plain": [
       "array([[[ 1,  2,  3],\n",
       "        [ 4,  5,  6]],\n",
       "\n",
       "       [[ 7,  8,  9],\n",
       "        [10, 11, 12]]])"
      ]
     },
     "execution_count": 17,
     "metadata": {},
     "output_type": "execute_result"
    }
   ],
   "source": [
    "a3 = np.array([[[1, 2, 3], \n",
    "                [4, 5, 6]],\n",
    "               \n",
    "              [[7, 8, 9],\n",
    "              [10, 11, 12]]\n",
    "              ])\n",
    "# a3.shape = (2, 2, 3)\n",
    "a3"
   ]
  },
  {
   "cell_type": "code",
   "execution_count": 12,
   "id": "2cc764ea",
   "metadata": {
    "ExecuteTime": {
     "end_time": "2021-11-10T08:09:55.972411Z",
     "start_time": "2021-11-10T08:09:55.968311Z"
    }
   },
   "outputs": [
    {
     "data": {
      "text/plain": [
       "12"
      ]
     },
     "execution_count": 12,
     "metadata": {},
     "output_type": "execute_result"
    }
   ],
   "source": [
    "a3[1, 1, 2]"
   ]
  },
  {
   "cell_type": "markdown",
   "id": "71a896fc",
   "metadata": {},
   "source": [
    "## 形状修改"
   ]
  },
  {
   "cell_type": "code",
   "execution_count": 18,
   "id": "71e0b859",
   "metadata": {
    "ExecuteTime": {
     "end_time": "2021-11-10T08:15:05.810190Z",
     "start_time": "2021-11-10T08:15:05.805462Z"
    }
   },
   "outputs": [
    {
     "data": {
      "text/plain": [
       "array([[-0.34870071,  1.18882118,  0.85403344, -0.96648594],\n",
       "       [-0.57264086,  0.92003491,  0.63527317, -0.86840077],\n",
       "       [-1.82573194,  0.15936867,  1.45164859,  0.89743458],\n",
       "       [ 0.2448957 , -2.81929414,  0.00845409,  0.11095666],\n",
       "       [-0.75968421, -2.81197907, -1.27913722,  0.85384879]])"
      ]
     },
     "execution_count": 18,
     "metadata": {},
     "output_type": "execute_result"
    }
   ],
   "source": [
    "# reshape是先将所有数据排成一行，然后再更改形状\n",
    "stock_change.reshape((5, 4))"
   ]
  },
  {
   "cell_type": "code",
   "execution_count": 19,
   "id": "f86c0f07",
   "metadata": {
    "ExecuteTime": {
     "end_time": "2021-11-10T08:17:38.135219Z",
     "start_time": "2021-11-10T08:17:38.130460Z"
    }
   },
   "outputs": [
    {
     "data": {
      "text/plain": [
       "array([[-0.34870071,  1.18882118],\n",
       "       [ 0.85403344, -0.96648594],\n",
       "       [-0.57264086,  0.92003491],\n",
       "       [ 0.63527317, -0.86840077],\n",
       "       [-1.82573194,  0.15936867],\n",
       "       [ 1.45164859,  0.89743458],\n",
       "       [ 0.2448957 , -2.81929414],\n",
       "       [ 0.00845409,  0.11095666],\n",
       "       [-0.75968421, -2.81197907],\n",
       "       [-1.27913722,  0.85384879]])"
      ]
     },
     "execution_count": 19,
     "metadata": {},
     "output_type": "execute_result"
    }
   ],
   "source": [
    "# -1表示然系统自己计算（真正应该是10行2列）\n",
    "stock_change.reshape((-1, 2))"
   ]
  },
  {
   "cell_type": "code",
   "execution_count": 21,
   "id": "3d80f809",
   "metadata": {
    "ExecuteTime": {
     "end_time": "2021-11-10T08:19:50.199823Z",
     "start_time": "2021-11-10T08:19:50.195113Z"
    }
   },
   "outputs": [
    {
     "data": {
      "text/plain": [
       "array([[-0.34870071,  1.18882118],\n",
       "       [ 0.85403344, -0.96648594],\n",
       "       [-0.57264086,  0.92003491],\n",
       "       [ 0.63527317, -0.86840077],\n",
       "       [-1.82573194,  0.15936867],\n",
       "       [ 1.45164859,  0.89743458],\n",
       "       [ 0.2448957 , -2.81929414],\n",
       "       [ 0.00845409,  0.11095666],\n",
       "       [-0.75968421, -2.81197907],\n",
       "       [-1.27913722,  0.85384879]])"
      ]
     },
     "execution_count": 21,
     "metadata": {},
     "output_type": "execute_result"
    }
   ],
   "source": [
    "# resize会在原来的基础上会进行更改，而reshape不变\n",
    "stock_change.resize((10, 2))\n",
    "stock_change"
   ]
  },
  {
   "cell_type": "code",
   "execution_count": 22,
   "id": "adf46976",
   "metadata": {
    "ExecuteTime": {
     "end_time": "2021-11-10T08:20:21.949364Z",
     "start_time": "2021-11-10T08:20:21.944530Z"
    }
   },
   "outputs": [
    {
     "data": {
      "text/plain": [
       "array([[-0.34870071,  0.85403344, -0.57264086,  0.63527317, -1.82573194,\n",
       "         1.45164859,  0.2448957 ,  0.00845409, -0.75968421, -1.27913722],\n",
       "       [ 1.18882118, -0.96648594,  0.92003491, -0.86840077,  0.15936867,\n",
       "         0.89743458, -2.81929414,  0.11095666, -2.81197907,  0.85384879]])"
      ]
     },
     "execution_count": 22,
     "metadata": {},
     "output_type": "execute_result"
    }
   ],
   "source": [
    "# 转置(也是不会产生新的变量)\n",
    "stock_change.T"
   ]
  },
  {
   "cell_type": "markdown",
   "id": "7d40ba6f",
   "metadata": {},
   "source": [
    "## 类型修改"
   ]
  },
  {
   "cell_type": "code",
   "execution_count": 3,
   "id": "ddd81707",
   "metadata": {
    "ExecuteTime": {
     "end_time": "2021-11-10T09:35:37.983792Z",
     "start_time": "2021-11-10T09:35:37.979414Z"
    }
   },
   "outputs": [
    {
     "data": {
      "text/plain": [
       "array([[-1.11621094, -0.21354023,  0.5581646 , -1.54092561, -1.13284461],\n",
       "       [ 1.059868  ,  1.10259765,  0.76896185, -0.77727606, -0.90900192],\n",
       "       [-0.97338003,  0.68558485, -1.38874641,  0.78860752, -1.86835345],\n",
       "       [ 0.69868705, -0.50903825, -0.27836606,  0.48225089,  0.00665251]])"
      ]
     },
     "execution_count": 3,
     "metadata": {},
     "output_type": "execute_result"
    }
   ],
   "source": [
    "stock_change"
   ]
  },
  {
   "cell_type": "code",
   "execution_count": 7,
   "id": "c407a767",
   "metadata": {
    "ExecuteTime": {
     "end_time": "2021-11-10T09:40:05.387045Z",
     "start_time": "2021-11-10T09:40:05.381567Z"
    }
   },
   "outputs": [
    {
     "name": "stdout",
     "output_type": "stream",
     "text": [
      "[[-1  0  0 -1 -1]\n",
      " [ 1  1  0  0  0]\n",
      " [ 0  0 -1  0 -1]\n",
      " [ 0  0  0  0  0]]\n"
     ]
    },
    {
     "data": {
      "text/plain": [
       "array([[-1.11621094, -0.21354023,  0.5581646 , -1.54092561, -1.13284461],\n",
       "       [ 1.059868  ,  1.10259765,  0.76896185, -0.77727606, -0.90900192],\n",
       "       [-0.97338003,  0.68558485, -1.38874641,  0.78860752, -1.86835345],\n",
       "       [ 0.69868705, -0.50903825, -0.27836606,  0.48225089,  0.00665251]])"
      ]
     },
     "execution_count": 7,
     "metadata": {},
     "output_type": "execute_result"
    }
   ],
   "source": [
    "# 修改成np.int32类型，但不产生新类型\n",
    "print(stock_change.astype(np.int32))\n",
    "stock_change"
   ]
  },
  {
   "cell_type": "code",
   "execution_count": 9,
   "id": "77d8f3b0",
   "metadata": {
    "ExecuteTime": {
     "end_time": "2021-11-10T09:51:04.545662Z",
     "start_time": "2021-11-10T09:51:04.536496Z"
    }
   },
   "outputs": [
    {
     "name": "stderr",
     "output_type": "stream",
     "text": [
      "/var/folders/g3/jwwz_y8d6wn55b900n__7cyw0000gn/T/ipykernel_5171/601192065.py:3: DeprecationWarning: tostring() is deprecated. Use tobytes() instead.\n",
      "  arr.tostring()\n"
     ]
    },
    {
     "data": {
      "text/plain": [
       "b'\\x01\\x00\\x00\\x00\\x00\\x00\\x00\\x00\\x02\\x00\\x00\\x00\\x00\\x00\\x00\\x00\\x02\\x00\\x00\\x00\\x00\\x00\\x00\\x00\\x03\\x00\\x00\\x00\\x00\\x00\\x00\\x00'"
      ]
     },
     "execution_count": 9,
     "metadata": {},
     "output_type": "execute_result"
    }
   ],
   "source": [
    "# 转换为字符串形式\n",
    "arr = np.array([[1, 2],\n",
    "               [2, 3]])\n",
    "arr.tostring()"
   ]
  },
  {
   "cell_type": "markdown",
   "id": "0e0d9c60",
   "metadata": {},
   "source": [
    "## 数组的去重"
   ]
  },
  {
   "cell_type": "code",
   "execution_count": 10,
   "id": "f6db77b0",
   "metadata": {
    "ExecuteTime": {
     "end_time": "2021-11-10T09:53:20.531275Z",
     "start_time": "2021-11-10T09:53:20.528343Z"
    }
   },
   "outputs": [],
   "source": [
    "temp = np.array([[1, 2, 3, 4], [2, 3, 5, 6]])"
   ]
  },
  {
   "cell_type": "code",
   "execution_count": 11,
   "id": "0f9c41f8",
   "metadata": {
    "ExecuteTime": {
     "end_time": "2021-11-10T09:53:37.868486Z",
     "start_time": "2021-11-10T09:53:37.863780Z"
    }
   },
   "outputs": [
    {
     "data": {
      "text/plain": [
       "array([1, 2, 3, 4, 5, 6])"
      ]
     },
     "execution_count": 11,
     "metadata": {},
     "output_type": "execute_result"
    }
   ],
   "source": [
    "# 去掉重复值，不产生新的返回值\n",
    "np.unique(temp)"
   ]
  },
  {
   "cell_type": "code",
   "execution_count": 12,
   "id": "4c721818",
   "metadata": {
    "ExecuteTime": {
     "end_time": "2021-11-10T09:53:42.318053Z",
     "start_time": "2021-11-10T09:53:42.314037Z"
    }
   },
   "outputs": [
    {
     "data": {
      "text/plain": [
       "array([[1, 2, 3, 4],\n",
       "       [2, 3, 5, 6]])"
      ]
     },
     "execution_count": 12,
     "metadata": {},
     "output_type": "execute_result"
    }
   ],
   "source": [
    "temp"
   ]
  },
  {
   "cell_type": "markdown",
   "id": "d1671f45",
   "metadata": {},
   "source": [
    "## 数组堆叠与合并\n",
    "数组堆叠是指沿特定的方向把多个数组合并到一起。\n",
    "* hstack()：水平堆叠\n",
    "* vstack()：垂直堆叠\n",
    "* concatenate():其中axis=0指垂直堆叠，axis=1指水平堆叠"
   ]
  },
  {
   "cell_type": "code",
   "execution_count": 6,
   "id": "976a9076",
   "metadata": {
    "ExecuteTime": {
     "end_time": "2021-11-15T12:30:22.007538Z",
     "start_time": "2021-11-15T12:30:22.004530Z"
    }
   },
   "outputs": [],
   "source": [
    "arr1 = np.array([1, 2, 3])\n",
    "arr2 = np.array([4, 5, 6])"
   ]
  },
  {
   "cell_type": "code",
   "execution_count": 4,
   "id": "1b9054cc",
   "metadata": {
    "ExecuteTime": {
     "end_time": "2021-11-15T12:29:13.121278Z",
     "start_time": "2021-11-15T12:29:13.105624Z"
    }
   },
   "outputs": [
    {
     "data": {
      "text/plain": [
       "matrix([[1, 2, 3, 4, 5, 6]])"
      ]
     },
     "execution_count": 4,
     "metadata": {},
     "output_type": "execute_result"
    }
   ],
   "source": [
    "# 水平堆叠\n",
    "np.hstack((arr1, arr2))"
   ]
  },
  {
   "cell_type": "code",
   "execution_count": 5,
   "id": "a05c31f0",
   "metadata": {
    "ExecuteTime": {
     "end_time": "2021-11-15T12:29:29.280953Z",
     "start_time": "2021-11-15T12:29:29.276025Z"
    }
   },
   "outputs": [
    {
     "data": {
      "text/plain": [
       "matrix([[1, 2, 3],\n",
       "        [4, 5, 6]])"
      ]
     },
     "execution_count": 5,
     "metadata": {},
     "output_type": "execute_result"
    }
   ],
   "source": [
    "# 垂直堆叠\n",
    "np.vstack((arr1, arr2))"
   ]
  },
  {
   "cell_type": "code",
   "execution_count": 10,
   "id": "238902a3",
   "metadata": {
    "ExecuteTime": {
     "end_time": "2021-11-15T12:31:01.083011Z",
     "start_time": "2021-11-15T12:31:01.079683Z"
    }
   },
   "outputs": [],
   "source": [
    "arr3 = np.matrix([[1], \n",
    "                 [2],\n",
    "                 [3]])\n",
    "arr4 = np.matrix([[4],\n",
    "                 [5],\n",
    "                 [6]])"
   ]
  },
  {
   "cell_type": "code",
   "execution_count": 11,
   "id": "343d1d19",
   "metadata": {
    "ExecuteTime": {
     "end_time": "2021-11-15T12:31:01.753056Z",
     "start_time": "2021-11-15T12:31:01.748501Z"
    }
   },
   "outputs": [
    {
     "data": {
      "text/plain": [
       "matrix([[1, 4],\n",
       "        [2, 5],\n",
       "        [3, 6]])"
      ]
     },
     "execution_count": 11,
     "metadata": {},
     "output_type": "execute_result"
    }
   ],
   "source": [
    "np.hstack((arr3, arr4))"
   ]
  },
  {
   "cell_type": "code",
   "execution_count": 12,
   "id": "e853b8a1",
   "metadata": {
    "ExecuteTime": {
     "end_time": "2021-11-15T12:31:03.252979Z",
     "start_time": "2021-11-15T12:31:03.248231Z"
    }
   },
   "outputs": [
    {
     "data": {
      "text/plain": [
       "matrix([[1],\n",
       "        [2],\n",
       "        [3],\n",
       "        [4],\n",
       "        [5],\n",
       "        [6]])"
      ]
     },
     "execution_count": 12,
     "metadata": {},
     "output_type": "execute_result"
    }
   ],
   "source": [
    "np.vstack((arr3, arr4))"
   ]
  },
  {
   "cell_type": "code",
   "execution_count": 13,
   "id": "73065360",
   "metadata": {
    "ExecuteTime": {
     "end_time": "2021-11-15T12:31:04.462153Z",
     "start_time": "2021-11-15T12:31:04.457072Z"
    }
   },
   "outputs": [
    {
     "data": {
      "text/plain": [
       "matrix([[1],\n",
       "        [2],\n",
       "        [3],\n",
       "        [4],\n",
       "        [5],\n",
       "        [6]])"
      ]
     },
     "execution_count": 13,
     "metadata": {},
     "output_type": "execute_result"
    }
   ],
   "source": [
    "np.concatenate((arr3, arr4))"
   ]
  },
  {
   "cell_type": "code",
   "execution_count": 14,
   "id": "9a529f23",
   "metadata": {
    "ExecuteTime": {
     "end_time": "2021-11-15T12:31:06.497855Z",
     "start_time": "2021-11-15T12:31:06.493386Z"
    }
   },
   "outputs": [
    {
     "data": {
      "text/plain": [
       "matrix([[1, 4],\n",
       "        [2, 5],\n",
       "        [3, 6]])"
      ]
     },
     "execution_count": 14,
     "metadata": {},
     "output_type": "execute_result"
    }
   ],
   "source": [
    "np.concatenate((arr3, arr4), axis=1)"
   ]
  },
  {
   "cell_type": "code",
   "execution_count": 8,
   "id": "c0bb943b",
   "metadata": {
    "ExecuteTime": {
     "end_time": "2021-11-15T12:30:34.749305Z",
     "start_time": "2021-11-15T12:30:34.745318Z"
    }
   },
   "outputs": [
    {
     "data": {
      "text/plain": [
       "matrix([[1],\n",
       "        [2],\n",
       "        [3]])"
      ]
     },
     "execution_count": 8,
     "metadata": {},
     "output_type": "execute_result"
    }
   ],
   "source": [
    "arr3"
   ]
  },
  {
   "cell_type": "code",
   "execution_count": 9,
   "id": "a2e3c060",
   "metadata": {
    "ExecuteTime": {
     "end_time": "2021-11-15T12:30:42.435233Z",
     "start_time": "2021-11-15T12:30:42.428799Z"
    }
   },
   "outputs": [
    {
     "data": {
      "text/plain": [
       "(3, 1)"
      ]
     },
     "execution_count": 9,
     "metadata": {},
     "output_type": "execute_result"
    }
   ],
   "source": []
  },
  {
   "cell_type": "code",
   "execution_count": null,
   "id": "415ed915",
   "metadata": {},
   "outputs": [],
   "source": []
  }
 ],
 "metadata": {
  "kernelspec": {
   "display_name": "Python 3 (ipykernel)",
   "language": "python",
   "name": "python3"
  },
  "language_info": {
   "codemirror_mode": {
    "name": "ipython",
    "version": 3
   },
   "file_extension": ".py",
   "mimetype": "text/x-python",
   "name": "python",
   "nbconvert_exporter": "python",
   "pygments_lexer": "ipython3",
   "version": "3.9.7"
  },
  "latex_envs": {
   "LaTeX_envs_menu_present": true,
   "autoclose": true,
   "autocomplete": true,
   "bibliofile": "biblio.bib",
   "cite_by": "apalike",
   "current_citInitial": 1,
   "eqLabelWithNumbers": true,
   "eqNumInitial": 1,
   "hotkeys": {
    "equation": "Ctrl-E",
    "itemize": "Ctrl-I"
   },
   "labels_anchors": false,
   "latex_user_defs": false,
   "report_style_numbering": false,
   "user_envs_cfg": false
  },
  "toc": {
   "base_numbering": 1,
   "nav_menu": {},
   "number_sections": true,
   "sideBar": true,
   "skip_h1_title": false,
   "title_cell": "Table of Contents",
   "title_sidebar": "Contents",
   "toc_cell": false,
   "toc_position": {
    "height": "calc(100% - 180px)",
    "left": "10px",
    "top": "150px",
    "width": "208.594px"
   },
   "toc_section_display": true,
   "toc_window_display": true
  }
 },
 "nbformat": 4,
 "nbformat_minor": 5
}
