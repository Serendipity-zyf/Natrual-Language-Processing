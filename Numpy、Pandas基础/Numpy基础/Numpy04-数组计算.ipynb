{
 "cells": [
  {
   "cell_type": "markdown",
   "id": "92fdfefc",
   "metadata": {},
   "source": [
    "# Numpy调用函数运算"
   ]
  },
  {
   "cell_type": "code",
   "execution_count": 1,
   "id": "b47ea7a4",
   "metadata": {
    "ExecuteTime": {
     "end_time": "2021-11-10T15:21:16.294664Z",
     "start_time": "2021-11-10T15:21:16.218190Z"
    }
   },
   "outputs": [
    {
     "data": {
      "text/plain": [
       "array([[ 1.54557409, -0.6678381 ,  0.54112615,  0.56934079, -2.05360222],\n",
       "       [-0.95766407,  0.03122786, -0.50502505, -1.02471915, -3.64643962],\n",
       "       [ 0.90435795,  0.23931019, -0.00878454,  1.67170784,  0.38939874],\n",
       "       [ 1.29490188, -0.3868329 ,  0.41326687, -0.59602734,  0.39547755],\n",
       "       [-1.35311038,  0.79737029,  0.35239454,  1.66784047,  0.23197086]])"
      ]
     },
     "execution_count": 1,
     "metadata": {},
     "output_type": "execute_result"
    }
   ],
   "source": [
    "import numpy as np\n",
    "stock_change = np.random.normal(0, 1, size=(5, 5))\n",
    "stock_change"
   ]
  },
  {
   "cell_type": "markdown",
   "id": "97caf3f3",
   "metadata": {},
   "source": [
    "## 逻辑运算"
   ]
  },
  {
   "cell_type": "code",
   "execution_count": 5,
   "id": "154cb79f",
   "metadata": {
    "ExecuteTime": {
     "end_time": "2021-11-10T14:33:28.143351Z",
     "start_time": "2021-11-10T14:33:28.139011Z"
    }
   },
   "outputs": [
    {
     "data": {
      "text/plain": [
       "array([[False,  True,  True,  True, False],\n",
       "       [ True, False, False, False, False],\n",
       "       [False,  True, False,  True, False],\n",
       "       [False, False,  True, False, False],\n",
       "       [ True, False, False, False, False]])"
      ]
     },
     "execution_count": 5,
     "metadata": {},
     "output_type": "execute_result"
    }
   ],
   "source": [
    "# 判断stock_change中的每一个元素是否都大于0.5，用true和false返回\n",
    "# 列表不支持这样的操作list!!!!\n",
    "stock_change > 0.5"
   ]
  },
  {
   "cell_type": "code",
   "execution_count": 7,
   "id": "a02b5c14",
   "metadata": {
    "ExecuteTime": {
     "end_time": "2021-11-10T14:36:13.844786Z",
     "start_time": "2021-11-10T14:36:13.840218Z"
    }
   },
   "outputs": [
    {
     "data": {
      "text/plain": [
       "array([[ 0.18493722,  2.        ,  0.83100155,  2.        ,  0.22384062],\n",
       "       [ 2.        ,  0.19699784, -0.34030608, -1.22006366, -0.60633654],\n",
       "       [ 0.08280692,  2.        , -0.22979622,  2.        , -0.33257673],\n",
       "       [-0.23197117,  0.17861629,  2.        , -0.27979931, -0.73833876],\n",
       "       [ 0.50857217, -1.30012232, -0.79107691, -0.31384127, -1.21434927]])"
      ]
     },
     "execution_count": 7,
     "metadata": {},
     "output_type": "execute_result"
    }
   ],
   "source": [
    "# 将大于1的元素赋值为2\n",
    "stock_change[stock_change > 1] = 2\n",
    "stock_change"
   ]
  },
  {
   "cell_type": "markdown",
   "id": "ce802542",
   "metadata": {},
   "source": [
    "## 通用判断函数"
   ]
  },
  {
   "cell_type": "code",
   "execution_count": 10,
   "id": "2861b1bb",
   "metadata": {
    "ExecuteTime": {
     "end_time": "2021-11-10T14:41:43.894407Z",
     "start_time": "2021-11-10T14:41:43.890358Z"
    }
   },
   "outputs": [
    {
     "data": {
      "text/plain": [
       "False"
      ]
     },
     "execution_count": 10,
     "metadata": {},
     "output_type": "execute_result"
    }
   ],
   "source": [
    "# 判断stock_change里面所有的元素是否是大于2的\n",
    "np.all(stock_change > 2)"
   ]
  },
  {
   "cell_type": "code",
   "execution_count": 11,
   "id": "bf545d9b",
   "metadata": {
    "ExecuteTime": {
     "end_time": "2021-11-10T14:41:44.754090Z",
     "start_time": "2021-11-10T14:41:44.749893Z"
    }
   },
   "outputs": [
    {
     "data": {
      "text/plain": [
       "True"
      ]
     },
     "execution_count": 11,
     "metadata": {},
     "output_type": "execute_result"
    }
   ],
   "source": [
    "# 判断stock_change里面是否存在一个元素是大于2的\n",
    "np.any(stock_change > 1)"
   ]
  },
  {
   "cell_type": "markdown",
   "id": "f98bccc6",
   "metadata": {},
   "source": [
    "## 三元运算符(np.where)"
   ]
  },
  {
   "cell_type": "code",
   "execution_count": 14,
   "id": "4faa0c99",
   "metadata": {
    "ExecuteTime": {
     "end_time": "2021-11-10T14:44:37.326437Z",
     "start_time": "2021-11-10T14:44:37.322200Z"
    }
   },
   "outputs": [
    {
     "data": {
      "text/plain": [
       "array([[1, 1, 1, 1, 1],\n",
       "       [1, 1, 0, 0, 0],\n",
       "       [1, 1, 0, 1, 0],\n",
       "       [0, 1, 1, 0, 0],\n",
       "       [1, 0, 0, 0, 0]])"
      ]
     },
     "execution_count": 14,
     "metadata": {},
     "output_type": "execute_result"
    }
   ],
   "source": [
    "# 将stock_change中的元素大于0的赋值为1， 否则为0（但不返回新值）\n",
    "np.where(stock_change > 0, 1, 0)"
   ]
  },
  {
   "cell_type": "code",
   "execution_count": 15,
   "id": "96c89d11",
   "metadata": {
    "ExecuteTime": {
     "end_time": "2021-11-10T14:47:35.746503Z",
     "start_time": "2021-11-10T14:47:35.741860Z"
    }
   },
   "outputs": [
    {
     "data": {
      "text/plain": [
       "array([[1, 0, 1, 0, 1],\n",
       "       [0, 1, 0, 0, 0],\n",
       "       [1, 0, 0, 0, 0],\n",
       "       [0, 1, 0, 0, 0],\n",
       "       [1, 0, 0, 0, 0]])"
      ]
     },
     "execution_count": 15,
     "metadata": {},
     "output_type": "execute_result"
    }
   ],
   "source": [
    "# 将stock_change中的元素大于0且小于1.5的赋值为1， 否则为0（但不返回新值）\n",
    "np.where(np.logical_and(stock_change > 0, stock_change < 1.5), 1, 0)"
   ]
  },
  {
   "cell_type": "code",
   "execution_count": 16,
   "id": "456263a2",
   "metadata": {
    "ExecuteTime": {
     "end_time": "2021-11-10T14:48:07.089617Z",
     "start_time": "2021-11-10T14:48:07.084982Z"
    }
   },
   "outputs": [
    {
     "data": {
      "text/plain": [
       "array([[1, 1, 1, 1, 1],\n",
       "       [1, 1, 0, 1, 1],\n",
       "       [1, 1, 0, 1, 0],\n",
       "       [0, 1, 1, 0, 1],\n",
       "       [1, 1, 1, 0, 1]])"
      ]
     },
     "execution_count": 16,
     "metadata": {},
     "output_type": "execute_result"
    }
   ],
   "source": [
    "# 将stock_change中的元素大于0或者小于-0.5的赋值为1， 否则为0（但不返回新值）\n",
    "np.where(np.logical_or(stock_change > 0, stock_change < -0.5), 1, 0)"
   ]
  },
  {
   "cell_type": "markdown",
   "id": "4ba38430",
   "metadata": {},
   "source": [
    "## 统计指标"
   ]
  },
  {
   "cell_type": "code",
   "execution_count": 21,
   "id": "865a28b3",
   "metadata": {
    "ExecuteTime": {
     "end_time": "2021-11-10T14:54:36.414144Z",
     "start_time": "2021-11-10T14:54:36.410088Z"
    }
   },
   "outputs": [
    {
     "name": "stdout",
     "output_type": "stream",
     "text": [
      "[[14.64530327 15.46863366 15.7880149  14.84166538 14.6539198  14.64758643]\n",
      " [12.53531023 15.80552082 13.39694149 15.36156256 14.19782563 16.34720623]\n",
      " [13.78177245 15.62767558 13.66533166 14.7345886  15.00028239 15.42935938]\n",
      " [12.33224173 15.00877056 15.04455334 17.05780442 13.73283615 15.4380149 ]\n",
      " [15.53470059 13.9293949  14.47032749 15.98390205 13.96452448 13.79599957]\n",
      " [14.45872098 15.60375088 15.6266369  15.44960259 13.77558159 14.591284  ]]\n"
     ]
    }
   ],
   "source": [
    "stock = np.random.normal(15, 1, size=(6, 6))\n",
    "print(stock)"
   ]
  },
  {
   "cell_type": "code",
   "execution_count": 27,
   "id": "a6b38186",
   "metadata": {
    "ExecuteTime": {
     "end_time": "2021-11-10T14:58:06.607955Z",
     "start_time": "2021-11-10T14:58:06.603431Z"
    }
   },
   "outputs": [
    {
     "name": "stdout",
     "output_type": "stream",
     "text": [
      "[15.7880149  16.34720623 15.62767558 17.05780442 15.98390205 15.6266369 ]\n",
      "[15.53470059 15.80552082 15.7880149  17.05780442 15.00028239 16.34720623]\n",
      "[15.53470059 15.80552082 15.7880149  17.05780442 15.00028239 16.34720623]\n"
     ]
    }
   ],
   "source": [
    "# 最大值,axis=1表示按照行\n",
    "print(np.max(stock, axis=1))\n",
    "print(np.max(stock, axis=0))\n",
    "print(stock.max(axis=0))"
   ]
  },
  {
   "cell_type": "code",
   "execution_count": 28,
   "id": "c7e66e8d",
   "metadata": {
    "ExecuteTime": {
     "end_time": "2021-11-10T14:58:22.355908Z",
     "start_time": "2021-11-10T14:58:22.351211Z"
    }
   },
   "outputs": [
    {
     "name": "stdout",
     "output_type": "stream",
     "text": [
      "[14.64530327 12.53531023 13.66533166 12.33224173 13.79599957 13.77558159]\n",
      "[12.33224173 13.9293949  13.39694149 14.7345886  13.73283615 13.79599957]\n",
      "[12.33224173 13.9293949  13.39694149 14.7345886  13.73283615 13.79599957]\n"
     ]
    }
   ],
   "source": [
    "# 最小值,axis=1表示按照行\n",
    "print(np.min(stock, axis=1))\n",
    "print(np.min(stock, axis=0))\n",
    "print(stock.min(axis=0))"
   ]
  },
  {
   "cell_type": "code",
   "execution_count": 32,
   "id": "abf0bd66",
   "metadata": {
    "ExecuteTime": {
     "end_time": "2021-11-10T14:59:04.476433Z",
     "start_time": "2021-11-10T14:59:04.471323Z"
    }
   },
   "outputs": [
    {
     "name": "stdout",
     "output_type": "stream",
     "text": [
      "[14.74779259 14.77969409 14.86743549 15.02666195 14.21742598 15.0204433 ]\n",
      "[14.12024671 15.53619227 14.75744041 15.40558257 14.08117505 15.0384729 ]\n",
      "[1.3120042  0.40430744 0.82919579 0.61186471 0.21628644 0.65361022]\n"
     ]
    }
   ],
   "source": [
    "# 中位数,axis=1表示按照行\n",
    "print(np.median(stock, axis=1))\n",
    "print(np.median(stock, axis=0))\n",
    "# print(stock.median(axis=0)) 错误的！！！！"
   ]
  },
  {
   "cell_type": "code",
   "execution_count": 30,
   "id": "6255e5b9",
   "metadata": {
    "ExecuteTime": {
     "end_time": "2021-11-10T14:58:46.053436Z",
     "start_time": "2021-11-10T14:58:46.047407Z"
    }
   },
   "outputs": [
    {
     "name": "stdout",
     "output_type": "stream",
     "text": [
      "[15.00752057 14.60739449 14.70650168 14.76903685 14.61314151 14.91759616]\n",
      "[13.88134154 15.2406244  14.66530096 15.57152093 14.22082834 15.04157509]\n",
      "[13.88134154 15.2406244  14.66530096 15.57152093 14.22082834 15.04157509]\n"
     ]
    }
   ],
   "source": [
    "# 均值,axis=1表示按照行\n",
    "print(np.mean(stock, axis=1))\n",
    "print(np.mean(stock, axis=0))\n",
    "print(stock.mean(axis=0))"
   ]
  },
  {
   "cell_type": "code",
   "execution_count": 35,
   "id": "6de35baf",
   "metadata": {
    "ExecuteTime": {
     "end_time": "2021-11-10T15:00:24.285157Z",
     "start_time": "2021-11-10T15:00:24.280529Z"
    }
   },
   "outputs": [
    {
     "name": "stdout",
     "output_type": "stream",
     "text": [
      "[0.4537055  1.35140034 0.7524781  1.4623641  0.84701297 0.69255821]\n",
      "[1.14542752 0.63585175 0.91060188 0.78221781 0.46506606 0.80846164]\n",
      "[1.14542752 0.63585175 0.91060188 0.78221781 0.46506606 0.80846164]\n"
     ]
    }
   ],
   "source": [
    "# 标准差,axis=1表示按照行\n",
    "print(np.std(stock, axis=1))\n",
    "print(np.std(stock, axis=0))\n",
    "print(stock.std(axis=0))"
   ]
  },
  {
   "cell_type": "code",
   "execution_count": 33,
   "id": "42309d0c",
   "metadata": {
    "ExecuteTime": {
     "end_time": "2021-11-10T14:59:45.082835Z",
     "start_time": "2021-11-10T14:59:45.078076Z"
    }
   },
   "outputs": [
    {
     "name": "stdout",
     "output_type": "stream",
     "text": [
      "[0.20584868 1.82628289 0.56622329 2.13850876 0.71743098 0.47963688]\n",
      "[1.3120042  0.40430744 0.82919579 0.61186471 0.21628644 0.65361022]\n",
      "[1.3120042  0.40430744 0.82919579 0.61186471 0.21628644 0.65361022]\n"
     ]
    }
   ],
   "source": [
    "# 方差,axis=1表示按照行\n",
    "print(np.var(stock, axis=1))\n",
    "print(np.var(stock, axis=0))\n",
    "print(stock.var(axis=0))"
   ]
  },
  {
   "cell_type": "markdown",
   "id": "d86cc8d1",
   "metadata": {},
   "source": [
    "### 定位最大或者最小"
   ]
  },
  {
   "cell_type": "code",
   "execution_count": 39,
   "id": "da99f007",
   "metadata": {
    "ExecuteTime": {
     "end_time": "2021-11-10T15:02:36.570379Z",
     "start_time": "2021-11-10T15:02:36.565213Z"
    }
   },
   "outputs": [
    {
     "name": "stdout",
     "output_type": "stream",
     "text": [
      "[[14.64530327 15.46863366 15.7880149  14.84166538 14.6539198  14.64758643]\n",
      " [12.53531023 15.80552082 13.39694149 15.36156256 14.19782563 16.34720623]\n",
      " [13.78177245 15.62767558 13.66533166 14.7345886  15.00028239 15.42935938]\n",
      " [12.33224173 15.00877056 15.04455334 17.05780442 13.73283615 15.4380149 ]\n",
      " [15.53470059 13.9293949  14.47032749 15.98390205 13.96452448 13.79599957]\n",
      " [14.45872098 15.60375088 15.6266369  15.44960259 13.77558159 14.591284  ]]\n"
     ]
    },
    {
     "data": {
      "text/plain": [
       "21"
      ]
     },
     "execution_count": 39,
     "metadata": {},
     "output_type": "execute_result"
    }
   ],
   "source": [
    "print(stock)\n",
    "# 找出stock中最大的那个数，第一次出现的位置，最小用argmin，效果同理\n",
    "stock.argmax()"
   ]
  },
  {
   "cell_type": "code",
   "execution_count": 40,
   "id": "497cfb04",
   "metadata": {
    "ExecuteTime": {
     "end_time": "2021-11-10T15:03:19.541573Z",
     "start_time": "2021-11-10T15:03:19.537516Z"
    }
   },
   "outputs": [
    {
     "data": {
      "text/plain": [
       "array([2, 5, 1, 3, 3, 2])"
      ]
     },
     "execution_count": 40,
     "metadata": {},
     "output_type": "execute_result"
    }
   ],
   "source": [
    "# 按照行定位max元素\n",
    "stock.argmax(axis=1)"
   ]
  },
  {
   "cell_type": "markdown",
   "id": "fbe3c8c7",
   "metadata": {},
   "source": [
    "# Numpy数组运算符计算"
   ]
  },
  {
   "cell_type": "code",
   "execution_count": 7,
   "id": "487295e2",
   "metadata": {
    "ExecuteTime": {
     "end_time": "2021-11-10T15:22:30.203334Z",
     "start_time": "2021-11-10T15:22:30.197553Z"
    }
   },
   "outputs": [
    {
     "data": {
      "text/plain": [
       "array([[1, 2, 3, 4],\n",
       "       [2, 3, 4, 5]])"
      ]
     },
     "execution_count": 7,
     "metadata": {},
     "output_type": "execute_result"
    }
   ],
   "source": [
    "arr1 = np.array([[1, 2, 3, 4], [2, 3, 4, 5]])\n",
    "arr2 = np.array([[11, 21, 31, 41], [22, 32, 42, 52]])\n",
    "arr1"
   ]
  },
  {
   "cell_type": "code",
   "execution_count": 3,
   "id": "7703ff7b",
   "metadata": {
    "ExecuteTime": {
     "end_time": "2021-11-10T15:21:28.012697Z",
     "start_time": "2021-11-10T15:21:28.008288Z"
    }
   },
   "outputs": [
    {
     "data": {
      "text/plain": [
       "array([[2, 3, 4, 5],\n",
       "       [3, 4, 5, 6]])"
      ]
     },
     "execution_count": 3,
     "metadata": {},
     "output_type": "execute_result"
    }
   ],
   "source": [
    "arr1 + 1"
   ]
  },
  {
   "cell_type": "code",
   "execution_count": 4,
   "id": "52a310c3",
   "metadata": {
    "ExecuteTime": {
     "end_time": "2021-11-10T15:21:28.623655Z",
     "start_time": "2021-11-10T15:21:28.619496Z"
    }
   },
   "outputs": [
    {
     "data": {
      "text/plain": [
       "array([[0.5, 1. , 1.5, 2. ],\n",
       "       [1. , 1.5, 2. , 2.5]])"
      ]
     },
     "execution_count": 4,
     "metadata": {},
     "output_type": "execute_result"
    }
   ],
   "source": [
    "arr1 / 2"
   ]
  },
  {
   "cell_type": "code",
   "execution_count": 5,
   "id": "6fa3f313",
   "metadata": {
    "ExecuteTime": {
     "end_time": "2021-11-10T15:21:29.763684Z",
     "start_time": "2021-11-10T15:21:29.759328Z"
    }
   },
   "outputs": [
    {
     "data": {
      "text/plain": [
       "[1, 2, 3, 1, 2, 3, 1, 2, 3]"
      ]
     },
     "execution_count": 5,
     "metadata": {},
     "output_type": "execute_result"
    }
   ],
   "source": [
    "l = [1, 2, 3]\n",
    "l * 3"
   ]
  },
  {
   "cell_type": "code",
   "execution_count": 8,
   "id": "d82a813f",
   "metadata": {
    "ExecuteTime": {
     "end_time": "2021-11-10T15:22:32.078140Z",
     "start_time": "2021-11-10T15:22:32.074108Z"
    }
   },
   "outputs": [
    {
     "data": {
      "text/plain": [
       "array([[12, 23, 34, 45],\n",
       "       [24, 35, 46, 57]])"
      ]
     },
     "execution_count": 8,
     "metadata": {},
     "output_type": "execute_result"
    }
   ],
   "source": [
    "# 对应元素相加\n",
    "arr1 + arr2"
   ]
  },
  {
   "cell_type": "markdown",
   "id": "d9208077",
   "metadata": {},
   "source": [
    "## 广播机制(下列条件满足一个即可运算)\n",
    "* 维度相等\n",
    "* shape(其中相对应的地方有一个为1) "
   ]
  },
  {
   "cell_type": "code",
   "execution_count": 13,
   "id": "bfb1b018",
   "metadata": {
    "ExecuteTime": {
     "end_time": "2021-11-10T15:32:03.666389Z",
     "start_time": "2021-11-10T15:32:03.664244Z"
    }
   },
   "outputs": [],
   "source": [
    "# A  (4d array): 9 x 1 x 7 x 1\n",
    "# B  (3d array):     8 x 1 x 5\n",
    "# result(4d array): 9 x 8 x 7 x 5"
   ]
  },
  {
   "cell_type": "code",
   "execution_count": 12,
   "id": "d4655d15",
   "metadata": {
    "ExecuteTime": {
     "end_time": "2021-11-10T15:32:00.852712Z",
     "start_time": "2021-11-10T15:32:00.849728Z"
    }
   },
   "outputs": [
    {
     "name": "stdout",
     "output_type": "stream",
     "text": [
      "(2, 4)\n"
     ]
    }
   ],
   "source": [
    "print(arr1.shape)             # shape:(2, 4)\n",
    "arr3 = np.array([1, 2, 3, 4]) # shape:(1, 4)"
   ]
  },
  {
   "cell_type": "code",
   "execution_count": 14,
   "id": "dbfd1297",
   "metadata": {
    "ExecuteTime": {
     "end_time": "2021-11-10T15:32:24.375042Z",
     "start_time": "2021-11-10T15:32:24.370909Z"
    }
   },
   "outputs": [
    {
     "data": {
      "text/plain": [
       "array([[2, 4, 6, 8],\n",
       "       [3, 5, 7, 9]])"
      ]
     },
     "execution_count": 14,
     "metadata": {},
     "output_type": "execute_result"
    }
   ],
   "source": [
    "arr1 + arr3 # arr1的每一行都加上arr3"
   ]
  },
  {
   "cell_type": "markdown",
   "id": "90e68de3",
   "metadata": {
    "ExecuteTime": {
     "end_time": "2021-11-10T15:34:52.733885Z",
     "start_time": "2021-11-10T15:34:52.731665Z"
    }
   },
   "source": [
    "## 数组矩阵乘法\n",
    "* np.matmul\n",
    "* np.dot"
   ]
  },
  {
   "cell_type": "code",
   "execution_count": 16,
   "id": "640ffd7b",
   "metadata": {
    "ExecuteTime": {
     "end_time": "2021-11-10T15:37:15.539287Z",
     "start_time": "2021-11-10T15:37:15.535912Z"
    }
   },
   "outputs": [],
   "source": [
    "Matrix_1 = np.array([[2, 1, 1],\n",
    "                     [3, 2, 1]]) # shape:(2, 3)\n",
    "Matrix_2 = np.array([[2, 1],\n",
    "                     [3, 2],\n",
    "                     [1, 4]]) #shape:(3, 2)"
   ]
  },
  {
   "cell_type": "code",
   "execution_count": 17,
   "id": "53b47ed5",
   "metadata": {
    "ExecuteTime": {
     "end_time": "2021-11-10T15:37:34.310252Z",
     "start_time": "2021-11-10T15:37:34.306026Z"
    }
   },
   "outputs": [
    {
     "data": {
      "text/plain": [
       "array([[ 8,  8],\n",
       "       [13, 11]])"
      ]
     },
     "execution_count": 17,
     "metadata": {},
     "output_type": "execute_result"
    }
   ],
   "source": [
    "# matmul不支持矩阵和数字的相乘\n",
    "np.matmul(Matrix_1, Matrix_2)"
   ]
  },
  {
   "cell_type": "code",
   "execution_count": 18,
   "id": "0299ea9d",
   "metadata": {
    "ExecuteTime": {
     "end_time": "2021-11-10T15:37:41.867243Z",
     "start_time": "2021-11-10T15:37:41.862335Z"
    }
   },
   "outputs": [
    {
     "data": {
      "text/plain": [
       "array([[ 8,  8],\n",
       "       [13, 11]])"
      ]
     },
     "execution_count": 18,
     "metadata": {},
     "output_type": "execute_result"
    }
   ],
   "source": [
    "np.dot(Matrix_1, Matrix_2)"
   ]
  },
  {
   "cell_type": "code",
   "execution_count": 19,
   "id": "35ea3d3b",
   "metadata": {
    "ExecuteTime": {
     "end_time": "2021-11-10T15:38:51.877514Z",
     "start_time": "2021-11-10T15:38:51.870494Z"
    }
   },
   "outputs": [
    {
     "data": {
      "text/plain": [
       "array([[20, 10, 10],\n",
       "       [30, 20, 10]])"
      ]
     },
     "execution_count": 19,
     "metadata": {},
     "output_type": "execute_result"
    }
   ],
   "source": [
    "np.dot(Matrix_1, 10)"
   ]
  },
  {
   "cell_type": "code",
   "execution_count": null,
   "id": "c5388224",
   "metadata": {},
   "outputs": [],
   "source": []
  }
 ],
 "metadata": {
  "kernelspec": {
   "display_name": "Python 3 (ipykernel)",
   "language": "python",
   "name": "python3"
  },
  "language_info": {
   "codemirror_mode": {
    "name": "ipython",
    "version": 3
   },
   "file_extension": ".py",
   "mimetype": "text/x-python",
   "name": "python",
   "nbconvert_exporter": "python",
   "pygments_lexer": "ipython3",
   "version": "3.9.7"
  },
  "latex_envs": {
   "LaTeX_envs_menu_present": true,
   "autoclose": true,
   "autocomplete": true,
   "bibliofile": "biblio.bib",
   "cite_by": "apalike",
   "current_citInitial": 1,
   "eqLabelWithNumbers": true,
   "eqNumInitial": 1,
   "hotkeys": {
    "equation": "Ctrl-E",
    "itemize": "Ctrl-I"
   },
   "labels_anchors": false,
   "latex_user_defs": false,
   "report_style_numbering": false,
   "user_envs_cfg": false
  },
  "toc": {
   "base_numbering": 1,
   "nav_menu": {},
   "number_sections": true,
   "sideBar": true,
   "skip_h1_title": false,
   "title_cell": "Table of Contents",
   "title_sidebar": "Contents",
   "toc_cell": false,
   "toc_position": {},
   "toc_section_display": true,
   "toc_window_display": true
  }
 },
 "nbformat": 4,
 "nbformat_minor": 5
}
