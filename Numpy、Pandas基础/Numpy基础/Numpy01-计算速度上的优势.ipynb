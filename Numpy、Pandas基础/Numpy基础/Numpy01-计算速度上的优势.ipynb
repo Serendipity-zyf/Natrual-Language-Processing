{
 "cells": [
  {
   "cell_type": "code",
   "execution_count": 1,
   "id": "cea2116b",
   "metadata": {
    "ExecuteTime": {
     "end_time": "2021-11-14T13:12:48.809622Z",
     "start_time": "2021-11-14T13:12:48.706687Z"
    }
   },
   "outputs": [],
   "source": [
    "import random\n",
    "import time\n",
    "import numpy as np"
   ]
  },
  {
   "cell_type": "code",
   "execution_count": 2,
   "id": "fe2b25e1",
   "metadata": {
    "ExecuteTime": {
     "end_time": "2021-11-14T13:12:58.695650Z",
     "start_time": "2021-11-14T13:12:49.724758Z"
    }
   },
   "outputs": [],
   "source": [
    "a = []\n",
    "for i in range(100000000):\n",
    "    a.append(random.random())"
   ]
  },
  {
   "cell_type": "code",
   "execution_count": 3,
   "id": "6eb9e25a",
   "metadata": {
    "ExecuteTime": {
     "end_time": "2021-11-14T13:13:00.581333Z",
     "start_time": "2021-11-14T13:12:58.696568Z"
    }
   },
   "outputs": [],
   "source": [
    "b = np.array(a)"
   ]
  },
  {
   "cell_type": "code",
   "execution_count": 4,
   "id": "26c0cfd5",
   "metadata": {
    "ExecuteTime": {
     "end_time": "2021-11-14T13:13:00.886555Z",
     "start_time": "2021-11-14T13:13:00.581930Z"
    }
   },
   "outputs": [
    {
     "name": "stdout",
     "output_type": "stream",
     "text": [
      "CPU times: user 303 ms, sys: 1.31 ms, total: 304 ms\n",
      "Wall time: 303 ms\n"
     ]
    }
   ],
   "source": [
    "# 通过%time方法可以显示运行该行程序所花费的时间\n",
    "%time sum1 = sum(a) # %time函数只能是在ipython中运行"
   ]
  },
  {
   "cell_type": "code",
   "execution_count": 5,
   "id": "dc088056",
   "metadata": {
    "ExecuteTime": {
     "end_time": "2021-11-14T13:13:00.954575Z",
     "start_time": "2021-11-14T13:13:00.887636Z"
    }
   },
   "outputs": [
    {
     "name": "stdout",
     "output_type": "stream",
     "text": [
      "CPU times: user 39.4 ms, sys: 26.4 ms, total: 65.7 ms\n",
      "Wall time: 65.2 ms\n"
     ]
    }
   ],
   "source": [
    "%time sum2 = np.sum(b)"
   ]
  },
  {
   "cell_type": "code",
   "execution_count": null,
   "id": "ed8b4d24",
   "metadata": {},
   "outputs": [],
   "source": []
  }
 ],
 "metadata": {
  "kernelspec": {
   "display_name": "Python 3 (ipykernel)",
   "language": "python",
   "name": "python3"
  },
  "language_info": {
   "codemirror_mode": {
    "name": "ipython",
    "version": 3
   },
   "file_extension": ".py",
   "mimetype": "text/x-python",
   "name": "python",
   "nbconvert_exporter": "python",
   "pygments_lexer": "ipython3",
   "version": "3.9.7"
  },
  "latex_envs": {
   "LaTeX_envs_menu_present": true,
   "autoclose": true,
   "autocomplete": true,
   "bibliofile": "biblio.bib",
   "cite_by": "apalike",
   "current_citInitial": 1,
   "eqLabelWithNumbers": true,
   "eqNumInitial": 1,
   "hotkeys": {
    "equation": "Ctrl-E",
    "itemize": "Ctrl-I"
   },
   "labels_anchors": false,
   "latex_user_defs": false,
   "report_style_numbering": false,
   "user_envs_cfg": false
  },
  "toc": {
   "base_numbering": 1,
   "nav_menu": {},
   "number_sections": true,
   "sideBar": true,
   "skip_h1_title": false,
   "title_cell": "Table of Contents",
   "title_sidebar": "Contents",
   "toc_cell": false,
   "toc_position": {},
   "toc_section_display": true,
   "toc_window_display": false
  }
 },
 "nbformat": 4,
 "nbformat_minor": 5
}
