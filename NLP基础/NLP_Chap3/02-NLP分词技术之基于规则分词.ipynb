{
 "cells": [
  {
   "cell_type": "markdown",
   "id": "48e5cf4f",
   "metadata": {},
   "source": [
    "# 正向最大匹配法（Maximum Match Method，MM法）"
   ]
  },
  {
   "cell_type": "code",
   "execution_count": 19,
   "id": "3ec1338b",
   "metadata": {
    "ExecuteTime": {
     "end_time": "2021-12-08T13:34:55.734331Z",
     "start_time": "2021-12-08T13:34:55.723524Z"
    }
   },
   "outputs": [
    {
     "name": "stdout",
     "output_type": "stream",
     "text": [
      "['研究生----', '命----', '的----', '起源----']\n"
     ]
    }
   ],
   "source": [
    "# 以语句“研究生命的起源”为例子\n",
    "# 构建分词器MM\n",
    "class MM(object):\n",
    "    '''\n",
    "    Args:\n",
    "        dic:指机器词典，人工构建的词典\n",
    "        window_size:词典中的最长词的长度\n",
    "        text:被分词的文本\n",
    "    '''\n",
    "    def __init__(self, dic):\n",
    "        self.window_size = max([len(item) for item in dic])\n",
    "    \n",
    "    def cut(self, dic, text):\n",
    "        result = [] # 用于保存分词的结果\n",
    "        index = 0 # 表示匹配的开始位置，匹配结束意味着text_length == index\n",
    "        text_length = len(text) # 被分词文本长度\n",
    "        while text_length > index:\n",
    "            for size in range(self.window_size + index, index, -1): \n",
    "            # 从最长字串长度开始匹配， 匹配成功则从词的末尾开始继续匹配； 匹配失败就删除匹配字段的一个字，重新扫描\n",
    "                piece = text[index:size] # 匹配字段\n",
    "                if piece in dic:\n",
    "                    index = size - 1\n",
    "                    break\n",
    "            index = index + 1\n",
    "            result.append(piece + \"----\")\n",
    "        return result\n",
    "                \n",
    "        \n",
    "if __name__ == \"__main__\" :       \n",
    "    dic = [\"研究\", \"研究生\", \"生命\", \"命\", \"的\", \"起源\", \"源\"] #人工构建的词典\n",
    "    #dic = [\"研究\", \"研究生\", \"生命\", \"命\", \"的\", \"起源\"] #人工构建的词典\n",
    "    text = \"研究生命的起源\"\n",
    "    tokenizer = MM(dic)\n",
    "    print(tokenizer.cut(dic, text))"
   ]
  },
  {
   "cell_type": "markdown",
   "id": "f19bfa01",
   "metadata": {},
   "source": [
    "# 逆向最大匹配法（Reverse Maximum Match Method，RMM法）"
   ]
  },
  {
   "cell_type": "code",
   "execution_count": 20,
   "id": "74da8b28",
   "metadata": {
    "ExecuteTime": {
     "end_time": "2021-12-08T13:34:58.324338Z",
     "start_time": "2021-12-08T13:34:58.316218Z"
    }
   },
   "outputs": [
    {
     "name": "stdout",
     "output_type": "stream",
     "text": [
      "['研究----', '生命----', '的----', '起源----']\n"
     ]
    }
   ],
   "source": [
    "# 以语句“研究生命的起源”为例子\n",
    "# 构建分词器RMM\n",
    "class RMM(object):\n",
    "    '''\n",
    "    Args:\n",
    "        dic:指机器词典，人工构建的词典\n",
    "        window_size:词典中的最长词的长度\n",
    "        text:被分词的文本\n",
    "    '''\n",
    "    def __init__(self, dic):\n",
    "        self.window_size = max([len(item) for item in dic])\n",
    "    \n",
    "    def cut(self, dic, text):\n",
    "        result = [] # 用于保存分词的结果\n",
    "        text_length = len(text) # 被分词文本长度\n",
    "        index = text_length # 表示匹配的开始位置，匹配结束意味着index == 0\n",
    "        while index > 0:\n",
    "            for size in range(index - self.window_size, index): \n",
    "            # 从最长字串长度开始匹配， 匹配成功则从词的前端开始继续匹配\n",
    "            # 匹配失败就删除匹配字段开头的一个字，重新扫描\n",
    "                piece = text[size:index] # 匹配字段\n",
    "                if piece in dic:\n",
    "                    index = size + 1\n",
    "                    break\n",
    "            index = index - 1\n",
    "            result.append(piece + \"----\")\n",
    "        result.reverse()\n",
    "        return result\n",
    "                \n",
    "        \n",
    "if __name__ == \"__main__\" :\n",
    "    # 人工构建的词典\n",
    "    dic = [\"研究\", \"研究生\", \"生命\", \"命\", \"的\", \"起源\", \"源\"]\n",
    "    text = \"研究生命的起源\"\n",
    "    tokenizer = RMM(dic)\n",
    "    print(tokenizer.cut(dic, text))"
   ]
  },
  {
   "cell_type": "markdown",
   "id": "668eddc4",
   "metadata": {},
   "source": [
    "# 双向最大匹配法（Bi-direction Matching Method，BidM法）"
   ]
  },
  {
   "cell_type": "code",
   "execution_count": 28,
   "id": "920960ca",
   "metadata": {
    "ExecuteTime": {
     "end_time": "2021-12-09T01:43:00.838334Z",
     "start_time": "2021-12-09T01:43:00.820523Z"
    }
   },
   "outputs": [
    {
     "name": "stdout",
     "output_type": "stream",
     "text": [
      "['研究----', '生命----', '的----', '起源----']\n"
     ]
    }
   ],
   "source": [
    "class BidM(object):\n",
    "    '''\n",
    "    Args:\n",
    "        dic:指机器词典，人工构建的词典\n",
    "        window_size:词典中的最长词的长度\n",
    "        text:被分词的文本\n",
    "        num_single_word_MM:正向最大匹配法最终分词单字个数\n",
    "    '''\n",
    "    def __init__(self, dic):\n",
    "        self.dic = dic\n",
    "        self.window_size = max([len(item) for item in dic])\n",
    "        self.num_single_word_MM = 0\n",
    "        self.num_single_word_RMM = 0\n",
    "    \n",
    "    def MM(self, text):\n",
    "        result = [] # 用于保存分词的结果\n",
    "        index = 0 # 表示匹配的开始位置，匹配结束意味着text_length == index\n",
    "        text_length = len(text) # 被分词文本长度\n",
    "        while text_length > index:\n",
    "            for size in range(self.window_size + index, index, -1): \n",
    "            # 从最长字串长度开始匹配， 匹配成功则从词的末尾开始继续匹配； 匹配失败就删除匹配字段的一个字，重新扫描\n",
    "                piece = text[index:size] # 匹配字段\n",
    "                if piece in self.dic:\n",
    "                    index = size - 1\n",
    "                    if len(piece) == 1:\n",
    "                        self.num_single_word_MM += 1\n",
    "                    break\n",
    "            index = index + 1\n",
    "            result.append(piece + \"----\")\n",
    "        return result\n",
    "    \n",
    "    def RMM(self, text):\n",
    "        result = [] # 用于保存分词的结果\n",
    "        text_length = len(text) # 被分词文本长度\n",
    "        index = text_length # 表示匹配的开始位置，匹配结束意味着index == 0\n",
    "        while index > 0:\n",
    "            for size in range(index - self.window_size, index): \n",
    "            # 从最长字串长度开始匹配， 匹配成功则从词的前端开始继续匹配\n",
    "            # 匹配失败就删除匹配字段开头的一个字，重新扫描\n",
    "                piece = text[size:index] # 匹配字段\n",
    "                if piece in self.dic:\n",
    "                    index = size + 1\n",
    "                    if len(piece) == 1:\n",
    "                        self.num_single_word_RMM += 1\n",
    "                    break\n",
    "            index = index - 1\n",
    "            result.append(piece + \"----\")\n",
    "        result.reverse()\n",
    "        return result\n",
    "\n",
    "    \n",
    "if __name__ == \"__main__\":\n",
    "    dic = [\"研究\", \"研究生\", \"生命\", \"命\", \"的\", \"起源\", \"源\"]\n",
    "    text = \"研究生命的起源\"\n",
    "    tokenizer = BidM(dic)\n",
    "    MM_result = tokenizer.MM(text)\n",
    "    RMM_result = tokenizer.RMM(text)\n",
    "    if tokenizer.num_single_word_MM <= tokenizer.num_single_word_RMM:\n",
    "        result = MM_result\n",
    "    else:\n",
    "        result = RMM_result\n",
    "    print(result)"
   ]
  }
 ],
 "metadata": {
  "kernelspec": {
   "display_name": "NLP_env",
   "language": "python",
   "name": "np_env"
  },
  "language_info": {
   "codemirror_mode": {
    "name": "ipython",
    "version": 3
   },
   "file_extension": ".py",
   "mimetype": "text/x-python",
   "name": "python",
   "nbconvert_exporter": "python",
   "pygments_lexer": "ipython3",
   "version": "3.9.7"
  },
  "latex_envs": {
   "LaTeX_envs_menu_present": true,
   "autoclose": true,
   "autocomplete": true,
   "bibliofile": "biblio.bib",
   "cite_by": "apalike",
   "current_citInitial": 1,
   "eqLabelWithNumbers": true,
   "eqNumInitial": 1,
   "hotkeys": {
    "equation": "Ctrl-E",
    "itemize": "Ctrl-I"
   },
   "labels_anchors": false,
   "latex_user_defs": false,
   "report_style_numbering": false,
   "user_envs_cfg": false
  },
  "toc": {
   "base_numbering": 1,
   "nav_menu": {},
   "number_sections": true,
   "sideBar": true,
   "skip_h1_title": false,
   "title_cell": "Table of Contents",
   "title_sidebar": "Contents",
   "toc_cell": false,
   "toc_position": {},
   "toc_section_display": true,
   "toc_window_display": false
  }
 },
 "nbformat": 4,
 "nbformat_minor": 5
}
