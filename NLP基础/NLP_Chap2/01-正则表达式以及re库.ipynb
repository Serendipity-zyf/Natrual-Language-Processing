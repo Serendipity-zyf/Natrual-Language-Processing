{
 "cells": [
  {
   "cell_type": "markdown",
   "id": "65978e46",
   "metadata": {},
   "source": [
    "# Python正则表达式\n",
    "* 正则表达式是一种定义了搜索模式的特征序列，主要用于字符串的模式匹配，或是字符的匹配；正则表达式的另一个作用是去除“噪声”（与文本信息无关的超链接、标点等等）。\n",
    "\n",
    "* python中有两个正则表达式包：re（内嵌包）和regex（需要额外安装包）\n",
    "\n",
    "* 验证正则表达式的网站：[https://regex101.com/](https://regex101.com/)\n",
    "## 正则表达式\n",
    "### 限定符\n",
    "\n",
    "\n",
    "* ?    :   \"usd?\"是指d可有可无，则可以匹配\"us.\"或\"usd\"。\n",
    "* \\*   :   \"ab\\*c\"是指b可以没有，或者有很多个，则可以匹配\"ac\"或\"abbbbbc\"等等。注意：\\*不能匹配换行符！！！\n",
    "* \\+   :   \"ab+c\"是指b至少要有一个，则可以匹配\"abc\"或\"abbbbc\"等等。\n",
    "* {}   :   \"ab{6}c\"是指b有6个，则可以匹配\"abbbbbbc\"。特殊地，\"ab{2,6}c\"是指b有2~6个。\n",
    "\n",
    "### “或”运算\n",
    "* |    :   \"a cat|dog\"能匹配\"a cat\"或\"dog\"；\"a (cat|dog)\"能匹配\"a cat\"或\"a dog\"。\n",
    "\n",
    "### 字符类\n",
    "* []   :   \"[abc]\"能匹配\"a\"，\"b\"，\"c\";\"[abc]+\"能匹配只含有\"a\"，\"b\"，\"c\"的字符串，如：\"abaab\"、\"cbacbac\"等等\n",
    "\n",
    "### 特殊类\n",
    "* <.+> :   “贪婪匹配”：尽可能匹配多个字符。可以转换为“懒惰匹配”：<.+?>只匹配单个尖括号里面的。\n",
    "\n",
    "* \\w   :   表示字母或者数字。\\W与之相反。\n",
    "\n",
    "* \\s   :   表示[空\\t\\n\\f]。\\S与之相反。\n",
    "\n",
    "* \\d   :   表示数字。\\D与之相反。\n",
    "\n",
    "* \\A   :   表示匹配开始。\n",
    "\n",
    "* \\z   :   表示匹配字符串结束。\\Z表示匹配字符串结束，如果是存在换行，只匹配到换行前的结束字符串。\n",
    "\n",
    "* \\b   :   匹配一个单词边界，也就是指单词和空格间的位置。例如， 'er\\b' 可以匹配\"never\" 中的 'er'，但不能匹配 \"verb\" 中的 'er'。\n",
    "\n",
    "注意：若要多个字符组合使用限定符，可以加括号进行：\"zyx(ab){2}c\\*dfe?\"可匹配：\"zyxababcccdf\"、\"zyxababcccdfe\"等等"
   ]
  },
  {
   "cell_type": "code",
   "execution_count": 1,
   "id": "98113c63",
   "metadata": {
    "ExecuteTime": {
     "end_time": "2021-11-24T09:38:36.264969Z",
     "start_time": "2021-11-24T09:38:36.262030Z"
    }
   },
   "outputs": [],
   "source": [
    "import re"
   ]
  },
  {
   "cell_type": "markdown",
   "id": "4c6882b1",
   "metadata": {},
   "source": [
    "## re.search方法\n",
    "* re.search(pattern, string, flags=0)扫描整个字符串并返回第一个成功的匹配。\n",
    "* 匹配成功re.search方法返回一个匹配的对象，否则返回None。"
   ]
  },
  {
   "cell_type": "code",
   "execution_count": 6,
   "id": "8d96ee8b",
   "metadata": {
    "ExecuteTime": {
     "end_time": "2021-11-23T11:32:52.219582Z",
     "start_time": "2021-11-23T11:32:52.209576Z"
    }
   },
   "outputs": [
    {
     "name": "stdout",
     "output_type": "stream",
     "text": [
      "文本： 网络搜索引擎等站点通过爬虫软件更新自身的网站内容或其对其他网站的索引。网络pa-chong可以将自己所访问的页面爬取下来。这样能以便搜索引擎事后生成索引供用户搜索爬虫访问网站的过程会消耗目标系统资源。\n",
      "#---------------------------------------------分隔符----------------------------------------------------#\n",
      "匹配到的句子有： 网络搜索引擎等站点通过爬虫软件更新自身的网站内容或其对其他网站的索引\n",
      "匹配到的句子有： 这样能以便搜索引擎事后生成索引供用户搜索爬虫访问网站的过程会消耗目标系统资源\n",
      "#---------------------------------------------分隔符----------------------------------------------------#\n",
      "文本中含有'爬'开头词语的句子有： 网络搜索引擎等站点通过爬虫软件更新自身的网站内容或其对其他网站的索引\n",
      "文本中含有'爬'开头词语的句子有： 网络pa-chong可以将自己所访问的页面爬取下来\n",
      "文本中含有'爬'开头词语的句子有： 这样能以便搜索引擎事后生成索引供用户搜索爬虫访问网站的过程会消耗目标系统资源\n",
      "#---------------------------------------------分隔符----------------------------------------------------#\n",
      "以'网络'开头的句子有： 网络搜索引擎等站点通过爬虫软件更新自身的网站内容或其对其他网站的索引\n",
      "以'网络'开头的句子有： 网络pa-chong可以将自己所访问的页面爬取下来\n",
      "#---------------------------------------------分隔符----------------------------------------------------#\n",
      "以'资源'结尾的句子有： 这样能以便搜索引擎事后生成索引供用户搜索爬虫访问网站的过程会消耗目标系统资源\n"
     ]
    }
   ],
   "source": [
    "text_string = '网络搜索引擎等站点通过爬虫软件更新自身的网站内容或其对其他网站的索引。网络pa-chong可以将自己所访问的页面爬取下来。这样能以便搜索引擎事后生成索引供用户搜索爬虫访问网站的过程会消耗目标系统资源。'\n",
    "\n",
    "print(\"文本：\", text_string)\n",
    "\n",
    "print(\n",
    "    '#---------------------------------------------分隔符----------------------------------------------------#'\n",
    ")\n",
    "#--------------------------------------------------------------------------------------------------------------#\n",
    "regex = '爬虫'  # 要匹配的字符（模式）\n",
    "p_string = text_string.split('。')\n",
    "for line in p_string:\n",
    "    if re.search(regex, line) is not None:\n",
    "        print('匹配到的句子有：', line)\n",
    "\n",
    "print(\n",
    "    '#---------------------------------------------分隔符----------------------------------------------------#'\n",
    ")\n",
    "#--------------------------------------------------------------------------------------------------------------#\n",
    "regex = '爬.'  # .可以代表任意一个字符（除了换行符），这里可以匹配任何'爬'开头的两个字词语\n",
    "p_string = text_string.split('。')\n",
    "for line in p_string:\n",
    "    if re.search(regex, line) is not None:\n",
    "        print('文本中含有\\'爬\\'开头词语的句子有：', line)\n",
    "\n",
    "print(\n",
    "    '#---------------------------------------------分隔符----------------------------------------------------#'\n",
    ")\n",
    "#--------------------------------------------------------------------------------------------------------------#\n",
    "regex = '^网络'  # '^网络'可以代表以'网络'开头的字符串\n",
    "p_string = text_string.split('。')\n",
    "for line in p_string:\n",
    "    if re.search(regex, line) is not None:\n",
    "        print('以\\'网络\\'开头的句子有：', line)\n",
    "\n",
    "print(\n",
    "    '#---------------------------------------------分隔符----------------------------------------------------#'\n",
    ")\n",
    "#--------------------------------------------------------------------------------------------------------------#\n",
    "regex = '资源$'  # '资源$'可以代表以'资源'结尾的字符串\n",
    "p_string = text_string.split('。')\n",
    "for line in p_string:\n",
    "    if re.search(regex, line) is not None:\n",
    "        print('以\\'资源\\'结尾的句子有：', line)"
   ]
  },
  {
   "cell_type": "code",
   "execution_count": 3,
   "id": "8b876c1c",
   "metadata": {
    "ExecuteTime": {
     "end_time": "2021-11-23T11:30:50.766012Z",
     "start_time": "2021-11-23T11:30:50.761175Z"
    }
   },
   "outputs": [
    {
     "name": "stdout",
     "output_type": "stream",
     "text": [
      "以'[重要的]'或者'[紧急的]'开头的句子有： [重要的]网络搜索引擎等站点通过爬虫软件更新自身的网站内容或其对其他网站的索引\n",
      "no match!\n",
      "以'[重要的]'或者'[紧急的]'开头的句子有： [紧急的]这样能以便搜索引擎事后生成索引供用户搜索爬虫访问网站的过程会消耗目标系统资源\n",
      "no match!\n"
     ]
    }
   ],
   "source": [
    "text_string = ('[重要的]网络搜索引擎等站点通过爬虫软件更新自身的网站内容或其对其他网站的索引。'\n",
    "               '网络pa-chong可以将自己所访问的页面爬取下来。'\n",
    "               '[紧急的]这样能以便搜索引擎事后生成索引供用户搜索爬虫访问网站的过程会消耗目标系统资源。')\n",
    "# 现在希望能够提取[重要的]、[紧急的]为开头的句子\n",
    "regex = '^\\[[重紧]..\\]' # [bc]r表示匹配br或者bc，'\\[\\]'表示'[]'\n",
    "p_string = text_string.split('。')\n",
    "for line in p_string:\n",
    "    if re.search(regex, line) is not None:\n",
    "        print(\"以'[重要的]'或者'[紧急的]'开头的句子有：\", line)\n",
    "    else:\n",
    "        print(\"no match!\")"
   ]
  },
  {
   "cell_type": "code",
   "execution_count": 10,
   "id": "7f188f68",
   "metadata": {
    "ExecuteTime": {
     "end_time": "2021-11-23T12:06:57.723619Z",
     "start_time": "2021-11-23T12:06:57.717063Z"
    }
   },
   "outputs": [
    {
     "name": "stdout",
     "output_type": "stream",
     "text": [
      "至少4个字母组成的单词有： books\n",
      "至少4个字母组成的单词有： this\n",
      "至少4个字母组成的单词有： page\n",
      "至少4个字母组成的单词有： general\n",
      "至少4个字母组成的单词有： introductions\n",
      "至少4个字母组成的单词有： Python\n",
      "至少4个字母组成的单词有： language.\n",
      "至少4个字母组成的单词有： Most\n",
      "至少4个字母组成的单词有： these\n",
      "至少4个字母组成的单词有： books\n",
      "至少4个字母组成的单词有： will\n",
      "至少4个字母组成的单词有： contain\n",
      "至少4个字母组成的单词有： chapters\n",
      "至少4个字母组成的单词有： particular\n",
      "至少4个字母组成的单词有： applications\n",
      "至少4个字母组成的单词有： such\n",
      "至少4个字母组成的单词有： interfaces\n",
      "至少4个字母组成的单词有： programming,\n",
      "至少4个字母组成的单词有： into\n",
      "至少4个字母组成的单词有： great\n",
      "至少4个字母组成的单词有： detail\n",
      "至少4个字母组成的单词有： topic;\n",
      "至少4个字母组成的单词有： refer\n",
      "至少4个字母组成的单词有： PythonBooks\n",
      "至少4个字母组成的单词有： page\n",
      "至少4个字母组成的单词有： lists\n",
      "至少4个字母组成的单词有： application-specific\n",
      "至少4个字母组成的单词有： books.\n",
      "至少4个字母组成的单词有： Experienced\n",
      "至少4个字母组成的单词有： programmers\n",
      "至少4个字母组成的单词有： prefer\n",
      "至少4个字母组成的单词有： brief\n",
      "至少4个字母组成的单词有： condensed\n",
      "至少4个字母组成的单词有： introduction\n",
      "至少4个字母组成的单词有： should\n",
      "至少4个字母组成的单词有： look\n",
      "至少4个字母组成的单词有： list\n",
      "至少4个字母组成的单词有： ReferenceBooks.\n"
     ]
    }
   ],
   "source": [
    "# 匹配数字[0-9]指：0-9之间的任意一个数字，相应的[a-z]就是a-z之间的任意一个字母\n",
    "text_string = \"The books on this page are all general introductions to the Python language. Most of these books will contain a few chapters on particular applications such as GUI interfaces or Web programming, but won't go into great detail on any one topic; refer to the PythonBooks page for lists of application-specific books. Experienced programmers who prefer a brief and condensed introduction should look at the list of ReferenceBooks.\"\n",
    "p_string = text_string.split()\n",
    "regex = \"[a-zA-Z]{4}\"\n",
    "for line in p_string:\n",
    "    if re.search(regex, line) is not None:\n",
    "        print(\"至少4个字母组成的单词有：\", line)"
   ]
  },
  {
   "cell_type": "markdown",
   "id": "f5f6806e",
   "metadata": {},
   "source": [
    "## re.match()方法\n",
    "* re.match() 尝试从字符串的**起始位置**匹配一个模式，如果**不是起始位置**匹配成功的话，re.match() 就返回 none。\n",
    "\n",
    "* 我们可以使用group(num) 或 groups() 匹配对象函数来获取匹配表达式。"
   ]
  },
  {
   "cell_type": "code",
   "execution_count": 26,
   "id": "2696d615",
   "metadata": {
    "ExecuteTime": {
     "end_time": "2021-11-23T13:20:54.469204Z",
     "start_time": "2021-11-23T13:20:54.460722Z"
    }
   },
   "outputs": [
    {
     "data": {
      "text/plain": [
       "(0, 6)"
      ]
     },
     "execution_count": 26,
     "metadata": {},
     "output_type": "execute_result"
    }
   ],
   "source": [
    "text = \"<span><b>This is a sample text</b></span>\"\n",
    "match_str = re.match(\"<.+?>\", text, re.M)\n",
    "match_str.span()"
   ]
  },
  {
   "cell_type": "code",
   "execution_count": 33,
   "id": "fc6dfa4b",
   "metadata": {
    "ExecuteTime": {
     "end_time": "2021-11-23T13:29:21.969376Z",
     "start_time": "2021-11-23T13:29:21.964021Z"
    }
   },
   "outputs": [
    {
     "name": "stdout",
     "output_type": "stream",
     "text": [
      "matchObj.group()  :  Cats are smarter than dogs\n",
      "matchObj.group(1) :  Cats\n",
      "matchObj.group(2) :  smarter\n"
     ]
    }
   ],
   "source": [
    "text = \"Cats are smarter than dogs\"\n",
    " \n",
    "matchObj = re.match(r'(.*) are (.*?) .*', text, re.M|re.I)\n",
    " \n",
    "if matchObj:\n",
    "    print(\"matchObj.group()  : \", matchObj.group())\n",
    "    print(\"matchObj.group(1) : \", matchObj.group(1))\n",
    "    print(\"matchObj.group(2) : \", matchObj.group(2))\n",
    "    # print(\"matchObj.group(3) : \", matchObj.group(3))\n",
    "else:\n",
    "    print(\"No match!!\")"
   ]
  },
  {
   "cell_type": "markdown",
   "id": "f831bba5",
   "metadata": {},
   "source": [
    "**解析:**\n",
    "\n",
    "首先，这是一个字符串，前面的一个 r 表示字符串为非转义的原始字符串，让编译器忽略反斜杠，也就是忽略转义字符。但是这个字符串里没有反斜杠，所以这个 r 可有可无。\n",
    "\n",
    " (.\\*) 第一个匹配分组，.\\* 代表匹配除换行符之外的所有字符。\n",
    " \n",
    " (.\\*?) 第二个匹配分组，.\\*? 后面多个问号，代表非贪婪模式，也就是说只匹配符合条件的最少字符后面的一个 .\\* **没有括号包围，所以不是分组**，匹配效果和第一个一样，但是不计入匹配结果中。\n",
    " \n",
    "matchObj.group() 等同于 matchObj.group(0)，表示匹配到的完整文本字符\n",
    "\n",
    "matchObj.group(1) 得到第一组匹配结果，也就是(.\\*)匹配到的\n",
    "\n",
    "matchObj.group(2) 得到第二组匹配结果，也就是(.\\*?)匹配到的\n",
    "\n",
    "因为只有匹配结果中只有两组，所以如果填 3 时会报错。"
   ]
  },
  {
   "cell_type": "markdown",
   "id": "5d704726",
   "metadata": {},
   "source": [
    "## 检索和替换re.sub( )\n",
    "Python 的 re 模块提供了re.sub用于替换字符串中的匹配项。\n",
    "\n",
    "语法：\n",
    "re.sub(pattern, repl, string, count=0, flags=0)\n",
    "\n",
    "参数：\n",
    "* pattern : 正则中的模式字符串。\n",
    "* repl : 替换的字符串，也可为一个函数。\n",
    "* string : 要被查找替换的原始字符串。\n",
    "* count : 模式匹配后替换的最大次数，默认 0 表示替换所有的匹配。"
   ]
  },
  {
   "cell_type": "code",
   "execution_count": 2,
   "id": "c932408c",
   "metadata": {
    "ExecuteTime": {
     "end_time": "2021-11-24T09:44:33.945170Z",
     "start_time": "2021-11-24T09:44:33.937879Z"
    }
   },
   "outputs": [
    {
     "name": "stdout",
     "output_type": "stream",
     "text": [
      "电话号码是： 2004-959-559 \n",
      "现在的电话号码是： 2004959559\n"
     ]
    }
   ],
   "source": [
    "import re\n",
    "text = \"2004-959-559 # 这是一个国外电话号码\"\n",
    "number = re.sub(r'#.*', \"\", text)\n",
    "print(\"电话号码是：\", number)\n",
    "# 删除非数字(-)的字符串\n",
    "number = re.sub(r'\\D', \"\", number)\n",
    "print(\"现在的电话号码是：\", number)"
   ]
  },
  {
   "cell_type": "code",
   "execution_count": 4,
   "id": "010826b1",
   "metadata": {
    "ExecuteTime": {
     "end_time": "2021-11-24T03:51:01.509412Z",
     "start_time": "2021-11-24T03:51:01.504942Z"
    }
   },
   "outputs": [
    {
     "name": "stdout",
     "output_type": "stream",
     "text": [
      "A46G8HFD101214\n"
     ]
    }
   ],
   "source": [
    "import re\n",
    " \n",
    "# 将匹配的数字乘以 2\n",
    "def double(matched):\n",
    "    value = int(matched.group('value'))\n",
    "    return str(value * 2)\n",
    " \n",
    "s = 'A23G4HFD567'\n",
    "print(re.sub('(?P<value>\\d)', double, s))"
   ]
  },
  {
   "cell_type": "markdown",
   "id": "73857f2f",
   "metadata": {},
   "source": [
    "## re.compile( )函数\n",
    "compile()函数用于编译正则表达式，生成一个正则表达式（ Pattern ）对象，供 match() 和 search() 这两个函数使用。\n",
    "\n",
    "语法格式为：\n",
    "\n",
    "re.compile(pattern[, flags])\n",
    "\n",
    "参数：\n",
    "\n",
    "* pattern : 一个字符串形式的正则表达式\n",
    "* flags : 可选，表示匹配模式，比如忽略大小写，多行模式等，具体参数为：\n",
    "* re.I 忽略大小写\n",
    "* re.L 表示特殊字符集 \\w, \\W, \\b, \\B, \\s, \\S 依赖于当前环境\n",
    "* re.M 多行模式\n",
    "* re.S 即为 . 并且包括换行符在内的任意字符（. 不包括换行符）\n",
    "* re.U 表示特殊字符集 \\w, \\W, \\b, \\B, \\d, \\D, \\s, \\S 依赖于 Unicode 字符属性数据库\n",
    "* re.X 为了增加可读性，忽略空格和 # 后面的注释"
   ]
  },
  {
   "cell_type": "code",
   "execution_count": 13,
   "id": "05b71aa9",
   "metadata": {
    "ExecuteTime": {
     "end_time": "2021-11-24T10:07:29.048098Z",
     "start_time": "2021-11-24T10:07:29.041830Z"
    }
   },
   "outputs": [
    {
     "name": "stdout",
     "output_type": "stream",
     "text": [
      "None\n",
      "<re.Match object; span=(3, 5), match='12'>\n",
      "(3, 5)\n"
     ]
    }
   ],
   "source": [
    "pattern = re.compile(r'\\d+')                    # 至少匹配一个数字\n",
    "m = pattern.match(\"one12twothree34four\")        # 查找头部，没有匹配\n",
    "print(m)\n",
    "m = pattern.match('one12twothree34four', 3, 10) # 从'1'的位置开始匹配，正好匹配\n",
    "print(m)\n",
    "n = pattern.search(\"one12twothree34four\")       # 查找全部，有匹配\n",
    "print(n.span())"
   ]
  },
  {
   "cell_type": "markdown",
   "id": "1312864d",
   "metadata": {
    "ExecuteTime": {
     "end_time": "2021-11-22T08:43:40.864204Z",
     "start_time": "2021-11-22T08:43:40.860196Z"
    }
   },
   "source": [
    "## 转义字符\n",
    "* '\\'表示转义字符。如：'\\n'表示换行，'\\t'表示制表，但要表示真正的反斜杠：'\\\\\\\\'\n",
    "* 但是反斜杠可以使用r\"\\\\\"来表示"
   ]
  },
  {
   "cell_type": "code",
   "execution_count": 45,
   "id": "0bbdc1da",
   "metadata": {
    "ExecuteTime": {
     "end_time": "2021-11-22T09:06:08.377406Z",
     "start_time": "2021-11-22T09:06:08.374047Z"
    }
   },
   "outputs": [
    {
     "name": "stdout",
     "output_type": "stream",
     "text": [
      "match it!\n"
     ]
    }
   ],
   "source": [
    "if re.search(\"\\\\\\\\\", \"i have a nee\\dle\"):\n",
    "    print(\"match it!\")\n",
    "else:\n",
    "    print(\"no match!\")"
   ]
  },
  {
   "cell_type": "code",
   "execution_count": 24,
   "id": "ef34347a",
   "metadata": {
    "ExecuteTime": {
     "end_time": "2021-11-23T13:05:33.502308Z",
     "start_time": "2021-11-23T13:05:33.498770Z"
    }
   },
   "outputs": [
    {
     "name": "stdout",
     "output_type": "stream",
     "text": [
      "match it!\n"
     ]
    }
   ],
   "source": [
    "if re.search(r\"\\\\\", \"i have a nee\\dle\"):\n",
    "    print(\"match it!\")\n",
    "else:\n",
    "    print(\"no match!\")"
   ]
  },
  {
   "cell_type": "markdown",
   "id": "a7d5b032",
   "metadata": {
    "ExecuteTime": {
     "end_time": "2021-11-23T02:36:00.080893Z",
     "start_time": "2021-11-23T02:35:15.066801Z"
    }
   },
   "source": [
    "## re.findall( )函数\n",
    "* re.findall()在字符串中找到正则表达式所匹配的所有子串，并返回一个列表，如果没有找到匹配的，则返回空列表。\n",
    "\n",
    "* 注意： match 和 search 是匹配一次 findall 匹配所有。\n",
    "\n",
    "\n",
    "* **string**: 待匹配的字符串。\n",
    "* **pos**: 可选参数，指定字符串的起始位置，默认为 0。\n",
    "* **endpos**: 可选参数，指定字符串的结束位置，默认为字符串的长度。\n",
    "\n",
    "**圆括号分组匹配使得findall返回元组，几对圆括号元组中就有几个元素，保留空匹配。**"
   ]
  },
  {
   "cell_type": "code",
   "execution_count": 37,
   "id": "62ada367",
   "metadata": {
    "ExecuteTime": {
     "end_time": "2021-11-24T11:26:50.960954Z",
     "start_time": "2021-11-24T11:26:50.955456Z"
    }
   },
   "outputs": [
    {
     "name": "stdout",
     "output_type": "stream",
     "text": [
      "['2', '0', '2', '0', '2', '0', '2', '1', '2', '0', '2', '2']\n",
      "[]\n",
      "[]\n",
      "['#4455ff']\n",
      "['#eeD3ff']\n",
      "[]\n"
     ]
    }
   ],
   "source": [
    "text = \"2020 and 2021 were not good years, but 2022 will be better!\"\n",
    "years_string_1 = re.findall('\\d', text) # 找到所有单个数字\n",
    "print(years_string_1)\n",
    "years_string_2 = re.findall(r'(\\d{4})\\s(\\w{2,5})', text) # 找到所有年份\n",
    "years_string_2\n",
    "text_ip = \"#113355ff,s#112233,#4455ff,#eeD3ff,#zz09ab\"\n",
    "strings = text_ip.split(',')\n",
    "for strs in strings:\n",
    "    year_string_3 = re.findall(r'\\A#[a-fA-F0-9]{6}\\b', strs)\n",
    "    print(year_string_3)"
   ]
  },
  {
   "cell_type": "code",
   "execution_count": 27,
   "id": "a763d400",
   "metadata": {
    "ExecuteTime": {
     "end_time": "2021-11-24T10:40:34.318749Z",
     "start_time": "2021-11-24T10:40:34.311562Z"
    }
   },
   "outputs": [
    {
     "name": "stdout",
     "output_type": "stream",
     "text": [
      "[('abcdefg  acbdgef', 'abcdefg'), ('abcdgfe  cadbgfe', 'abcdgfe')]\n",
      "['abcdefg', 'abcdgfe']\n",
      "['abcdefg  acbdgef', 'abcdgfe  cadbgfe']\n"
     ]
    }
   ],
   "source": [
    "import re\n",
    "\n",
    "string = \"abcdefg  acbdgef  abcdgfe  cadbgfe\"\n",
    "\n",
    "#带括号与不带括号的区别\n",
    "regex = re.compile(\"((\\w+)\\s+\\w+)\")\n",
    "print(regex.findall(string))\n",
    "#输出：[('abcdefg  acbdgef', 'abcdefg'), ('abcdgfe  cadbgfe', 'abcdgfe')]\n",
    "\n",
    "regex1 = re.compile(\"(\\w+)\\s+\\w+\")\n",
    "print(regex1.findall(string))\n",
    "#输出：['abcdefg', 'abcdgfe']\n",
    "\n",
    "regex2 = re.compile(\"\\w+\\s+\\w+\")\n",
    "print(regex2.findall(string))\n",
    "#输出：['abcdefg  acbdgef', 'abcdgfe  cadbgfe']"
   ]
  },
  {
   "cell_type": "markdown",
   "id": "a88fc0cc",
   "metadata": {
    "ExecuteTime": {
     "end_time": "2021-11-24T10:40:58.284902Z",
     "start_time": "2021-11-24T10:40:58.278947Z"
    }
   },
   "source": [
    "第一个 regex 中带有2个括号，我们可以看到其输出是一个list中包含2个tuple。括号从外到内看！！\n",
    "\n",
    "第二个 regex 中带有1个括号，其输出的内容就是括号匹配到的内容，而不是整个表达式所匹配到的结果。\n",
    "\n",
    "第三个 regex 中不带有括号，其输出的内容就是整个表达式所匹配到的内容。\n",
    "\n",
    "findall()返回的是括号所匹配到的结果，多个括号就会返回多个括号分别匹配到的结果，\n",
    "如果没有括号就返回就返回整条语句所匹配到的结果。"
   ]
  },
  {
   "cell_type": "markdown",
   "id": "0666e711",
   "metadata": {},
   "source": [
    "* ***Example:GPS坐标的正则表达式**\n",
    "\n",
    "从字符串 \"http://...maps/@34.0551066,-118.249673...\" 与 \"Zig Zag Cafe is at 45.344, -121.9431 on my GPS!\"中提取出经纬度。"
   ]
  },
  {
   "cell_type": "code",
   "execution_count": 42,
   "id": "a5d072df",
   "metadata": {
    "ExecuteTime": {
     "end_time": "2021-11-24T11:37:28.227508Z",
     "start_time": "2021-11-24T11:37:28.221629Z"
    }
   },
   "outputs": [
    {
     "data": {
      "text/plain": [
       "[('34.0551066', '-118.249673')]"
      ]
     },
     "execution_count": 42,
     "metadata": {},
     "output_type": "execute_result"
    }
   ],
   "source": [
    "lat = r'([-]?[0-9]?[0-9].[0-9]{2,10})'\n",
    "lon = r'([-]?[1]?[0-9]?[0-9].[0-9]{2,10})'\n",
    "sep = r'[,/ ]{1,3}'\n",
    "pattern_gps = re.compile(lat + sep + lon)\n",
    "pattern_gps.findall(\"http://...maps/@34.0551066,-118.249673...\")"
   ]
  },
  {
   "cell_type": "code",
   "execution_count": 43,
   "id": "e87215ce",
   "metadata": {
    "ExecuteTime": {
     "end_time": "2021-11-24T11:37:28.551088Z",
     "start_time": "2021-11-24T11:37:28.543997Z"
    }
   },
   "outputs": [
    {
     "data": {
      "text/plain": [
       "[('45.344', '-121.9431')]"
      ]
     },
     "execution_count": 43,
     "metadata": {},
     "output_type": "execute_result"
    }
   ],
   "source": [
    "pattern_gps.findall(\"Zig Zag Cafe is at 45.344, -121.9431 on my GPS!\")"
   ]
  },
  {
   "cell_type": "code",
   "execution_count": 44,
   "id": "e2db4148",
   "metadata": {
    "ExecuteTime": {
     "end_time": "2021-11-24T11:37:35.269163Z",
     "start_time": "2021-11-24T11:37:35.265187Z"
    }
   },
   "outputs": [
    {
     "data": {
      "text/plain": [
       "re.compile(r'([-]?[0-9]?[0-9].[0-9]{2,10})[,/ ]{1,3}([-]?[1]?[0-9]?[0-9].[0-9]{2,10})',\n",
       "re.UNICODE)"
      ]
     },
     "execution_count": 44,
     "metadata": {},
     "output_type": "execute_result"
    }
   ],
   "source": [
    "# 正则表达式：r'([-]?[0-9]?[0-9].[0-9]{2,10})[,/ ]{1,3}([-]?[1]?[0-9]?[0-9].[0-9]{2,10})'\n",
    "pattern_gps"
   ]
  },
  {
   "cell_type": "code",
   "execution_count": null,
   "id": "7a35a886",
   "metadata": {},
   "outputs": [],
   "source": []
  }
 ],
 "metadata": {
  "kernelspec": {
   "display_name": "NLP_env",
   "language": "python",
   "name": "np_env"
  },
  "language_info": {
   "codemirror_mode": {
    "name": "ipython",
    "version": 3
   },
   "file_extension": ".py",
   "mimetype": "text/x-python",
   "name": "python",
   "nbconvert_exporter": "python",
   "pygments_lexer": "ipython3",
   "version": "3.9.7"
  },
  "latex_envs": {
   "LaTeX_envs_menu_present": true,
   "autoclose": true,
   "autocomplete": true,
   "bibliofile": "biblio.bib",
   "cite_by": "apalike",
   "current_citInitial": 1,
   "eqLabelWithNumbers": true,
   "eqNumInitial": 1,
   "hotkeys": {
    "equation": "Ctrl-E",
    "itemize": "Ctrl-I"
   },
   "labels_anchors": false,
   "latex_user_defs": false,
   "report_style_numbering": false,
   "user_envs_cfg": false
  },
  "toc": {
   "base_numbering": 1,
   "nav_menu": {},
   "number_sections": true,
   "sideBar": true,
   "skip_h1_title": false,
   "title_cell": "Table of Contents",
   "title_sidebar": "Contents",
   "toc_cell": false,
   "toc_position": {
    "height": "calc(100% - 180px)",
    "left": "10px",
    "top": "150px",
    "width": "205.797px"
   },
   "toc_section_display": true,
   "toc_window_display": true
  }
 },
 "nbformat": 4,
 "nbformat_minor": 5
}
